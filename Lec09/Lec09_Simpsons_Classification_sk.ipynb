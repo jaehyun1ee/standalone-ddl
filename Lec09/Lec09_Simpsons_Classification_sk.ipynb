{
  "nbformat": 4,
  "nbformat_minor": 0,
  "metadata": {
    "colab": {
      "name": "Lec09_Simpsons_Classification_sk.ipynb",
      "version": "0.3.2",
      "provenance": [],
      "collapsed_sections": [],
      "include_colab_link": true
    },
    "kernelspec": {
      "name": "python3",
      "display_name": "Python 3"
    },
    "accelerator": "GPU"
  },
  "cells": [
    {
      "cell_type": "markdown",
      "metadata": {
        "id": "view-in-github",
        "colab_type": "text"
      },
      "source": [
        "<a href=\"https://colab.research.google.com/github/wenko99/Standalone_DDL/blob/master/Lec09/Lec09_Simpsons_Classification_sk.ipynb\" target=\"_parent\"><img src=\"https://colab.research.google.com/assets/colab-badge.svg\" alt=\"Open In Colab\"/></a>"
      ]
    },
    {
      "cell_type": "markdown",
      "metadata": {
        "id": "0Pln6eALmrqg",
        "colab_type": "text"
      },
      "source": [
        "#Simpsons Classification\n",
        "\n",
        "<br/>\n",
        "\n",
        "![The Simpsons Family](data:image/jpeg;base64,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)\n",
        "\n",
        "<br/>\n",
        "\n",
        "오늘의 코딩실습은, **The Simpsons** 애니메이션에 나오는 등장인물들의 이미지를 분류하는 것입니다!\n",
        "\n",
        "Simpson 가족의 구성원인, Abraham, Homer, Marge, Bart, Lisa, Maggie Simpson의 사진들을 분류하는 것이죠.\n",
        "\n",
        "지난 시간까지 다룬 EMNIST Dataset과는 다르게, 컬러 사진이 들어갑니다. 또한, 사진의 크기도 더 큽니다!\n",
        "\n",
        "또, Dataset의 크기가 더 작아졌습니다!\n",
        "\n",
        "좋은 Model을 Train시키기가 더 어려워졌겠죠?\n",
        "\n",
        "적절한 Hyperparameter 조합을 찾고, Image Augmentation을 통해 Dataset을 늘려주면 좋은 Model을 만들 수 있지 않을까요?!\n",
        "\n",
        "<br/>\n",
        "\n",
        "아래는 이번 코딩실습에서 해야 할 일들입니다.\n",
        "\n",
        "직접 구현해야 하는 부분들은 **BOLD**처리했습니다.\n",
        "\n",
        "1. Download Simpsons Dataset\n",
        "\n",
        "2. Preprocess Simpsons Dataset\n",
        "\n",
        "3. Data Visualization\n",
        "\n",
        "4. **Image Augmentation : Manually / via Keras**\n",
        "\n",
        "5. **Construct Model**\n",
        "\n",
        "6. Train Model\n",
        "\n",
        "7. Model Visualization\n",
        "\n",
        "8. Export Model\n",
        "\n",
        "<br/>\n",
        "\n",
        "본격적으로 **Simpsons Classification**을 시작해 봅시다!\n",
        "\n",
        "<br/>\n",
        "\n",
        "Dataset from, [[Kaggle](https://www.kaggle.com/alexattia/the-simpsons-characters-dataset)]\n",
        "\n",
        "<br/>"
      ]
    },
    {
      "cell_type": "markdown",
      "metadata": {
        "id": "eaNtWX7EmJN2",
        "colab_type": "text"
      },
      "source": [
        "##Download Simpsons Datset\n",
        "\n",
        "<br/>\n",
        "\n",
        "먼저, Dataset을 준비해야겠죠?\n",
        "\n",
        "Google Drive와 Google Colab을 연동시켜 줄까요?\n",
        "\n",
        "본인의 Google Drive 첫 화면에 Simpsons 폴더를 생성하신 후, 안에 simpsons_dataset 폴더를 업로드해 주세요!\n",
        "\n",
        "첫 코드 셀을 실행하면 나오는 링크를 타고 가셔서, Google Drive에 대한 접근을 허용해주신 후, Authorization Code를 빈칸에 채워 넣어 주세요!\n",
        "\n",
        "아래의 코드 셀들을 모두 실행했을 때, **simpsons_dataset**이 나오면 잘 하신 것입니다!\n",
        "\n",
        "<br/>"
      ]
    },
    {
      "cell_type": "code",
      "metadata": {
        "id": "wBt0KVB7lVjM",
        "colab_type": "code",
        "outputId": "f695bac9-644b-49a6-89db-49b4b2300ac2",
        "colab": {
          "base_uri": "https://localhost:8080/",
          "height": 55
        }
      },
      "source": [
        "from google.colab import drive\n",
        "drive.mount('/content/drive/')"
      ],
      "execution_count": 0,
      "outputs": [
        {
          "output_type": "stream",
          "text": [
            "Drive already mounted at /content/drive/; to attempt to forcibly remount, call drive.mount(\"/content/drive/\", force_remount=True).\n"
          ],
          "name": "stdout"
        }
      ]
    },
    {
      "cell_type": "code",
      "metadata": {
        "id": "-FsBsBTIp6IP",
        "colab_type": "code",
        "outputId": "c3310417-c490-4cbd-847d-6a0c2420e13b",
        "colab": {
          "base_uri": "https://localhost:8080/",
          "height": 35
        }
      },
      "source": [
        "cd drive/My Drive/Simpsons"
      ],
      "execution_count": 0,
      "outputs": [
        {
          "output_type": "stream",
          "text": [
            "/content/drive/My Drive/Colab Notebooks/DDL/Simpsons\n"
          ],
          "name": "stdout"
        }
      ]
    },
    {
      "cell_type": "code",
      "metadata": {
        "id": "geoF7_sBp8wI",
        "colab_type": "code",
        "outputId": "7349c45f-a722-4910-d76a-944ecc06f291",
        "colab": {
          "base_uri": "https://localhost:8080/",
          "height": 71
        }
      },
      "source": [
        "ls"
      ],
      "execution_count": 0,
      "outputs": [
        {
          "output_type": "stream",
          "text": [
            "jaehyunlee_googlenet_simpsonslab_architecture.json  \u001b[0m\u001b[01;34msimpsons_dataset\u001b[0m/\n",
            "jaehyunlee_googlenet_simpsonslab_weights.h5         \u001b[01;34msimpsons_models\u001b[0m/\n",
            "may_be_marge.jpg                                    \u001b[01;34msimpsons_testset\u001b[0m/\n"
          ],
          "name": "stdout"
        }
      ]
    },
    {
      "cell_type": "markdown",
      "metadata": {
        "id": "gBI_bAHMp9nL",
        "colab_type": "text"
      },
      "source": [
        "## Preprocess Simpsons Dataset\n",
        "\n",
        "<br/>\n",
        "\n",
        "simpsons_dataset 안에는 여러 폴더들이 있습니다.\n",
        "\n",
        "각 폴더명은 애니메이션의 캐릭터 이름인데요, 각각의 폴더 안에는 캐릭터들의 사진이 있습니다.\n",
        "\n",
        "우선 이러한 이미지들을 변수에 저장해 주어야겠죠?\n",
        "\n",
        "그러려면, jpg 파일을 RGB 채널을 가진 Tensor로 바꿔 주어야 할 것입니다.\n",
        "\n",
        "Simpsons Dataset을 불러와서 Feature들을 **simpsons_data**, Label들을 **simpsons_labels**에 넣은 후,\n",
        "\n",
        "**train_data**, **train_labels**, **val_data**, **val_labels**로 구분해 줍시다!\n",
        "\n",
        "오늘의 목표는 **Image Augmentation**이므로, Preprocessing Code는 제공해 드리겠습니다 ; )\n",
        "\n",
        "<br/>"
      ]
    },
    {
      "cell_type": "code",
      "metadata": {
        "id": "2kkERNAD0JGG",
        "colab_type": "code",
        "colab": {}
      },
      "source": [
        "import os\n",
        "import numpy as np\n",
        "import skimage as im"
      ],
      "execution_count": 0,
      "outputs": []
    },
    {
      "cell_type": "code",
      "metadata": {
        "id": "N2KsjeCdVWh8",
        "colab_type": "code",
        "colab": {}
      },
      "source": [
        "characters = ['abraham_grampa_simpson', 'maggie_simpson', 'bart_simpson', 'lisa_simpson', 'marge_simpson', 'homer_simpson']"
      ],
      "execution_count": 0,
      "outputs": []
    },
    {
      "cell_type": "markdown",
      "metadata": {
        "id": "Q2jyOb3mH4tl",
        "colab_type": "text"
      },
      "source": [
        "###JPG to CSV\n",
        "\n",
        "<br/>\n",
        "\n",
        "원래 JPG 형식으로 저장되어 있던 사진들을 (64, 64, 3)으로 Resize한 뒤, RGB 값을 받아 CSV 파일로 저장했습니다.\n",
        "\n",
        "여러분이 받으신 파일은 이미 아래 코드가 실행되어 나온 CSV 파일들이니, 아래 코드 셀은 실행하지 않고 넘어가셔도 됩니다.\n",
        "\n",
        "혹시 나중에 JPG 파일을 CSV 파일로 변환할 일이 생긴다면, 아래 코드를 사용해 보세요!\n",
        "\n",
        "<br/>"
      ]
    },
    {
      "cell_type": "code",
      "metadata": {
        "id": "ni-eM-UUBckn",
        "colab_type": "code",
        "colab": {}
      },
      "source": [
        "dirname = './simpsons_dataset/'\n",
        "for i in range(len(characters)):\n",
        "    data = []\n",
        "    print('\\n' + characters[i] + '\\n')\n",
        "    total = len(os.listdir(dirname + characters[i]))\n",
        "    cnt = 0\n",
        "    for filename in os.listdir(dirname + characters[i]):\n",
        "        path = os.path.join(dirname + characters[i], filename)\n",
        "        img = im.io.imread(path)\n",
        "        img = np.array(im.transform.resize(img, (64, 64, 3)))\n",
        "        img = img.flatten()\n",
        "        img = np.append(i, img)\n",
        "        data.append(img)\n",
        "        cnt += 1\n",
        "        if cnt % 100 == 0:\n",
        "            print(str(cnt / total * 100) + '%')\n",
        "    with open(dirname + characters[i] + '.csv', 'wb') as f:\n",
        "        print('Data saved onto {}'.format(dirname + characters[i] + '.csv'))\n",
        "        np.savetxt(f, data, delimiter=',')"
      ],
      "execution_count": 0,
      "outputs": []
    },
    {
      "cell_type": "markdown",
      "metadata": {
        "id": "yRxFLCqmPkPk",
        "colab_type": "text"
      },
      "source": [
        "###Load CSV Files\n",
        "\n",
        "<br/>\n",
        "\n",
        "각 캐릭터의 사진 정보들이 담긴 CSV 파일을 열어서, \n",
        "\n",
        "Feature들은 **simpsons_data**에, Label들은 **simpsons_labels**에 저장합니다.\n",
        "\n",
        "둘을 Shuffle시킨 후, **simpsons_data**를 **train_data**, **val_data**로, **simpsons_labels**를 **train_labels**, **val_labels**로 구분해 줍니다!\n",
        "\n",
        "사진은 총 7274장이 있고, Label은 총 6개인 것을 알 수 있죠?\n",
        "\n",
        "<br/>"
      ]
    },
    {
      "cell_type": "code",
      "metadata": {
        "id": "-wK7v839YGC0",
        "colab_type": "code",
        "colab": {}
      },
      "source": [
        "import pandas as pd"
      ],
      "execution_count": 0,
      "outputs": []
    },
    {
      "cell_type": "code",
      "metadata": {
        "id": "UnLZHTt2VOga",
        "colab_type": "code",
        "colab": {}
      },
      "source": [
        "frames = []\n",
        "\n",
        "dirname = 'simpsons_dataset/'\n",
        "ext = '.csv'\n",
        "bookmark = 0\n",
        "for i in range(len(characters)):\n",
        "    path = dirname + characters[i] + ext\n",
        "    frames.append(pd.read_csv(path, header=None))\n",
        "\n",
        "# Concatenate all Dataframes\n",
        "df = pd.concat(frames, ignore_index=True)"
      ],
      "execution_count": 0,
      "outputs": []
    },
    {
      "cell_type": "code",
      "metadata": {
        "id": "EufcNx7yYgII",
        "colab_type": "code",
        "colab": {}
      },
      "source": [
        "# Shuffle Dataset\n",
        "np.random.seed(6)\n",
        "df = df.reindex(np.random.permutation(df.index))\n",
        "\n",
        "# Separate into Feature / Label\n",
        "simpsons_data = df.iloc[:,1 : ].values\n",
        "simpsons_labels = df.iloc[:, 0].values.astype(int)"
      ],
      "execution_count": 0,
      "outputs": []
    },
    {
      "cell_type": "code",
      "metadata": {
        "id": "bE3YLXBe8moT",
        "colab_type": "code",
        "outputId": "f63eb03c-7189-46c6-be22-df5d826bf25b",
        "colab": {
          "base_uri": "https://localhost:8080/",
          "height": 53
        }
      },
      "source": [
        "# Check Shape\n",
        "print('Simpsons Data Shape : {}'.format(str(simpsons_data.shape)))\n",
        "print('Simpsons Label Shape : {}'.format(str(simpsons_labels.shape)))"
      ],
      "execution_count": 0,
      "outputs": [
        {
          "output_type": "stream",
          "text": [
            "Simpsons Data Shape : (7274, 12288)\n",
            "Simpsons Label Shape : (7274,)\n"
          ],
          "name": "stdout"
        }
      ]
    },
    {
      "cell_type": "code",
      "metadata": {
        "id": "YQcif4XIdKtH",
        "colab_type": "code",
        "colab": {}
      },
      "source": [
        "# Separate into Train / Val\n",
        "n_train_data = round(len(simpsons_labels) * 0.7)\n",
        "train_data = simpsons_data[ : n_train_data]\n",
        "train_labels = simpsons_labels[ : n_train_data]\n",
        "val_data = simpsons_data[n_train_data : ]\n",
        "val_labels = simpsons_labels[n_train_data : ]"
      ],
      "execution_count": 0,
      "outputs": []
    },
    {
      "cell_type": "code",
      "metadata": {
        "id": "ZPkDqvn7dkvM",
        "colab_type": "code",
        "outputId": "64d75e6f-39f1-45c1-8991-ecad359d6e36",
        "colab": {
          "base_uri": "https://localhost:8080/",
          "height": 89
        }
      },
      "source": [
        "# Check Shape\n",
        "print('Train Data Shape : {}'.format(str(train_data.shape)))\n",
        "print('Train Label Shape : {}'.format(str(train_labels.shape)))\n",
        "print('Validation Data Shape : {}'.format(str(val_data.shape)))\n",
        "print('Validation Label Shape : {}'.format(str(val_labels.shape)))"
      ],
      "execution_count": 0,
      "outputs": [
        {
          "output_type": "stream",
          "text": [
            "Train Data Shape : (5092, 12288)\n",
            "Train Label Shape : (5092,)\n",
            "Validation Data Shape : (2182, 12288)\n",
            "Validation Label Shape : (2182,)\n"
          ],
          "name": "stdout"
        }
      ]
    },
    {
      "cell_type": "markdown",
      "metadata": {
        "id": "CnkWpDHjeq3t",
        "colab_type": "text"
      },
      "source": [
        "##Data Visualization\n",
        "\n",
        "<br/>\n",
        "\n",
        "전처리한 Data가 실제로 어떻게 생겼는지를 봐야겠죠?\n",
        "\n",
        "**train_data**를 $(5092, 64, 64, 3)$으로 reshape하고, **val_data**를 $(2192, 64, 64, 3)$으로 reshape합니다.\n",
        "\n",
        "그 다음, 아래의 **visualize** 함수로 사진들을 출력할 수 있습니다!\n",
        "\n",
        "<br/>"
      ]
    },
    {
      "cell_type": "code",
      "metadata": {
        "id": "4Gh59tRqfNB5",
        "colab_type": "code",
        "colab": {}
      },
      "source": [
        "# Reshape Vector into Tensor\n",
        "train_data = train_data.reshape((train_data.shape[0], 64, 64, -1))\n",
        "val_data = val_data.reshape((val_data.shape[0], 64, 64, -1))"
      ],
      "execution_count": 0,
      "outputs": []
    },
    {
      "cell_type": "code",
      "metadata": {
        "id": "NkO2aVRVfZ0Z",
        "colab_type": "code",
        "outputId": "f7255310-eb49-4917-8b38-3693eedbc989",
        "colab": {
          "base_uri": "https://localhost:8080/",
          "height": 89
        }
      },
      "source": [
        "# Check Shape\n",
        "print('Train Data Shape : {}'.format(str(train_data.shape)))\n",
        "print('Train Label Shape : {}'.format(str(train_labels.shape)))\n",
        "print('Validation Data Shape : {}'.format(str(val_data.shape)))\n",
        "print('Validation Label Shape : {}'.format(str(val_labels.shape)))"
      ],
      "execution_count": 0,
      "outputs": [
        {
          "output_type": "stream",
          "text": [
            "Train Data Shape : (5092, 64, 64, 3)\n",
            "Train Label Shape : (5092,)\n",
            "Validation Data Shape : (2182, 64, 64, 3)\n",
            "Validation Label Shape : (2182,)\n"
          ],
          "name": "stdout"
        }
      ]
    },
    {
      "cell_type": "code",
      "metadata": {
        "id": "t4R1grdFfdI5",
        "colab_type": "code",
        "colab": {}
      },
      "source": [
        "import matplotlib.pyplot as plt"
      ],
      "execution_count": 0,
      "outputs": []
    },
    {
      "cell_type": "code",
      "metadata": {
        "id": "FhWOTjuufh-S",
        "colab_type": "code",
        "outputId": "de4aba73-fb7f-4b64-d1ef-277d1db2d42c",
        "colab": {
          "base_uri": "https://localhost:8080/",
          "height": 299
        }
      },
      "source": [
        "def visualize(data, labels, idx=0):\n",
        "    fig = plt.figure()\n",
        "    for i in range(6):\n",
        "        ax = fig.add_subplot(2, 3, i + 1)\n",
        "        image = data[idx]\n",
        "        ax.imshow(image)\n",
        "        ax.set_title(characters[labels[idx]][:-8])\n",
        "        idx += 1\n",
        "    plt.subplots_adjust(hspace = 0.5, wspace = 0.3)\n",
        "    plt.show()\n",
        "\n",
        "    print(\"The shape of the image is {}\".format(image.shape))\n",
        "\n",
        "visualize(train_data, train_labels, 0)"
      ],
      "execution_count": 0,
      "outputs": [
        {
          "output_type": "display_data",
          "data": {
            "image/png": "[encoded data removed]",
            "text/plain": [
              "<Figure size 432x288 with 6 Axes>"
            ]
          },
          "metadata": {
            "tags": []
          }
        },
        {
          "output_type": "stream",
          "text": [
            "The shape of the image is (64, 64, 3)\n"
          ],
          "name": "stdout"
        }
      ]
    },
    {
      "cell_type": "markdown",
      "metadata": {
        "id": "jRsXK-zV9BvP",
        "colab_type": "text"
      },
      "source": [
        "##Image Augmentation (Manually)\n",
        "\n",
        "<br/>\n",
        "\n",
        "우리가 가지고 있는 Training Set은 5092개 뿐입니다. \n",
        "\n",
        "Label이 6개이므로, Label당 대강 800장의 사진이 있는 것인데요, 64 * 64 * 3 = 12288개의 Feature를 가진 사진들을 Input으로 학습시키기에는 그 양이 부족합니다.\n",
        "\n",
        "또한, 우리가 가지고 있는 사진이 General한 사진들이 아닐 수도 있습니다.\n",
        "\n",
        "가령, 왼쪽만 보고 있는 Homer Simpson만 있을 수도 있는 것이죠!\n",
        "\n",
        "따라서, Image Augmentation을 통해 Image를 변형시켜, 더 General하고, 더 큰 Dataset을 만들어 주어야 합니다.\n",
        "\n",
        "이미지를 뒤집어서 Dataset에 추가해 주는 작업을 해볼까요?\n",
        "\n",
        "아래의 **flip_horizontal**, **filp_vertical** function들을 완성해 보세요!\n",
        "\n",
        "<br/>"
      ]
    },
    {
      "cell_type": "markdown",
      "metadata": {
        "id": "JmXtVqhj-KYE",
        "colab_type": "text"
      },
      "source": [
        "###flip_horizontal\n",
        "\n",
        "<br/>\n",
        "\n",
        "input : **image**, which is a numpy array with shape (64, 64, 3)\n",
        "\n",
        "flip the **image** along a horizontal axis in the middle and save the result to **image_flipped**\n",
        "\n",
        "output : **image_flipped**, which is a numpy array with shape (64, 64, 3)\n",
        "\n",
        "**hint** : [[np.fliplr](https://docs.scipy.org/doc/numpy/reference/generated/numpy.fliplr.html)]\n",
        "\n",
        "<br/>"
      ]
    },
    {
      "cell_type": "code",
      "metadata": {
        "id": "9UpEMtQP9_nf",
        "colab_type": "code",
        "colab": {}
      },
      "source": [
        "def flip_horizontal(image):\n",
        "    image_flipped = np.fliplr(image)\n",
        "    return image_flipped"
      ],
      "execution_count": 0,
      "outputs": []
    },
    {
      "cell_type": "markdown",
      "metadata": {
        "id": "WbGULe_u_AbO",
        "colab_type": "text"
      },
      "source": [
        "###flip_vertical\n",
        "\n",
        "<br/>\n",
        "\n",
        "input : **image**, which is a numpy array with shape (64, 64, 3)\n",
        "\n",
        "flip the **image** along a horizontal axis in the middle and save the result to **image_flipped**\n",
        "\n",
        "output : **image_flipped**, which is a numpy array with shape (64, 64, 3)\n",
        "\n",
        "**hint** : [[np.flipud](https://docs.scipy.org/doc/numpy/reference/generated/numpy.flipud.html)]\n",
        "\n",
        "<br/>"
      ]
    },
    {
      "cell_type": "code",
      "metadata": {
        "id": "50BJd9qj-Fsm",
        "colab_type": "code",
        "colab": {}
      },
      "source": [
        "def flip_vertical(image):\n",
        "    image_flipped = np.flipud(image)\n",
        "    return image_flipped"
      ],
      "execution_count": 0,
      "outputs": []
    },
    {
      "cell_type": "markdown",
      "metadata": {
        "id": "JfONW4_N_E1J",
        "colab_type": "text"
      },
      "source": [
        "###Flip Images in Training / Validation Set\n",
        "\n",
        "<br/>\n",
        "\n",
        "**train_data**의 사진들을 Horizontal하게, 그리고 Vertical하게 Flip해서 **train_data_flipped**에 저장합니다.\n",
        "\n",
        "그에 따라, **train_labels_flipped**도 만들어 주어야겠죠?\n",
        "\n",
        "Validation Set에 대해서도 위를 적용해 주세요!\n",
        "\n",
        "<br/>"
      ]
    },
    {
      "cell_type": "code",
      "metadata": {
        "id": "_3yjglGo_D0k",
        "colab_type": "code",
        "colab": {}
      },
      "source": [
        "train_data_flipped = []\n",
        "train_labels_flipped = []\n",
        "val_data_flipped = []\n",
        "val_labels_flipped = []\n",
        "\n",
        "for i in range(len(train_data)):\n",
        "    train_data_flipped.append(flip_horizontal(train_data[i]))\n",
        "    train_labels_flipped.append(train_labels[i])\n",
        "    train_data_flipped.append(flip_vertical(train_data[i]))\n",
        "    train_labels_flipped.append(train_labels[i])\n",
        "\n",
        "for i in range(len(val_data)):\n",
        "    val_data_flipped.append(flip_horizontal(val_data[i]))\n",
        "    val_labels_flipped.append(val_labels[i])\n",
        "    val_data_flipped.append(flip_vertical(val_data[i]))\n",
        "    val_labels_flipped.append(val_labels[i])\n",
        "    \n",
        "train_data_flipped = np.array(train_data_flipped)\n",
        "train_labels_flipped = np.array(train_labels_flipped)\n",
        "val_data_flipped = np.array(val_data_flipped)\n",
        "val_labels_flipped = np.array(val_labels_flipped)"
      ],
      "execution_count": 0,
      "outputs": []
    },
    {
      "cell_type": "code",
      "metadata": {
        "id": "Fun-iMHDDDup",
        "colab_type": "code",
        "colab": {}
      },
      "source": [
        "# Check Shape\n",
        "print('Flipped Train Data Shape : {}'.format(str(train_data_flipped.shape)))\n",
        "print('Flipped Train Label Shape : {}'.format(str(train_labels_flipped.shape)))\n",
        "print('Flipped Validation Data Shape : {}'.format(str(val_data_flipped.shape)))\n",
        "print('Flipped Validation Label Shape : {}'.format(str(val_labels_flipped.shape)))"
      ],
      "execution_count": 0,
      "outputs": []
    },
    {
      "cell_type": "markdown",
      "metadata": {
        "id": "iGxXTHbFAXR5",
        "colab_type": "text"
      },
      "source": [
        "###Visualize Filpped Dataset\n",
        "\n",
        "<br/>\n",
        "\n",
        "Flip이 잘 되었는지 확인해 볼까요?\n",
        "\n",
        "<br/>"
      ]
    },
    {
      "cell_type": "code",
      "metadata": {
        "id": "ZDh2hEq6AT3J",
        "colab_type": "code",
        "colab": {}
      },
      "source": [
        "visualize(train_data_flipped, train_labels_flipped)\n",
        "visualize(val_data_flipped, val_labels_flipped)"
      ],
      "execution_count": 0,
      "outputs": []
    },
    {
      "cell_type": "markdown",
      "metadata": {
        "id": "xy25TaHjB-EX",
        "colab_type": "text"
      },
      "source": [
        "###Add Flipped Dataset to Original Dataset\n",
        "\n",
        "<br/>\n",
        "\n",
        "Flip된 Dataset을 원래의 Dataset에 Append해 줍니다.\n",
        "\n",
        "**train_data**에 **train_data_flipped**를 Append하고, **train_labels**에 **train_labels_flipped**를 Append하면 되겠죠?\n",
        "\n",
        "Validation Set에 대해서도 마찬가지 작업을 해주시면 됩니다.\n",
        "\n",
        "그 다음, Dataset의 Shape를 출력해 보면, Data의 개수가 원래 크기의 3배가 되었겠죠?\n",
        "\n",
        "**hint** : [[np.append](https://docs.scipy.org/doc/numpy/reference/generated/numpy.append.html)]의 **axis**에 주의하세요!\n",
        "\n",
        "<br/>"
      ]
    },
    {
      "cell_type": "code",
      "metadata": {
        "id": "3NMFxcYTCUMY",
        "colab_type": "code",
        "colab": {}
      },
      "source": [
        "train_data = np.append(train_data, train_data_flipped, axis=0)\n",
        "train_labels = np.append(train_labels, train_labels_flipped)\n",
        "val_data = np.append(val_data, val_data_flipped, axis=0)\n",
        "val_labels = np.append(val_labels, val_labels_flipped)"
      ],
      "execution_count": 0,
      "outputs": []
    },
    {
      "cell_type": "code",
      "metadata": {
        "id": "xofB3j_-Ck3f",
        "colab_type": "code",
        "colab": {}
      },
      "source": [
        "# Check Shape\n",
        "print('Train Data Shape : {}'.format(str(train_data.shape)))\n",
        "print('Train Label Shape : {}'.format(str(train_labels.shape)))\n",
        "print('Validation Data Shape : {}'.format(str(val_data.shape)))\n",
        "print('Validation Label Shape : {}'.format(str(val_labels.shape)))"
      ],
      "execution_count": 0,
      "outputs": []
    },
    {
      "cell_type": "markdown",
      "metadata": {
        "id": "ltNdI_mmGcqT",
        "colab_type": "text"
      },
      "source": [
        "##Image Augmenation (Keras)\n",
        "\n",
        "<br/>\n",
        "\n",
        "Keras의 **ImageDataGenerator**로도 Image Augmentation이 가능합니다!\n",
        "\n",
        "**ImageDataGenerator**를 통해, Image Normalization, Whitening, Rotation, Flip, Crop 등을 쉽게 할 수 있습니다.\n",
        "\n",
        "사용법은 아래와 같습니다.\n",
        "\n",
        "[[Keras ImageDataGenerator Documentation](https://keras.io/preprocessing/image/)]\n",
        "\n",
        "<br/>"
      ]
    },
    {
      "cell_type": "markdown",
      "metadata": {
        "id": "Ozl8YW29Hk59",
        "colab_type": "text"
      },
      "source": [
        "###Reset Dataset (If you Augmented the Image from Above)\n",
        "\n",
        "<br/>\n",
        "\n",
        "위에서 Dataset을 Flip하고 원래 Dataset에 추가해 주었다면, 아래 코드 셀들을 실행하여 Dataset을 Flip 이전 상태로 돌려주세요.\n",
        "\n",
        "<br/>"
      ]
    },
    {
      "cell_type": "code",
      "metadata": {
        "id": "D4cGLthIHds7",
        "colab_type": "code",
        "colab": {}
      },
      "source": [
        "# Separate into Train / Val\n",
        "n_train_data = round(len(simpsons_labels) * 0.7)\n",
        "train_data = simpsons_data[ : n_train_data]\n",
        "train_labels = simpsons_labels[ : n_train_data]\n",
        "val_data = simpsons_data[n_train_data : ]\n",
        "val_labels = simpsons_labels[n_train_data : ]\n",
        "\n",
        "# Reshape Vector into Tensor\n",
        "train_data = train_data.reshape((train_data.shape[0], 64, 64, -1))\n",
        "val_data = val_data.reshape((val_data.shape[0], 64, 64, -1))\n",
        "\n",
        "# Check Shape\n",
        "print('Train Data Shape : {}'.format(str(train_data.shape)))\n",
        "print('Train Label Shape : {}'.format(str(train_labels.shape)))\n",
        "print('Validation Data Shape : {}'.format(str(val_data.shape)))\n",
        "print('Validation Label Shape : {}'.format(str(val_labels.shape)))"
      ],
      "execution_count": 0,
      "outputs": []
    },
    {
      "cell_type": "markdown",
      "metadata": {
        "id": "ilxtt-JeLGa5",
        "colab_type": "text"
      },
      "source": [
        "###Actual Augmentation\n",
        "\n",
        "<br/>\n",
        "\n",
        "ImageDataGenerator의 **apply_transform** function을 이용하면, 사진을 원하는 대로 변형할 수 있습니다.\n",
        "\n",
        "사진을 어떻게 변형시킬지는, **transform_params** Dictionary의 값들을 조정하여 결정할 수 있습니다.\n",
        "\n",
        "Dictionary의 각 Key들이 무엇을 의미하는지는 아래에 있습니다.\n",
        "\n",
        "값들을 적절히 조절해서 사진을 변형해 보세요!\n",
        "\n",
        "<br/>\n",
        "\n",
        "###Transform Parameters Under Consideration\n",
        "\n",
        "<br/>\n",
        "\n",
        "**'theta'** : Float. Rotation angle in degrees.\n",
        "\n",
        "**'tx'** : Float. Shift in the x direction.\n",
        "\n",
        "**'ty'** : Float. Shift in the y direction.\n",
        "\n",
        "**'shear'** : Float. Shear angle in degrees.\n",
        "\n",
        "**'zx'** : Float. Zoom in the x direction.\n",
        "\n",
        "**'zy'** : Float. Zoom in the y direction.\n",
        "\n",
        "**'flip_horizontal'** : Boolean. Horizontal flip.\n",
        "\n",
        "**'flip_vertical'** : Boolean. Vertical flip.\n",
        "\n",
        "**'channel_shift_intencity'** : Float. Channel shift intensity.\n",
        "\n",
        "**'brightness'** : Float. Brightness shift intensity.\n",
        "\n",
        "<br/>"
      ]
    },
    {
      "cell_type": "code",
      "metadata": {
        "id": "aTFek5fAJCMC",
        "colab_type": "code",
        "colab": {}
      },
      "source": [
        "import tensorflow as tf"
      ],
      "execution_count": 0,
      "outputs": []
    },
    {
      "cell_type": "code",
      "metadata": {
        "id": "wDio4g9bOmpc",
        "colab_type": "code",
        "colab": {}
      },
      "source": [
        "datagen = tf.keras.preprocessing.image.ImageDataGenerator()"
      ],
      "execution_count": 0,
      "outputs": []
    },
    {
      "cell_type": "code",
      "metadata": {
        "id": "jWMPJwSHLFsA",
        "colab_type": "code",
        "colab": {}
      },
      "source": [
        "train_data_transformed = []\n",
        "train_labels_transformed = []\n",
        "val_data_transformed = []\n",
        "val_labels_transformed = []\n",
        "\n",
        "for i in range(len(train_data)):\n",
        "    train_labels_transformed.append(train_labels[i])\n",
        "    data_tmp = train_data[i] * 255\n",
        "    data_tmp = data_tmp.astype(int)\n",
        "    train_data_transformed.append(datagen.apply_transform(x=data_tmp, transform_parameters={'theta':40, 'brightness':0.8}) / 255)\n",
        "\n",
        "for i in range(len(val_data)):\n",
        "    val_labels_transformed.append(val_labels[i])\n",
        "    data_tmp = val_data[i] * 255\n",
        "    data_tmp = data_tmp.astype(int)\n",
        "    val_data_transformed.append(datagen.apply_transform(x=val_data[i] * 255, transform_parameters={'theta':40, 'brightness':0.8}) / 255)\n",
        "    \n",
        "train_data_transformed = np.array(train_data_transformed)\n",
        "train_labels_transformed = np.array(train_labels_transformed)\n",
        "val_data_transformed = np.array(val_data_transformed)\n",
        "val_labels_transformed = np.array(val_labels_transformed)"
      ],
      "execution_count": 0,
      "outputs": []
    },
    {
      "cell_type": "code",
      "metadata": {
        "id": "Hz_fk-ygO3Gt",
        "colab_type": "code",
        "colab": {}
      },
      "source": [
        "# Check Shape\n",
        "print('Transformed Train Data Shape : {}'.format(str(train_data_transformed.shape)))\n",
        "print('Transformed Train Label Shape : {}'.format(str(train_labels_transformed.shape)))\n",
        "print('Transformed Validation Data Shape : {}'.format(str(val_data_transformed.shape)))\n",
        "print('Transformed Validation Label Shape : {}'.format(str(val_labels_transformed.shape)))"
      ],
      "execution_count": 0,
      "outputs": []
    },
    {
      "cell_type": "markdown",
      "metadata": {
        "colab_type": "text",
        "id": "TrEzWoqAPDlD"
      },
      "source": [
        "###Visualize Transformed Dataset\n",
        "\n",
        "<br/>\n",
        "\n",
        "Transform이 잘 되었는지 확인해 볼까요?\n",
        "\n",
        "<br/>"
      ]
    },
    {
      "cell_type": "code",
      "metadata": {
        "id": "qettyvJOPEXR",
        "colab_type": "code",
        "colab": {}
      },
      "source": [
        "visualize(train_data_transformed, train_labels_transformed)\n",
        "visualize(val_data_transformed, val_labels_transformed)"
      ],
      "execution_count": 0,
      "outputs": []
    },
    {
      "cell_type": "markdown",
      "metadata": {
        "colab_type": "text",
        "id": "vtfiyqrzVWJl"
      },
      "source": [
        "###Add Transformed Dataset to Original Dataset\n",
        "\n",
        "<br/>\n",
        "\n",
        "Transform된 Dataset을 원래의 Dataset에 Append해 줍니다.\n",
        "\n",
        "**train_data**에 **train_data_transformed**를 Append하고, **train_labels**에 **train_labels_transformed**를 Append하면 되겠죠?\n",
        "\n",
        "Validation Set에 대해서도 마찬가지 작업을 해주시면 됩니다.\n",
        "\n",
        "그 다음, Dataset의 Shape를 출력해 보면, Data의 개수가 원래 크기의 2배가 되었겠죠?\n",
        "\n",
        "**hint** : [[np.append](https://docs.scipy.org/doc/numpy/reference/generated/numpy.append.html)]의 **axis**에 주의하세요!\n",
        "\n",
        "<br/>"
      ]
    },
    {
      "cell_type": "code",
      "metadata": {
        "colab_type": "code",
        "id": "WPOcFxPpVcSB",
        "colab": {}
      },
      "source": [
        "train_data = np.append(train_data, train_data_transformed, axis=0)\n",
        "train_labels = np.append(train_labels, train_labels_transformed)\n",
        "val_data = np.append(val_data, val_data_transformed, axis=0)\n",
        "val_labels = np.append(val_labels, val_labels_transformed)"
      ],
      "execution_count": 0,
      "outputs": []
    },
    {
      "cell_type": "code",
      "metadata": {
        "id": "zZ_zX4YQVgt-",
        "colab_type": "code",
        "colab": {}
      },
      "source": [
        "# Check Shape\n",
        "print('Train Data Shape : {}'.format(str(train_data.shape)))\n",
        "print('Train Label Shape : {}'.format(str(train_labels.shape)))\n",
        "print('Validation Data Shape : {}'.format(str(val_data.shape)))\n",
        "print('Validation Label Shape : {}'.format(str(val_labels.shape)))"
      ],
      "execution_count": 0,
      "outputs": []
    },
    {
      "cell_type": "markdown",
      "metadata": {
        "id": "Vy4vG5e754-P",
        "colab_type": "text"
      },
      "source": [
        "## Construct Model\n",
        "\n",
        "<br/>\n",
        "\n",
        "Keras로 Model을 만드는 것은 많이 연습했었죠?\n",
        "\n",
        "첫 Layer의 **input_shape**는 (64, 64, 3) 으로 설정해 주시고, 나머지 Layer들은 자유롭게 추가해 주세요!\n",
        "\n",
        "이때, Hyperparameter들을 적절히 선택해 주어야겠죠?\n",
        "\n",
        "<br/>\n",
        "\n",
        "###Hyperparameters Under Consideration\n",
        "\n",
        "<br/>\n",
        "\n",
        "**Activation**\n",
        "\n",
        "RELU...? Sigmoid...? Tanh...? Maxout...?\n",
        "\n",
        "Can be added via, **tf.keras.layers.Dense( ... , activation=?)**\n",
        "\n",
        "? 안을 적절한 Activation Function으로 채우면 됩니다!\n",
        "\n",
        "Activation Function의 종류는, 아래 Documentation에 잘 정리되어 있습니다.\n",
        "\n",
        "[[Keras Activation Documentation](https://keras.io/activations/)]\n",
        "\n",
        "<br/>\n",
        "\n",
        "**Regularization**\n",
        "\n",
        "L1 or L2 Regularizer...? Regularization Strength...?\n",
        "\n",
        "Can be added via, **tf.keras.layers.Dense( ... , kernel_regularizer=tf.keras.regularizers.l2(0.01))**\n",
        "\n",
        "괄호 안의 숫자가 Regularization Strength입니다. L1을 쓰려면, **regularizers.l1**을 쓰면 되겠죠?\n",
        "\n",
        "[[Keras Regularizer Documentation](https://keras.io/regularizers/)]\n",
        "\n",
        "<br/>\n",
        "\n",
        "**Weight Initialization**\n",
        "\n",
        "How should we set the initial values of the weight...?\n",
        "\n",
        "Can be added via, **tf.keras.layers.Dense( ... , kernel_initializers=?)**\n",
        "\n",
        "? 를 적절한 Initializer로 채워주면 됩니다.\n",
        "\n",
        "Normal Distribution을 사용하려면, **tf.keras.initializers.RandomNormal(mean=0.0, stddev=0.05, seed=None)**\n",
        "\n",
        "Xavier Initialization을 사용하려면, **tf.keras.initializers.glorot_normal(seed=None)**\n",
        "\n",
        "을 사용하면 됩니다!\n",
        "\n",
        "더 다양한 Initializer들은 Documentation에 나와 있습니다!\n",
        "\n",
        "[[Keras Initizlizer Documentation](https://keras.io/initializers/)]\n",
        "\n",
        "<br/>\n",
        "\n",
        "**Batch Normalization**\n",
        "\n",
        "Layer의 출력에 대해 Batch Normalization을 하려면,\n",
        "\n",
        "**tf.keras.layers.BatchNormalization()**을 model에 추가해 주세요!\n",
        "\n",
        "[[Keras Normalization Documentation](https://keras.io/layers/normalization/)]\n",
        "\n",
        "<br/>\n",
        "\n",
        "**Optimizer**\n",
        "\n",
        "SGD...? RMSProp...? Nesterov Momentum...? Adam...? Learning Rate Decay...?\n",
        "\n",
        "Can be added in, **model.compile(optimizer=?, ... )**\n",
        "\n",
        "? 안을 적절한 Optimizer로 채우시면 됩니다. \n",
        "\n",
        "동시에, Learning Rate도 같이 정의해 주세요! Learning Rate의 Decay Rat 또한 설정 가능합니다!!\n",
        "\n",
        "이것은 Documentation을 보는 것이 더 도움이 될 것 같습니다.\n",
        "\n",
        "[[Keras Optimizer Documentation](https://keras.io/optimizers/)]\n",
        "\n",
        "<br/>\n",
        "\n",
        "**Loss Function**\n",
        "\n",
        "Multiclass SVM Loss...? Cross-Entropy Loss...?\n",
        "\n",
        "Can be added in, **model.compile( ..., loss=?, ... )**\n",
        "\n",
        "Multiclass SVM Loss의 경우, **categorical_hinge**\n",
        "\n",
        "Cross-Entropy Loss의 경우, **sparse_categorical_crossentropy** or **categorical_crossentropy**\n",
        "\n",
        "(후자의 경우, label들이 one-hot vector이어야 하죠??)\n",
        "\n",
        "[[Keras Loss Documentation](https://keras.io/losses/)]\n",
        "\n",
        "<br/>"
      ]
    },
    {
      "cell_type": "code",
      "metadata": {
        "id": "yaaWJx1a6WVO",
        "colab_type": "code",
        "colab": {}
      },
      "source": [
        "import tensorflow as tf"
      ],
      "execution_count": 0,
      "outputs": []
    },
    {
      "cell_type": "code",
      "metadata": {
        "id": "SRE6TwZM6ZCC",
        "colab_type": "code",
        "colab": {}
      },
      "source": [
        "model = tf.keras.Sequential([\n",
        "    '''\n",
        "    YOUR MODEL ARCHITECTURE HERE\n",
        "    '''\n",
        "])\n",
        "\n",
        "model.compile(optimizer='''YOUR OPTIMIZER HERE''',\n",
        "             loss='''YOUR LOSS FUNCTION HERE''',\n",
        "             metrics=['accuracy'])\n",
        "\n",
        "model.summary()"
      ],
      "execution_count": 0,
      "outputs": []
    },
    {
      "cell_type": "markdown",
      "metadata": {
        "id": "oLpShpjEZtgZ",
        "colab_type": "text"
      },
      "source": [
        "## Train Model\n",
        "\n",
        "<br/>\n",
        "\n",
        "위에서 정의한 Model을 학습시킵시다!\n",
        "\n",
        "<br/>"
      ]
    },
    {
      "cell_type": "code",
      "metadata": {
        "id": "2PeTq_DQ8G00",
        "colab_type": "code",
        "colab": {}
      },
      "source": [
        "hist = model.fit(train_data, train_labels, epochs=10, batch_size=100, validation_data=(val_data, val_labels), validation_freq=1)"
      ],
      "execution_count": 0,
      "outputs": []
    },
    {
      "cell_type": "markdown",
      "metadata": {
        "id": "_YtO4ijoZz60",
        "colab_type": "text"
      },
      "source": [
        "## Model Visualization\n",
        "\n",
        "<br/>\n",
        "\n",
        "학습시킨 Model의 성능이 어느정도인지 확인합니다.\n",
        "\n",
        "Overfitting이나 Underfitting이 일어난 것 같다면, Hyperparameter를 바꿔줘야겠죠?\n",
        "\n",
        "Hyperparameter를 바꿔서 Model을 다시 Compile하고, Train해 보세요!!\n",
        "\n",
        "<br/>"
      ]
    },
    {
      "cell_type": "code",
      "metadata": {
        "id": "CWaIgxVY8tcE",
        "colab_type": "code",
        "colab": {}
      },
      "source": [
        "fig, loss_ax = plt.subplots()\n",
        "\n",
        "acc_ax = loss_ax.twinx()\n",
        "\n",
        "loss_ax.plot(hist.history['loss'], 'y', label='train loss')\n",
        "loss_ax.plot(hist.history['val_loss'], 'r', label='val loss')\n",
        "\n",
        "acc_ax.plot(hist.history['acc'], 'b', label='train acc')\n",
        "acc_ax.plot(hist.history['val_acc'], 'g', label='val acc')\n",
        "\n",
        "loss_ax.set_xlabel('epoch')\n",
        "loss_ax.set_ylabel('loss')\n",
        "acc_ax.set_ylabel('accuray')\n",
        "\n",
        "loss_ax.legend(loc='upper left')\n",
        "acc_ax.legend(loc='lower left')\n",
        "\n",
        "plt.show()"
      ],
      "execution_count": 0,
      "outputs": []
    },
    {
      "cell_type": "markdown",
      "metadata": {
        "id": "18s1cWpyHaQu",
        "colab_type": "text"
      },
      "source": [
        "##Export Model\n",
        "\n",
        "<br/>\n",
        "\n",
        "Model의 Architecture와 Parameter를 External File로 Export합니다.\n",
        "\n",
        "이렇게 Export한 File로 학습시킨 Model을 Reconstruct할 수 있습니다!!\n",
        "\n",
        "아래 코드 셀의 **model_name** 변수에 자신의 Model 이름을 작은따옴표 안에 넣어 저장해 주세요!\n",
        "\n",
        "Ex) model_name = 'jaehyunlee'\n",
        "\n",
        "<br/>"
      ]
    },
    {
      "cell_type": "code",
      "metadata": {
        "id": "eIoLoSb713hD",
        "colab_type": "code",
        "colab": {}
      },
      "source": [
        "model_name = '''YOUR MODEL NAME HERE'''"
      ],
      "execution_count": 0,
      "outputs": []
    },
    {
      "cell_type": "code",
      "metadata": {
        "id": "OcDgJZia84M1",
        "colab_type": "code",
        "colab": {}
      },
      "source": [
        "import json"
      ],
      "execution_count": 0,
      "outputs": []
    },
    {
      "cell_type": "code",
      "metadata": {
        "id": "7uosn8dI85bN",
        "colab_type": "code",
        "colab": {}
      },
      "source": [
        "# Save weights\n",
        "model_weights = model_name + '_simpsonslab_weights.h5'\n",
        "model.save_weights(model_weights)\n",
        "# Save model architecture\n",
        "model_architecture = model_name + '_simpsonslab_architecture.json'\n",
        "with open(model_architecture, 'w') as f:\n",
        "    f.write(model.to_json())"
      ],
      "execution_count": 0,
      "outputs": []
    },
    {
      "cell_type": "code",
      "metadata": {
        "id": "aFd9VT5887R4",
        "colab_type": "code",
        "colab": {}
      },
      "source": [
        "# Download files on Colab into Local Directory\n",
        "from google.colab import files\n",
        "files.download(model_weights)\n",
        "files.download(model_architecture)"
      ],
      "execution_count": 0,
      "outputs": []
    },
    {
      "cell_type": "markdown",
      "metadata": {
        "id": "X2zRpnWCH6kL",
        "colab_type": "text"
      },
      "source": [
        "##Check if Model was correcly exported\n",
        "\n",
        "<br/>\n",
        "\n",
        "위에서 Export한 File이 잘 저장되었나 확인합니다.\n",
        "\n",
        "아래 코드 셀들을 실행하여 **\"Exported Model and Current Model are the Same\"**이 나오면 문제없이 Export된 것입니다.\n",
        "\n",
        "아니라면, 런타임을 초기화해서 다시 실행해 보세요...!\n",
        "\n",
        "<br/>"
      ]
    },
    {
      "cell_type": "code",
      "metadata": {
        "id": "mBRqQ1UMXuK-",
        "colab_type": "code",
        "colab": {}
      },
      "source": [
        "with open(model_architecture, 'r') as f:\n",
        "    model_dummy = tf.keras.models.model_from_json(f.read())\n",
        "model_dummy.load_weights(model_weights)"
      ],
      "execution_count": 0,
      "outputs": []
    },
    {
      "cell_type": "code",
      "metadata": {
        "id": "WKkNMTGwXwVI",
        "colab_type": "code",
        "colab": {}
      },
      "source": [
        "predict = model.predict(val_data)\n",
        "predict_dummy = model_dummy.predict(val_data)\n",
        "\n",
        "for i in range(len(val_data)):\n",
        "    if np.argmax(predict[i]) != np.argmax(predict_dummy[i]):\n",
        "        print(\"Exported Model and Current Model are Different...\")\n",
        "        break\n",
        "    if i == len(val_data) - 1:\n",
        "        print(\"Exported Model and Current Model are the Same\")"
      ],
      "execution_count": 0,
      "outputs": []
    },
    {
      "cell_type": "markdown",
      "metadata": {
        "id": "XlDXMO3zYIeG",
        "colab_type": "text"
      },
      "source": [
        "##How do I look?\n",
        "\n",
        "<br/>\n",
        "\n",
        "자신이 어떤 심슨 캐릭터와 닮았는지 볼까요?\n",
        "\n",
        "셀카를 업로드해주세요!\n",
        "\n",
        "<br/>"
      ]
    },
    {
      "cell_type": "code",
      "metadata": {
        "id": "425_tnWiYajd",
        "colab_type": "code",
        "colab": {}
      },
      "source": [
        "uploaded = files.upload()"
      ],
      "execution_count": 0,
      "outputs": []
    },
    {
      "cell_type": "markdown",
      "metadata": {
        "id": "XMS-oaSia8nV",
        "colab_type": "text"
      },
      "source": [
        "이미지 파일을 업로드한 후, 위의 코드 셀에서 출력된 파일 이름을 아래의 **my_img = im.io.imread('   ?   ')** 의 **?**에 넣어 주세요!\n",
        "\n",
        "Ex) 코드 셀의 출력이 **Saving 1.jpg to 1.jpg**라면, **my_img = im.io.imread('1.jpg')** 라고 써주세요!"
      ]
    },
    {
      "cell_type": "code",
      "metadata": {
        "id": "Hswkx0CIZawX",
        "colab_type": "code",
        "colab": {}
      },
      "source": [
        "my_img = im.io.imread('1.jpg')\n",
        "my_img = im.transform.resize(my_img, (64, 64, 3))"
      ],
      "execution_count": 0,
      "outputs": []
    },
    {
      "cell_type": "code",
      "metadata": {
        "id": "bNlwKkMRZ2Se",
        "colab_type": "code",
        "colab": {}
      },
      "source": [
        "# Visualize my image\n",
        "im.io.imshow(my_img)\n",
        "plt.show()\n",
        "\n",
        "# Reshape my image so that model is applicable\n",
        "my_img = my_img.reshape((1, 64, 64, 3))\n",
        "\n",
        "# Predict on my image\n",
        "prediction = model.predict(my_img)\n",
        "print('\\nPrediction : {}\\n'.format(characters[np.argmax(prediction[0])]))\n",
        "for i in range(len(prediction[0])):\n",
        "    print('{character} : {confidence:0.2f}%'.format(character=characters[i], confidence=prediction[0][i] * 100), end='\\t')\n",
        "    if (i + 1) % 7 == 0:\n",
        "        print(\"\\n\")\n",
        "print('\\n')"
      ],
      "execution_count": 0,
      "outputs": []
    },
    {
      "cell_type": "markdown",
      "metadata": {
        "id": "_HdbyDfgumJE",
        "colab_type": "text"
      },
      "source": [
        "##The Spinning Marge Challenge\n",
        "\n",
        "<br/>\n",
        "\n",
        "만든 Model이 회전하는 Marge를 잘 인식하는지를 볼까요?\n",
        "\n",
        "<br/>"
      ]
    },
    {
      "cell_type": "markdown",
      "metadata": {
        "id": "j0feVQHbzWrN",
        "colab_type": "text"
      },
      "source": [
        "###Generate Spinning Marge Dataset"
      ]
    },
    {
      "cell_type": "code",
      "metadata": {
        "id": "_5AqTbTbuxg5",
        "colab_type": "code",
        "colab": {}
      },
      "source": [
        "rand_num = np.random.randint(low=0, high=1000)\n",
        "marge_img = []\n",
        "cnt = 0\n",
        "for i in range(len(simpsons_labels)):\n",
        "    if simpsons_labels[i] == 4:\n",
        "        cnt += 1\n",
        "        if cnt == rand_num:\n",
        "            marge_img = simpsons_data[i]\n",
        "            break\n",
        "marge_img = marge_img.reshape((64, 64, 3))\n",
        "marge_img = marge_img * 255\n",
        "marge_img = marge_img.astype(int)\n",
        "\n",
        "spinning_marge = []\n",
        "\n",
        "for i in range(6):\n",
        "    spinning_marge.append(datagen.apply_transform(x=marge_img, transform_parameters={'theta':i * 60}) / 255)\n",
        "\n",
        "spinning_marge = np.array(spinning_marge)"
      ],
      "execution_count": 0,
      "outputs": []
    },
    {
      "cell_type": "markdown",
      "metadata": {
        "id": "QZg_5DxDzZtH",
        "colab_type": "text"
      },
      "source": [
        "###Make Predictions"
      ]
    },
    {
      "cell_type": "code",
      "metadata": {
        "id": "5GIrG3O8wQDT",
        "colab_type": "code",
        "colab": {}
      },
      "source": [
        "# Predict on Spinning Marge\n",
        "prediction = model.predict(spinning_marge)\n",
        "prediction = np.argmax(prediction, axis=1)\n",
        "\n",
        "visualize(spinning_marge, prediction)"
      ],
      "execution_count": 0,
      "outputs": []
    }
  ]
}