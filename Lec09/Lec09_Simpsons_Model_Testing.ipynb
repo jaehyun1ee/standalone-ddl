{
  "nbformat": 4,
  "nbformat_minor": 0,
  "metadata": {
    "colab": {
      "name": "Lec09_Simpsons_Model_Testing.ipynb",
      "version": "0.3.2",
      "provenance": [],
      "collapsed_sections": [],
      "include_colab_link": true
    },
    "kernelspec": {
      "name": "python3",
      "display_name": "Python 3"
    }
  },
  "cells": [
    {
      "cell_type": "markdown",
      "metadata": {
        "id": "view-in-github",
        "colab_type": "text"
      },
      "source": [
        "<a href=\"https://colab.research.google.com/github/wenko99/Standalone_DDL/blob/master/Lec09/Lec09_Simpsons_Model_Testing.ipynb\" target=\"_parent\"><img src=\"https://colab.research.google.com/assets/colab-badge.svg\" alt=\"Open In Colab\"/></a>"
      ]
    },
    {
      "cell_type": "markdown",
      "metadata": {
        "id": "9DFSD7kmxB18",
        "colab_type": "text"
      },
      "source": [
        "#Grading Simpsons Models\n",
        "\n",
        "<br/>\n",
        "\n",
        "Google Drive의 **Simpsons** 폴더 안에 **simpsons_models**라는 폴더를 새로 만드시고,\n",
        "\n",
        "그 안에 Model의 정보가 담긴 **.h5, .json** 파일들을 업로드해주세요.\n",
        "\n",
        "또, **simpsons_testset.zip** 파일을 받아 압축을 푸시고, 나오는 **simpsons_testset** 폴더를 그대로 **Simpsons** 폴더 안에 업로드해주세요.\n",
        "\n",
        "<br/>"
      ]
    },
    {
      "cell_type": "markdown",
      "metadata": {
        "id": "uO174u7qyYe-",
        "colab_type": "text"
      },
      "source": [
        "## Download and Preprocess Test Data"
      ]
    },
    {
      "cell_type": "markdown",
      "metadata": {
        "id": "3u9tN8Ag0CFh",
        "colab_type": "text"
      },
      "source": [
        "###Mount Google Drive"
      ]
    },
    {
      "cell_type": "code",
      "metadata": {
        "id": "tE0OOqxzwbmk",
        "colab_type": "code",
        "colab": {}
      },
      "source": [
        "from google.colab import drive\n",
        "drive.mount('/content/drive/')"
      ],
      "execution_count": 0,
      "outputs": []
    },
    {
      "cell_type": "code",
      "metadata": {
        "id": "mH-ZhD_zw-l7",
        "colab_type": "code",
        "colab": {}
      },
      "source": [
        "cd drive/My Drive/Simpsons"
      ],
      "execution_count": 0,
      "outputs": []
    },
    {
      "cell_type": "code",
      "metadata": {
        "id": "B7doBOpZxAJW",
        "colab_type": "code",
        "colab": {}
      },
      "source": [
        "ls"
      ],
      "execution_count": 0,
      "outputs": []
    },
    {
      "cell_type": "markdown",
      "metadata": {
        "id": "VbqGvOLK0xvF",
        "colab_type": "text"
      },
      "source": [
        "##Preprocess Simpsons Dataset"
      ]
    },
    {
      "cell_type": "code",
      "metadata": {
        "id": "6hEoW5VY0o0k",
        "colab_type": "code",
        "colab": {}
      },
      "source": [
        "import os\n",
        "import numpy as np\n",
        "import skimage as im"
      ],
      "execution_count": 0,
      "outputs": []
    },
    {
      "cell_type": "code",
      "metadata": {
        "id": "bTDmxQay04-6",
        "colab_type": "code",
        "colab": {}
      },
      "source": [
        "characters = ['abraham_grampa_simpson', 'maggie_simpson', 'bart_simpson', 'lisa_simpson', 'marge_simpson', 'homer_simpson']"
      ],
      "execution_count": 0,
      "outputs": []
    },
    {
      "cell_type": "markdown",
      "metadata": {
        "id": "HsxySgbK0EfG",
        "colab_type": "text"
      },
      "source": [
        "**JPG to CSV**\n",
        "\n",
        "<br/>\n",
        "\n",
        "이미 csv 파일을 제공해 드렸으니, 아래 코드 셀은 실행하지 않으셔도 됩니다.\n",
        "\n",
        "<br/>"
      ]
    },
    {
      "cell_type": "code",
      "metadata": {
        "id": "IzxlZzD30AhR",
        "colab_type": "code",
        "colab": {}
      },
      "source": [
        "dirname = './simpsons_testset/kaggle_simpson_testset/'\n",
        "data = [[0 for i in range(1)] for j in range(6)]\n",
        "for filename in os.listdir(dirname):\n",
        "    if filename.endswith('.jpg'):\n",
        "        for i in range(len(characters)):\n",
        "            if characters[i] in filename:\n",
        "                path = os.path.join(dirname, filename)\n",
        "                img = im.io.imread(path)\n",
        "                img = np.array(im.transform.resize(img, (64, 64, 3)))\n",
        "                img = img.flatten()\n",
        "                img = np.append(i, img)\n",
        "                data[i].append(img)\n",
        "                break\n",
        "dirname = './simpsons_testset/'\n",
        "for i in range(len(data)):\n",
        "    data[i].pop(0)\n",
        "    with open(dirname + characters[i] + '_test.csv', 'wb') as f:\n",
        "        print('Data saved onto {loc} with len {len}'.format(loc=dirname+characters[i]+'_test.csv', len=len(data[i])))\n",
        "        np.savetxt(f, data[i], delimiter=',')"
      ],
      "execution_count": 0,
      "outputs": []
    },
    {
      "cell_type": "markdown",
      "metadata": {
        "id": "OXkfKzNM7YNy",
        "colab_type": "text"
      },
      "source": [
        "###Open CSV"
      ]
    },
    {
      "cell_type": "code",
      "metadata": {
        "id": "jSQ1N9gD7Zy5",
        "colab_type": "code",
        "colab": {}
      },
      "source": [
        "import pandas as pd"
      ],
      "execution_count": 0,
      "outputs": []
    },
    {
      "cell_type": "code",
      "metadata": {
        "id": "hVnGw15Y9CAy",
        "colab_type": "code",
        "colab": {}
      },
      "source": [
        "frames = []\n",
        "\n",
        "dirname = './simpsons_testset/'\n",
        "ext = '_test.csv'\n",
        "bookmark = 0\n",
        "for i in range(len(characters)):\n",
        "    path = dirname + characters[i] + ext\n",
        "    print(path)\n",
        "    frames.append(pd.read_csv(path, header=None))\n",
        "\n",
        "# Concatenate all Dataframes\n",
        "df = pd.concat(frames, ignore_index=True)\n",
        "\n",
        "# Shuffle Dataset\n",
        "np.random.seed(7)\n",
        "df = df.reindex(np.random.permutation(df.index))\n",
        "\n",
        "# Separate into Feature / Label\n",
        "test_data = df.iloc[:,1 : ].values\n",
        "test_labels = df.iloc[:, 0].values.astype(int)\n",
        "\n",
        "# Reshape Vector into Tensor\n",
        "test_data = test_data.reshape((test_data.shape[0], 64, 64, -1))"
      ],
      "execution_count": 0,
      "outputs": []
    },
    {
      "cell_type": "code",
      "metadata": {
        "id": "LWcf59Fh9L1r",
        "colab_type": "code",
        "colab": {}
      },
      "source": [
        "# Check Shape\n",
        "print('Test Data Shape : {}'.format(str(test_data.shape)))\n",
        "print('Test Label Shape : {}'.format(str(test_labels.shape)))"
      ],
      "execution_count": 0,
      "outputs": []
    },
    {
      "cell_type": "markdown",
      "metadata": {
        "id": "Ghzdd4q12I0z",
        "colab_type": "text"
      },
      "source": [
        "##Visualize Test Data"
      ]
    },
    {
      "cell_type": "code",
      "metadata": {
        "id": "iwuJwR8BzMms",
        "colab_type": "code",
        "colab": {}
      },
      "source": [
        "import matplotlib.pyplot as plt"
      ],
      "execution_count": 0,
      "outputs": []
    },
    {
      "cell_type": "code",
      "metadata": {
        "id": "KYhPJF2WEcXN",
        "colab_type": "code",
        "colab": {}
      },
      "source": [
        "def visualize(data, labels, idx=0):\n",
        "    fig = plt.figure()\n",
        "    for i in range(6):\n",
        "        ax = fig.add_subplot(2, 3, i + 1)\n",
        "        image = data[idx]\n",
        "        ax.imshow(image)\n",
        "        ax.set_title(characters[labels[idx]][:-8])\n",
        "        idx += 1\n",
        "    plt.subplots_adjust(hspace = 0.5, wspace = 0.3)\n",
        "    plt.show()\n",
        "\n",
        "    print(\"The shape of the image is {}\".format(image.shape))\n",
        "\n",
        "visualize(test_data, test_labels, 0)"
      ],
      "execution_count": 0,
      "outputs": []
    },
    {
      "cell_type": "markdown",
      "metadata": {
        "id": "FxRo6q6W8RRM",
        "colab_type": "text"
      },
      "source": [
        "## Download Model Architecture / Parameters"
      ]
    },
    {
      "cell_type": "code",
      "metadata": {
        "id": "jWOIUWry9LeS",
        "colab_type": "code",
        "colab": {}
      },
      "source": [
        "import tensorflow as tf\n",
        "import os"
      ],
      "execution_count": 0,
      "outputs": []
    },
    {
      "cell_type": "code",
      "metadata": {
        "id": "hdcBjUnBOaqZ",
        "colab_type": "code",
        "colab": {}
      },
      "source": [
        "models = []\n",
        "model_names = []\n",
        "\n",
        "for filename in os.listdir('./simpsons_models'):\n",
        "    if filename.endswith('.json'):\n",
        "        path = os.path.join('./simpsons_models', filename)\n",
        "        print(path)\n",
        "        with open(path, 'r') as f:\n",
        "            model_tmp = tf.keras.models.model_from_json(f.read())\n",
        "        path = path[:-17]\n",
        "        path = path + 'weights.h5'\n",
        "        model_tmp.load_weights(path)\n",
        "        models.append(model_tmp)\n",
        "        model_names.append(path[18:-11])\n",
        "        continue\n",
        "    else:\n",
        "        continue"
      ],
      "execution_count": 0,
      "outputs": []
    },
    {
      "cell_type": "code",
      "metadata": {
        "id": "QPx5jNRDzuR9",
        "colab_type": "code",
        "colab": {}
      },
      "source": [
        "model_names"
      ],
      "execution_count": 0,
      "outputs": []
    },
    {
      "cell_type": "markdown",
      "metadata": {
        "id": "sqUrtlo98rv3",
        "colab_type": "text"
      },
      "source": [
        "##Test Accuracy"
      ]
    },
    {
      "cell_type": "code",
      "metadata": {
        "id": "4uMq86VVIrOz",
        "colab_type": "code",
        "colab": {}
      },
      "source": [
        "# Reshape Data so that Conv2D is applicable\n",
        "test_data = test_data.reshape((test_data.shape[0], test_data.shape[1], test_data.shape[2], -1))"
      ],
      "execution_count": 0,
      "outputs": []
    },
    {
      "cell_type": "code",
      "metadata": {
        "id": "togxDKzJI0FC",
        "colab_type": "code",
        "colab": {}
      },
      "source": [
        "def test(model):\n",
        "    prediction = np.argmax(model.predict(test_data), 1)\n",
        "\n",
        "    acc = 0\n",
        "    for i in range(len(test_data)):\n",
        "        if prediction[i] == test_labels[i]:\n",
        "            acc += 1\n",
        "    acc /= len(test_data)\n",
        "\n",
        "    print('Accuracy over Test Set is {}%'.format(round(acc, 5) * 100))\n",
        "    \n",
        "    return round(acc, 5) * 100\n",
        "\n",
        "    #test_data = test_data.reshape((test_data.shape[0], test_data.shape[1], -1))\n",
        "\n",
        "    #visualize(test_data, prediction)"
      ],
      "execution_count": 0,
      "outputs": []
    },
    {
      "cell_type": "code",
      "metadata": {
        "id": "gZGCxE78FYFe",
        "colab_type": "code",
        "colab": {}
      },
      "source": [
        "res = {}\n",
        "\n",
        "for i in range(len(models)):\n",
        "    print('\\nModel : {}\\n'.format(model_names[i]))\n",
        "    res.update({model_names[i] : test(models[i])})"
      ],
      "execution_count": 0,
      "outputs": []
    },
    {
      "cell_type": "code",
      "metadata": {
        "id": "Zc4gk8AbFeQi",
        "colab_type": "code",
        "colab": {}
      },
      "source": [
        "import operator\n",
        "\n",
        "res = sorted(res.items(), key=operator.itemgetter(1), reverse=True)\n",
        "\n",
        "print(\"LEADERBOARD\\n\")\n",
        "for i in range(len(res)):\n",
        "    print(res[i])"
      ],
      "execution_count": 0,
      "outputs": []
    }
  ]
}