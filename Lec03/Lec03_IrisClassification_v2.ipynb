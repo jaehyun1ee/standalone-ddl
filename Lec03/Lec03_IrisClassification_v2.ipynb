{
  "nbformat": 4,
  "nbformat_minor": 0,
  "metadata": {
    "colab": {
      "name": "Lec03_IrisClassification_v2.ipynb",
      "version": "0.3.2",
      "provenance": [],
      "collapsed_sections": [],
      "include_colab_link": true
    },
    "kernelspec": {
      "name": "python3",
      "display_name": "Python 3"
    },
    "accelerator": "GPU"
  },
  "cells": [
    {
      "cell_type": "markdown",
      "metadata": {
        "id": "view-in-github",
        "colab_type": "text"
      },
      "source": [
        "<a href=\"https://colab.research.google.com/github/wenko99/Standalone_DDL/blob/master/Lec03/Lec03_IrisClassification_v2.ipynb\" target=\"_parent\"><img src=\"https://colab.research.google.com/assets/colab-badge.svg\" alt=\"Open In Colab\"/></a>"
      ]
    },
    {
      "cell_type": "markdown",
      "metadata": {
        "id": "4a7isqC46O03",
        "colab_type": "text"
      },
      "source": [
        "Open in Colab이 열리지 않으면 [여기](https://drive.google.com/open?id=1psUMkHwv-Aba1O4iPGwuNMxYRseeus6X)를 클릭하세요"
      ]
    },
    {
      "cell_type": "code",
      "metadata": {
        "id": "uaQCcEoQ5U4w",
        "colab_type": "code",
        "colab": {}
      },
      "source": [
        "import numpy as np\n",
        "from sklearn import datasets\n",
        "iris = datasets.load_iris()\n",
        "iris_data = iris.data\n",
        "iris_labels = iris.target\n",
        "\n",
        "import pandas as pd\n",
        "\n",
        "df = pd.DataFrame(iris_data)\n",
        "df2 = pd.DataFrame(iris_labels)\n",
        "df = pd.concat([df, df2], axis=1, sort=False)\n",
        "df.columns = ['SepalLength', 'SepalWidth', 'PetalLength', 'PetalWidth', 'Classes']\n",
        "\n",
        "np.random.seed(7)\n",
        "df = df.reindex(np.random.permutation(df.index))\n",
        "\n",
        "iris_data = df.iloc[:, :4].values\n",
        "iris_labels = df.iloc[:, 4].values"
      ],
      "execution_count": 0,
      "outputs": []
    },
    {
      "cell_type": "markdown",
      "metadata": {
        "id": "oHPT_aReAKLs",
        "colab_type": "text"
      },
      "source": [
        "# Data Preprocessing\n",
        "\n",
        "Set train_x and train_y for training data\n",
        "\n",
        "Set test_x and test_y for testing data"
      ]
    },
    {
      "cell_type": "code",
      "metadata": {
        "id": "qFY2GS8Ot2k8",
        "colab_type": "code",
        "colab": {}
      },
      "source": [
        "n_train_data = 135\n",
        "\n",
        "train_x = iris_data[ : n_train_data]\n",
        "train_y = iris_labels[ : n_train_data]\n",
        "test_x = iris_data[n_train_data : ]\n",
        "test_y = iris_labels[n_train_data : ]"
      ],
      "execution_count": 0,
      "outputs": []
    },
    {
      "cell_type": "markdown",
      "metadata": {
        "id": "udSBKbq95J7-",
        "colab_type": "text"
      },
      "source": [
        "# Score Function\n",
        "\n",
        "\n",
        "$ f(X) = WX + B$\n",
        "\n",
        "$W.shape = (3,4)$\n",
        "\n",
        "$X.shape = (4, )$\n",
        "\n",
        "$B.shape = (3, )$\n",
        "\n",
        "$f(X).shape = (3, )$"
      ]
    },
    {
      "cell_type": "code",
      "metadata": {
        "id": "zYhfGsFw26Av",
        "colab_type": "code",
        "colab": {}
      },
      "source": [
        "def score_function(X, weight, bias):\n",
        "    return weight.dot(X) + bias"
      ],
      "execution_count": 0,
      "outputs": []
    },
    {
      "cell_type": "markdown",
      "metadata": {
        "id": "6JKrUpOhn92t",
        "colab_type": "text"
      },
      "source": [
        "#SVM Loss\n",
        "\n",
        "##$L_{i} = \\underset{j\\neq y_i}\\sum max(0 \\ ,\\ s_j - s_{y_i} + \\triangle )$\n",
        "\n",
        "##$L = {1\\over N}\\underset{i=1}{\\overset{N}\\sum} L_{i}$"
      ]
    },
    {
      "cell_type": "code",
      "metadata": {
        "id": "LS_yshtsn9Ih",
        "colab_type": "code",
        "colab": {}
      },
      "source": [
        "def svm_loss(scores, y_i):\n",
        "    loss = np.maximum(0 , scores - scores[y_i] + 1)\n",
        "    loss[y_i] = 0\n",
        "    return np.sum(loss)"
      ],
      "execution_count": 0,
      "outputs": []
    },
    {
      "cell_type": "markdown",
      "metadata": {
        "id": "e4J4Mk9veS9g",
        "colab_type": "text"
      },
      "source": [
        "#Softmax Function and Cross-entropy Loss\n",
        "\n",
        "##$p_{i} = { e^{s_{y_i} - max(s) }\\over\\underset{j}\\sum{ e^ {s_{j} - max(s)}  } }$\n",
        "\n",
        "##$L_{i} = -\\ log( p_{i}) $\n",
        "\n",
        "##$L = {1\\over N}\\underset{i=1}{\\overset{N}\\sum} L_{i}$"
      ]
    },
    {
      "cell_type": "code",
      "metadata": {
        "id": "WnvsLzguwiDm",
        "colab_type": "code",
        "colab": {}
      },
      "source": [
        "def softmax(scores):\n",
        "    exps = np.exp(scores - np.max(scores))\n",
        "    return exps / np.sum(exps)"
      ],
      "execution_count": 0,
      "outputs": []
    },
    {
      "cell_type": "code",
      "metadata": {
        "id": "C8g0f_QvoNY6",
        "colab_type": "code",
        "colab": {}
      },
      "source": [
        "def cross_entropy_loss(scores, y_i):\n",
        "    return - np.log(softmax(scores)[y_i])"
      ],
      "execution_count": 0,
      "outputs": []
    },
    {
      "cell_type": "markdown",
      "metadata": {
        "id": "Hd3xKoggQ-cl",
        "colab_type": "text"
      },
      "source": [
        "#L2 Regularization\n",
        "\n",
        "###$R(W) = \\underset{k}\\sum\\underset{l}\\sum {W_{kl}}^2$"
      ]
    },
    {
      "cell_type": "code",
      "metadata": {
        "id": "GVc3sh86Q-8b",
        "colab_type": "code",
        "colab": {}
      },
      "source": [
        "def l2_reg(W):\n",
        "    return np.sum(np.square(W))"
      ],
      "execution_count": 0,
      "outputs": []
    },
    {
      "cell_type": "markdown",
      "metadata": {
        "id": "PsrQGbB2_jN1",
        "colab_type": "text"
      },
      "source": [
        "#Numeric Gradient Check\n",
        "\n",
        "##$f'(W) = {f(W + h) - f(W - h) \\over 2h}$"
      ]
    },
    {
      "cell_type": "code",
      "metadata": {
        "id": "HWaGFO6RAGJV",
        "colab_type": "code",
        "colab": {}
      },
      "source": [
        "def numeric_grad_check(W, B, loss_fun, h, lmb):\n",
        "    grad_w = np.zeros(W.shape)\n",
        "    grad_b = np.zeros(B.shape)\n",
        "    \n",
        "    for i in range(W.shape[0]):\n",
        "        for j in range(W.shape[1]):\n",
        "            w1 = W.copy()\n",
        "            w2 = W.copy()\n",
        "            w1[i][j] += h\n",
        "            w2[i][j] -= h\n",
        "            for k in range(len(train_x)):\n",
        "                grad_w[i][j] += ( loss_fun(score_function(train_x[k], w1, B), train_y[k]) - loss_fun(score_function(train_x[k], w2, B), train_y[k]) ) /  (2*h)\n",
        "    grad_w /= len(train_x)\n",
        "    grad_w += lmb * 2 * W\n",
        "    \n",
        "    for i in range(B.shape[0]):\n",
        "        b1 = B.copy()\n",
        "        b2 = B.copy()\n",
        "        b1[i] += h\n",
        "        b2[i] -= h\n",
        "        for j in range(len(train_x)):\n",
        "            grad_b[i] += ( loss_fun(score_function(train_x[j], W, b1), train_y[j]) - loss_fun(score_function(train_x[j], W, b2), train_y[j]) ) /  (2*h)\n",
        "    grad_b /= n_train_data\n",
        "    \n",
        "    return grad_w, grad_b"
      ],
      "execution_count": 0,
      "outputs": []
    },
    {
      "cell_type": "markdown",
      "metadata": {
        "id": "XcJl9C_Jeakc",
        "colab_type": "text"
      },
      "source": [
        "# Train\n",
        "\n",
        "\n",
        "###$Gradient \\ Update\\ (SVM)$\n",
        "##$\\begin{cases}\n",
        "{\\partial L_{i} \\over \\partial w_{y_i} } = - \\underset{j \\ne y_i}\\sum 1(s_j - s_{y_i} + 1 > 0) \\cdot x_{i}^{T} \\\\\n",
        "{\\partial L_{i} \\over \\partial w_{j} } = 1(s_j - s_{y_i} + 1 > 0) \\cdot x_{i}^{T}\n",
        "\\end{cases}\n",
        "$\n",
        "\n",
        "##$\\begin{cases}\n",
        "{\\partial L_{i} \\over \\partial b_{y_i} } = - \\underset{j \\ne y_i}\\sum 1(s_j - s_{y_i} + 1 > 0)\\\\\n",
        "{\\partial L_{i} \\over \\partial b_{j} } = 1(s_j - s_{y_i} + 1 > 0) \n",
        "\\end{cases}\n",
        "$"
      ]
    },
    {
      "cell_type": "markdown",
      "metadata": {
        "id": "8TrGswpc128r",
        "colab_type": "text"
      },
      "source": [
        "###$Gradient \\ Update\\ (Cross-Entropy)$\n",
        "##$\\begin{cases}\n",
        "{\\partial L_{i} \\over \\partial w_{y_i} } = - x_i + p_i \\cdot x_{i}^{T} \\\\\n",
        "{\\partial L_{i} \\over \\partial w_{j} } = p_i \\cdot x_{i}^{T}\n",
        "\\end{cases}\n",
        "$\n",
        "\n",
        "##$\\begin{cases}\n",
        "{\\partial L_{i} \\over \\partial b_{y_i} } = - 1+ p_i  \\\\\n",
        "{\\partial L_{i} \\over \\partial b_{j} } = p_i\n",
        "\\end{cases}\n",
        "$"
      ]
    },
    {
      "cell_type": "markdown",
      "metadata": {
        "id": "ILKHIJi8S-Mk",
        "colab_type": "text"
      },
      "source": [
        "##수정한 부분:\n",
        "\n",
        "\n",
        "\n",
        "```\n",
        "    if loss_fun is svm_loss:\n",
        "        for elem in j:\n",
        "            if scores[elem] - scores[y] + 1 > 0:\n",
        "                grad_w[y, ] -= x\n",
        "                grad_w[elem, ] += x\n",
        "                grad_b[y, ] -= 1\n",
        "                grad_b[elem, ] += 1\n",
        "```\n",
        "\n",
        "위의 수식이 잘 보이지 않으면 colab에서 열어주세요.\n",
        "\n",
        "svm에 대한 수식을 잘못 적어놓기도 했고, $ s_j - s_{y_i} + 1 $을 매 $s_j$ 마다 구해주지 않아서 numreic gradient와 차이가 있었던 것 같습니다.  현재는 모두 수정하였으니, 참고해주세요. :)"
      ]
    },
    {
      "cell_type": "code",
      "metadata": {
        "id": "afNwYS6U8dc4",
        "colab_type": "code",
        "colab": {}
      },
      "source": [
        "def gradient_update(weight, bias, loss_fun, i, x, y):\n",
        "    grad_w = np.zeros(weight.shape)\n",
        "    grad_b = np.zeros(bias.shape)\n",
        "    \n",
        "    scores = score_function(x, weight, bias)\n",
        "    loss = loss_fun(scores, y)\n",
        "    \n",
        "    j = [0, 1, 2]\n",
        "    j.remove(y)\n",
        "    if loss_fun is svm_loss:\n",
        "        for elem in j:\n",
        "            if scores[elem] - scores[y] + 1 > 0:\n",
        "                grad_w[y, ] -= x\n",
        "                grad_w[elem, ] += x\n",
        "                grad_b[y, ] -= 1\n",
        "                grad_b[elem, ] += 1\n",
        "    elif loss_fun is cross_entropy_loss:\n",
        "        grad_w += softmax(scores).reshape(3,1) * train_x[i]\n",
        "        grad_w[train_y[i], ] -= train_x[i]\n",
        "        grad_b += softmax(scores)\n",
        "        grad_b[train_y[i], ] -= 1\n",
        "    \n",
        "    return grad_w, grad_b "
      ],
      "execution_count": 0,
      "outputs": []
    },
    {
      "cell_type": "code",
      "metadata": {
        "id": "aRU2GNOD6OjA",
        "colab_type": "code",
        "colab": {}
      },
      "source": [
        "def train(weight, bias, lr, lmb, loss_fun):\n",
        "    \n",
        "    train_loss = 0\n",
        "    grad_w = np.zeros(weight.shape)\n",
        "    grad_b = np.zeros(bias.shape)\n",
        "    acc = 0\n",
        "    \n",
        "    for i in range(135):\n",
        "        scores = score_function(train_x[i], weight, bias)\n",
        "        loss = loss_fun(scores, train_y[i])\n",
        "        train_loss += loss\n",
        "        \n",
        "        update_w, update_b = gradient_update(weight, bias, loss_fun, i, train_x[i], train_y[i])\n",
        "        grad_w += update_w\n",
        "        grad_b += update_b\n",
        "        \n",
        "        if train_y[i] == scores.argmax():\n",
        "            acc += 1\n",
        "    \n",
        "    train_loss /= n_train_data\n",
        "    train_loss += lmb * l2_reg(weight)\n",
        "    \n",
        "    grad_w /= n_train_data\n",
        "    grad_w += 2 * lmb * weight\n",
        "    grad_b /= n_train_data\n",
        "    \n",
        "    #grad_w, grad_b = numeric_grad_check(weight, bias, loss_fun, h=0.00001, lmb=lmb)\n",
        "    \n",
        "    weight -= lr * grad_w\n",
        "    bias -= lr * grad_b\n",
        "    \n",
        "    result = {}\n",
        "    result['weight'] = weight\n",
        "    result['accuracy'] = acc / n_train_data\n",
        "    result['train_loss'] = train_loss\n",
        "    result['gradient_w'] = grad_w\n",
        "    result['bias'] = bias\n",
        "    result['gradient_b'] = grad_b\n",
        "    \n",
        "    return result"
      ],
      "execution_count": 0,
      "outputs": []
    },
    {
      "cell_type": "markdown",
      "metadata": {
        "id": "Pyf-vZ7OtBo-",
        "colab_type": "text"
      },
      "source": [
        "# Test\n",
        "\n",
        "- calculate accuracy for test set"
      ]
    },
    {
      "cell_type": "code",
      "metadata": {
        "id": "vpuHtaHc1l5W",
        "colab_type": "code",
        "colab": {}
      },
      "source": [
        "def validation(weight, bias, loss_fun):\n",
        "    \n",
        "    test_loss = 0\n",
        "    acc = 0\n",
        "    \n",
        "    for i in range(15):\n",
        "        scores = score_function(test_x[i], weight, bias)\n",
        "        \n",
        "        test_loss += loss_fun(scores, test_y[i])\n",
        "        \n",
        "        if test_y[i] == scores.argmax():\n",
        "            acc += 1\n",
        "                \n",
        "    test_loss /= len(test_x)\n",
        "    \n",
        "    result = {}\n",
        "    result['test_loss'] = test_loss\n",
        "    result['accuracy'] = acc / len(test_x)\n",
        "    \n",
        "    return result"
      ],
      "execution_count": 0,
      "outputs": []
    },
    {
      "cell_type": "markdown",
      "metadata": {
        "id": "AsrgYJGJlzhF",
        "colab_type": "text"
      },
      "source": [
        "# Experience"
      ]
    },
    {
      "cell_type": "code",
      "metadata": {
        "id": "wEbcMuiIK_QC",
        "colab_type": "code",
        "outputId": "9905b70c-105e-4be0-8a48-5c3b29ada2c0",
        "colab": {
          "base_uri": "https://localhost:8080/",
          "height": 87
        }
      },
      "source": [
        "np.random.seed(123)\n",
        "Weight = np.random.uniform(-2, 2, (3,4))\n",
        "Bias = np.random.uniform(-5, 5, (3,))\n",
        "\n",
        "grad_wn, grad_bn = numeric_grad_check(Weight, Bias, svm_loss, 0.00001, lmb=0.01)\n",
        "result = train(Weight, Bias, lr=0.05, lmb=0.01, loss_fun=svm_loss)\n",
        "grad_wa = result['gradient_w']\n",
        "grad_ba = result['gradient_b']\n",
        "\n",
        "\n",
        "print(grad_wa[0][0])\n",
        "print(grad_wn[0][0])\n",
        "print(grad_ba[0])\n",
        "print(grad_bn[0])"
      ],
      "execution_count": 0,
      "outputs": [
        {
          "output_type": "stream",
          "text": [
            "0.46016197929227354\n",
            "0.4601619792923889\n",
            "-0.014814814814814815\n",
            "-0.014814814808168302\n"
          ],
          "name": "stdout"
        }
      ]
    },
    {
      "cell_type": "code",
      "metadata": {
        "id": "YRMFiUcnuGH4",
        "colab_type": "code",
        "outputId": "877df1bc-e51e-4817-ad9d-a82cd6a9f9d2",
        "colab": {
          "base_uri": "https://localhost:8080/",
          "height": 52
        }
      },
      "source": [
        "np.random.seed(123)\n",
        "weight = np.random.uniform(-2, 2, (3,4))\n",
        "bias = np.random.uniform(-5, 5, (3,))\n",
        "lr = 0.005\n",
        "lmb = 0.001\n",
        "epoch = 1000\n",
        "loss_fun = svm_loss\n",
        "\n",
        "hyperp = {}\n",
        "hyperp['lr'] = lr\n",
        "hyperp['epoch'] = epoch\n",
        "hyperp['lambda'] = lmb\n",
        "hyperp['loss_fun'] = loss_fun\n",
        "\n",
        "result = {}\n",
        "result['train_loss'] = []\n",
        "result['epoch'] = []\n",
        "result['gradient'] = []\n",
        "result['accuracy'] = []\n",
        "result['val_loss'] = []\n",
        "result['val_epoch'] = []\n",
        "\n",
        "for i in range(epoch):\n",
        "    traind = train(weight, bias, lr, lmb, loss_fun)\n",
        "    result['train_loss'].append(traind['train_loss'])\n",
        "    result['epoch'].append(i)\n",
        "    result['gradient'].append(traind['gradient_w'])\n",
        "    result['accuracy'].append(traind['accuracy'])\n",
        "    weight, bias = traind['weight'], traind['bias']\n",
        "    \n",
        "    if i%10 == 0:\n",
        "        val = validation(weight, bias, loss_fun)\n",
        "        result['val_loss'].append(val['test_loss'])\n",
        "        result['val_epoch'].append(i)\n",
        "\n",
        "print(\"Accuaracy for train set is {0:2.2%}\".format(traind['accuracy']))\n",
        "\n",
        "print(\"Accuaracy for validation set is {0:2.2%}\".format(val['accuracy']))"
      ],
      "execution_count": 0,
      "outputs": [
        {
          "output_type": "stream",
          "text": [
            "Accuaracy for train set is 87.41%\n",
            "Accuaracy for validation set is 86.67%\n"
          ],
          "name": "stdout"
        }
      ]
    },
    {
      "cell_type": "markdown",
      "metadata": {
        "id": "3deMC8N7uSVk",
        "colab_type": "text"
      },
      "source": [
        "# Plot Graph"
      ]
    },
    {
      "cell_type": "code",
      "metadata": {
        "id": "w8kXV2aJuU26",
        "colab_type": "code",
        "outputId": "0bd53fca-b48e-4d7f-e3f9-41d6f1ef5672",
        "colab": {
          "base_uri": "https://localhost:8080/",
          "height": 367
        }
      },
      "source": [
        "import matplotlib.pyplot as plt\n",
        "fig = plt.figure()\n",
        "\n",
        "plt.subplot(2,1,1)\n",
        "plt.title('Train loss')\n",
        "plt.xlabel('epoch')\n",
        "plt.ylabel('train_loss')\n",
        "plt.plot(result['epoch'], result['train_loss'])\n",
        "plt.plot(result['val_epoch'], result['val_loss'], color = 'orange')\n",
        "\n",
        "plt.subplot(2,1,2)\n",
        "plt.title('Gradient')\n",
        "plt.xlabel('epoch')\n",
        "plt.ylabel('gradient')\n",
        "plt.plot(result['epoch'], [result['gradient'][i][0][0] for i in range(epoch)], color = 'red')\n",
        "\n",
        "fig.tight_layout()\n",
        "plt.show()\n",
        "\n",
        "print(\"learning rate is {0} and epoch is {1}\".format(hyperp['lr'], hyperp['epoch']))\n",
        "print(\"regularization rate is {0} and loss function is {1}\".format(hyperp['lambda'], hyperp['loss_fun']))\n",
        "print(\"Accuracy For Train Set is {0:2.2%}\".format(result['accuracy'][-1]))\n",
        "print(\"Accuracy For Test Set is {0:2.2%}\".format(val['accuracy']))"
      ],
      "execution_count": 0,
      "outputs": [
        {
          "output_type": "display_data",
          "data": {
            "image/png": "[encoded data removed]",
            "text/plain": [
              "<Figure size 432x288 with 2 Axes>"
            ]
          },
          "metadata": {
            "tags": []
          }
        },
        {
          "output_type": "stream",
          "text": [
            "learning rate is 0.005 and epoch is 1000\n",
            "regularization rate is 0.001 and loss function is <function svm_loss at 0x7f007d937bf8>\n",
            "Accuracy For Train Set is 87.41%\n",
            "Accuracy For Test Set is 86.67%\n"
          ],
          "name": "stdout"
        }
      ]
    }
  ]
}