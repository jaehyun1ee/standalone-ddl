{
  "nbformat": 4,
  "nbformat_minor": 0,
  "metadata": {
    "colab": {
      "name": "Lec0_Colab & Numpy Tutorial.ipynb",
      "version": "0.3.2",
      "provenance": [],
      "collapsed_sections": [],
      "include_colab_link": true
    },
    "kernelspec": {
      "name": "python3",
      "display_name": "Python 3"
    }
  },
  "cells": [
    {
      "cell_type": "markdown",
      "metadata": {
        "id": "view-in-github",
        "colab_type": "text"
      },
      "source": [
        "<a href=\"https://colab.research.google.com/github/wenko99/Standalone_DDL/blob/master/Lecture/Lec0_Colab_%26_Numpy_Tutorial.ipynb\" target=\"_parent\"><img src=\"https://colab.research.google.com/assets/colab-badge.svg\" alt=\"Open In Colab\"/></a>"
      ]
    },
    {
      "cell_type": "markdown",
      "metadata": {
        "id": "YHCWa2Oapixj",
        "colab_type": "text"
      },
      "source": [
        "# Hello Colaboratory!\n",
        "\n",
        "Colaboratory는 구글에서 개발한 클라우드 기반 Jupyter Notebook 환경입니다.\n",
        "\n",
        "여러분의 컴퓨터가 아닌 클라우드 서버 상에서 코드가 실행되며, GPU 1개를 무료로 제공해줍니다.(Tesla K80, 12시간/일)\n",
        "\n",
        "GPU를 사용하려면 런타임을 설정해 주어야 합니다.\n",
        "\n",
        "런타임 - 런타임 유형 변경에서 아래와 같이 Python 3, GPU로 설정해 주세요.\n",
        "\n",
        "<p><img alt=\"Colaboratory logo\" src=\"https://steemitimages.com/DQmbcq6Razbj69b1Ab6m5B6gkXK7FE7Gt8gSZmQifKaTwiS/colab3.png\" align=\"left\" hspace=\"10px\" vspace=\"0px\"></p>\n"
      ]
    },
    {
      "cell_type": "markdown",
      "metadata": {
        "id": "gio3KUQ6r8Cm",
        "colab_type": "text"
      },
      "source": [
        "그리고 다음과 같은 코드를 실행해봅니다. shift + Enter 혹은 Ctrl + Enter로 실행할 수 있습니다.\n",
        "\n",
        "처음 실행시 클라우드 서버에 연결하는 과정을 거쳐야 하므로 조금 기다려 주어야 합니다."
      ]
    },
    {
      "cell_type": "code",
      "metadata": {
        "id": "wIZ9GPla4773",
        "colab_type": "code",
        "outputId": "76c6924f-cb41-48c1-c245-8d88a6a435a0",
        "colab": {
          "base_uri": "https://localhost:8080/",
          "height": 34
        }
      },
      "source": [
        "print(\"hello world\")"
      ],
      "execution_count": 0,
      "outputs": [
        {
          "output_type": "stream",
          "text": [
            "hello world\n"
          ],
          "name": "stdout"
        }
      ]
    },
    {
      "cell_type": "markdown",
      "metadata": {
        "id": "aliHEgbjsRQd",
        "colab_type": "text"
      },
      "source": [
        "\n",
        "\n",
        "---\n",
        "\n",
        "\n",
        "주피터 노트북의 특징은 블럭 단위로 실행할 수 있으며, 실행한 결과가 메모리 상으로 공유된다는 점입니다.\n",
        "\n",
        "또한 마지막 줄에 있는 변수의 값을 자동으로 출력해 줍니다."
      ]
    },
    {
      "cell_type": "code",
      "metadata": {
        "id": "3xW07izQC5NX",
        "colab_type": "code",
        "outputId": "706766b0-b81b-425e-afab-cc9b677a5260",
        "colab": {
          "base_uri": "https://localhost:8080/",
          "height": 34
        }
      },
      "source": [
        "a = 123\n",
        "b = 456\n",
        "a += b\n",
        "a"
      ],
      "execution_count": 0,
      "outputs": [
        {
          "output_type": "execute_result",
          "data": {
            "text/plain": [
              "579"
            ]
          },
          "metadata": {
            "tags": []
          },
          "execution_count": 2
        }
      ]
    },
    {
      "cell_type": "markdown",
      "metadata": {
        "id": "qvQqnFwvsck8",
        "colab_type": "text"
      },
      "source": [
        "\n",
        "\n",
        "---\n",
        "\n",
        "\n",
        "Colaboratory의 경우, Python의 유명한 패키지들이 이미 깔려 있습니다. <font color = \"deepskyblue\">Numpy, Pandas, Matplotlib, Scipy, Tensorflow, Pytorch</font> 등이 있고, 깔리지 않은 패키지의 경우 다음과 같은 코드를 실행하여 깔 수 있습니다.\n",
        "\n",
        "\n",
        "```\n",
        "!pip install tensorflow\n",
        "```\n",
        "\n",
        "!는 이 코드가 Python 코드가 아닌 터미널에서 실행하는 것임을 뜻합니다. \n",
        "\n",
        "\n",
        "\n",
        "---\n",
        "\n",
        "\\\n",
        "## Numpy tutorial\n",
        "\n",
        "아래는 Numpy를 이용한 간단한 코드입니다. Numpy는 행렬 계산 및 유용한 수식을 포함하는 패키지입니다.\n"
      ]
    },
    {
      "cell_type": "code",
      "metadata": {
        "id": "cTHaJ5osDA-C",
        "colab_type": "code",
        "outputId": "be78de43-f693-40c8-b19b-5a061cd5eb3c",
        "colab": {
          "base_uri": "https://localhost:8080/",
          "height": 193
        }
      },
      "source": [
        "import numpy as np\n",
        "\n",
        "A = np.array([1.0, 2.0, 3.0])\n",
        "print(A)\n",
        "print(type(A))\n",
        "print('\\n')\n",
        "print(np.zeros((2,3)))\n",
        "print('\\n')\n",
        "print(np.random.random((2,3)))"
      ],
      "execution_count": 0,
      "outputs": [
        {
          "output_type": "stream",
          "text": [
            "[1. 2. 3.]\n",
            "<class 'numpy.ndarray'>\n",
            "\n",
            "\n",
            "[[0. 0. 0.]\n",
            " [0. 0. 0.]]\n",
            "\n",
            "\n",
            "[[0.81002815 0.52058387 0.49891467]\n",
            " [0.70947284 0.74131258 0.28980242]]\n"
          ],
          "name": "stdout"
        }
      ]
    },
    {
      "cell_type": "markdown",
      "metadata": {
        "id": "5qcIOsCYvRAh",
        "colab_type": "text"
      },
      "source": [
        "<font color = \"chartreuse\">*shape*</font>는 이 행렬(혹은 배열)의 차원을 나타냅니다."
      ]
    },
    {
      "cell_type": "code",
      "metadata": {
        "id": "yuc4LCHxDwZG",
        "colab_type": "code",
        "outputId": "1cd66464-dfec-445c-ca2c-8e74963f208c",
        "colab": {
          "base_uri": "https://localhost:8080/",
          "height": 34
        }
      },
      "source": [
        "M = np.array([[1, 2], [3, 4]])\n",
        "M.shape"
      ],
      "execution_count": 0,
      "outputs": [
        {
          "output_type": "execute_result",
          "data": {
            "text/plain": [
              "(2, 2)"
            ]
          },
          "metadata": {
            "tags": []
          },
          "execution_count": 4
        }
      ]
    },
    {
      "cell_type": "markdown",
      "metadata": {
        "id": "Ful9LIm5vbgt",
        "colab_type": "text"
      },
      "source": [
        "elemental wise한 행렬간의 사칙연산은 일반적인 사칙연산처럼 쓸 수 있습니다."
      ]
    },
    {
      "cell_type": "code",
      "metadata": {
        "id": "9kQUIeoVD6Rd",
        "colab_type": "code",
        "outputId": "e66e8281-b951-495d-9216-d12d6a8c339f",
        "colab": {
          "base_uri": "https://localhost:8080/",
          "height": 105
        }
      },
      "source": [
        "X = np.array([1.0, 2.0, 3.0])\n",
        "Y = np.array([2.0, 4.0, 6.0])\n",
        "\n",
        "print(\"X + Y =>\", X + Y)\n",
        "print(\"X - Y =>\", X - Y)\n",
        "print(\"X * Y =>\", X * Y)\n",
        "print(\"X / Y =>\", X / Y)\n",
        "print(\"X * 2 =>\", X * 2)"
      ],
      "execution_count": 0,
      "outputs": [
        {
          "output_type": "stream",
          "text": [
            "X + Y => [3. 6. 9.]\n",
            "X - Y => [-1. -2. -3.]\n",
            "X * Y => [ 2.  8. 18.]\n",
            "X / Y => [0.5 0.5 0.5]\n",
            "X * 2 => [2. 4. 6.]\n"
          ],
          "name": "stdout"
        }
      ]
    },
    {
      "cell_type": "markdown",
      "metadata": {
        "id": "BshdyhNYvqlc",
        "colab_type": "text"
      },
      "source": [
        "행렬곱은 다음과 같은 두가지 방식이 있습니다."
      ]
    },
    {
      "cell_type": "code",
      "metadata": {
        "id": "gTZEvIKoFHk_",
        "colab_type": "code",
        "outputId": "e9d0fb5d-fd99-4336-f21d-4a8268edb956",
        "colab": {
          "base_uri": "https://localhost:8080/",
          "height": 87
        }
      },
      "source": [
        "A = np.array([[1, 2], [3, 4]])\n",
        "B = np.array([[1, 2], [2, 1]])\n",
        "\n",
        "print(A.dot(B))\n",
        "print(np.dot(A, B))"
      ],
      "execution_count": 0,
      "outputs": [
        {
          "output_type": "stream",
          "text": [
            "[[ 5  4]\n",
            " [11 10]]\n",
            "[[ 5  4]\n",
            " [11 10]]\n"
          ],
          "name": "stdout"
        }
      ]
    },
    {
      "cell_type": "markdown",
      "metadata": {
        "id": "dlFepfX6vxwd",
        "colab_type": "text"
      },
      "source": [
        "행렬(혹은 배열)에 포함된 요소들의 합, 최소최댓값 뿐만 아니라 축에 따른 합/최소최댓값 역시 구할 수 있습니다."
      ]
    },
    {
      "cell_type": "code",
      "metadata": {
        "id": "DZ4jT_sdFNFm",
        "colab_type": "code",
        "outputId": "b3f417fc-2895-4266-b6fa-9d6265c54bc5",
        "colab": {
          "base_uri": "https://localhost:8080/",
          "height": 175
        }
      },
      "source": [
        "A = np.random.random((2, 3))\n",
        "\n",
        "print(A)\n",
        "\n",
        "print(\"\\nSum =>\", A.sum())\n",
        "print(\"Min =>\", A.min())\n",
        "print(\"Max =>\", A.max(),\"\\n\")\n",
        "\n",
        "# axis: 축 방향\n",
        "print(A.sum(axis=0)) # 각 열의 합\n",
        "print(A.min(axis=1)) # 각 행의 최소값"
      ],
      "execution_count": 0,
      "outputs": [
        {
          "output_type": "stream",
          "text": [
            "[[0.27683226 0.38890007 0.617178  ]\n",
            " [0.3262117  0.20426973 0.65394244]]\n",
            "\n",
            "Sum => 2.467334202971226\n",
            "Min => 0.20426972647088382\n",
            "Max => 0.6539424427215635 \n",
            "\n",
            "[0.60304396 0.5931698  1.27112044]\n",
            "[0.27683226 0.20426973]\n"
          ],
          "name": "stdout"
        }
      ]
    },
    {
      "cell_type": "markdown",
      "metadata": {
        "id": "TVDBkMozxvhb",
        "colab_type": "text"
      },
      "source": [
        "아래 소개된 함수들은 행렬의 모양을 바꾸어주는 함수들입니다.\n",
        "\n",
        "주의할 점은 A를 바꾸는 함수들과 A는 그대로 두고 바뀐 모양을 리턴하는 함수가 있다는 점입니다.\n",
        "\n",
        "- **원래 행렬을 바꾸는 함수** : <font color = \"chartreuse\">*resize, shape에 값을 넣는 것*</font>\n",
        "\n",
        "- **바뀐 행렬을 리턴하는 함수**: <font color = \"chartreuse\">*reshape, flatten, T*</font>\n",
        "\n",
        "행렬의 모양을 바꾸는 함수에 -1을 인자로 주면, 알아서 사이즈에 맞춰 반환해줍니다.\n",
        "\n",
        "아래와 같이 A.<font color = \"chartreuse\">reshape</font>(<font color = \"mediumslateblue\">3</font>, <font color = \"mediumslateblue\">-1</font>)을 실행하면 12를 3으로 나눈 4가 -1의 위치에 들어가게 되어, (3, 4) 행렬이 리턴됩니다."
      ]
    },
    {
      "cell_type": "code",
      "metadata": {
        "id": "npZCs_DHF-_P",
        "colab_type": "code",
        "outputId": "c2171fbe-d481-430f-f3cb-13341615a828",
        "colab": {
          "base_uri": "https://localhost:8080/",
          "height": 650
        }
      },
      "source": [
        "A = np.arange(12)\n",
        "print(\"A = \", A)\n",
        "\n",
        "print('\\n')\n",
        "B = A.reshape(4, 3)\n",
        "print(\"A = \", A)\n",
        "print(\"B = \", B)\n",
        "\n",
        "print('\\n')\n",
        "A.resize((3, 4)) \n",
        "print(\"A(resize)\\n\", A)\n",
        "\n",
        "print('\\n')\n",
        "A.flatten()\n",
        "print(\"Flatten\\n\", A.flatten())\n",
        "\n",
        "print('\\n')\n",
        "A.T\n",
        "print(\"Transpose\\n\", A.T)\n",
        "\n",
        "print('\\n')\n",
        "A.shape = 2, 6\n",
        "print(\"A(shape)\\n\", A)\n",
        "\n",
        "print('\\n')\n",
        "A.reshape(3, -1)\n",
        "print(\"Reshape\\n\", A.reshape(3, -1))"
      ],
      "execution_count": 0,
      "outputs": [
        {
          "output_type": "stream",
          "text": [
            "A =  [ 0  1  2  3  4  5  6  7  8  9 10 11]\n",
            "\n",
            "\n",
            "A =  [ 0  1  2  3  4  5  6  7  8  9 10 11]\n",
            "B =  [[ 0  1  2]\n",
            " [ 3  4  5]\n",
            " [ 6  7  8]\n",
            " [ 9 10 11]]\n",
            "\n",
            "\n",
            "A(resize)\n",
            " [[ 0  1  2  3]\n",
            " [ 4  5  6  7]\n",
            " [ 8  9 10 11]]\n",
            "\n",
            "\n",
            "Flatten\n",
            " [ 0  1  2  3  4  5  6  7  8  9 10 11]\n",
            "\n",
            "\n",
            "Transpose\n",
            " [[ 0  4  8]\n",
            " [ 1  5  9]\n",
            " [ 2  6 10]\n",
            " [ 3  7 11]]\n",
            "\n",
            "\n",
            "A(shape)\n",
            " [[ 0  1  2  3  4  5]\n",
            " [ 6  7  8  9 10 11]]\n",
            "\n",
            "\n",
            "Reshape\n",
            " [[ 0  1  2  3]\n",
            " [ 4  5  6  7]\n",
            " [ 8  9 10 11]]\n"
          ],
          "name": "stdout"
        }
      ]
    },
    {
      "cell_type": "markdown",
      "metadata": {
        "id": "56kh8AX53FNB",
        "colab_type": "text"
      },
      "source": [
        "<font color = \"chartreuse\">vstack</font>은 행렬을 1차원적으로 쌓는 함수입니다.\n",
        "\n",
        "<font color = \"chartreuse\">hstack</font>은 행렬을 2차원적으로 쌓는 함수입니다.\n",
        "\n",
        "<font color = \"chartreuse\">column_stack</font>은 1차원 배열에 대해서만 연산 가능합니다."
      ]
    },
    {
      "cell_type": "code",
      "metadata": {
        "id": "uveco3iD1Oxz",
        "colab_type": "code",
        "outputId": "66e854e1-41bd-4eab-89ad-7083763b9129",
        "colab": {
          "base_uri": "https://localhost:8080/",
          "height": 263
        }
      },
      "source": [
        "A = np.array([[1, 2], [3, 4]])\n",
        "\n",
        "B = np.array([[5, 6], [7, 8]])\n",
        "\n",
        "print(\"vstack\")\n",
        "print(np.vstack((A, B)))\n",
        "\n",
        "print('\\nhstack')\n",
        "print(np.hstack((A, B)))\n",
        "\n",
        "A = np.array((1, 2, 3))\n",
        "B = np.array((2, 3, 4))\n",
        "print('\\ncolumn stack')\n",
        "print(np.column_stack((A, B)))\n"
      ],
      "execution_count": 0,
      "outputs": [
        {
          "output_type": "stream",
          "text": [
            "vstack\n",
            "[[1 2]\n",
            " [3 4]\n",
            " [5 6]\n",
            " [7 8]]\n",
            "\n",
            "hstack\n",
            "[[1 2 5 6]\n",
            " [3 4 7 8]]\n",
            "\n",
            "column stack\n",
            "[[1 2]\n",
            " [2 3]\n",
            " [3 4]]\n"
          ],
          "name": "stdout"
        }
      ]
    },
    {
      "cell_type": "markdown",
      "metadata": {
        "id": "zu8qhBA13rjE",
        "colab_type": "text"
      },
      "source": [
        "# Reference\n",
        "\n",
        "* [코드로 보는 NumPy Tutorial](http://riseshia.github.io/2017/01/30/numpy-tutorial-with-code.html)\n",
        "* ぜロから作るDeep Learning"
      ]
    }
  ]
}