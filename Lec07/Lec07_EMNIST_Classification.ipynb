{
  "nbformat": 4,
  "nbformat_minor": 0,
  "metadata": {
    "colab": {
      "name": "Lec07_EMNIST_Classification.ipynb",
      "version": "0.3.2",
      "provenance": [],
      "collapsed_sections": [],
      "include_colab_link": true
    },
    "kernelspec": {
      "name": "python3",
      "display_name": "Python 3"
    },
    "accelerator": "GPU"
  },
  "cells": [
    {
      "cell_type": "markdown",
      "metadata": {
        "id": "view-in-github",
        "colab_type": "text"
      },
      "source": [
        "<a href=\"https://colab.research.google.com/github/wenko99/Standalone_DDL/blob/master/Lec07/Lec07_EMNIST_Classification.ipynb\" target=\"_parent\"><img src=\"https://colab.research.google.com/assets/colab-badge.svg\" alt=\"Open In Colab\"/></a>"
      ]
    },
    {
      "cell_type": "markdown",
      "metadata": {
        "id": "m-uQwqXGXo4x",
        "colab_type": "text"
      },
      "source": [
        "#EMNIST Data - Balanced\n",
        "\n",
        "![picture](https://imgur.com/MJo1Kd0.jpg)\n",
        "\n",
        "<br/>\n",
        "\n",
        "오늘의 코딩실습은 **EMNIST Classification**입니다.\n",
        "\n",
        "<br/>\n",
        "\n",
        "EMNIST는 숫자뿐만 아니라 알파벳 손글씨들도 포함하고 있는 Dataset입니다. Data는 MNIST처럼 28x28 크기의 Grayscale Image입니다. 특히, 오늘 다룰 Dataset은 EMNIST Balanced Dataset인데요, 모든 Label들에 대한 Data가 골고루 들어가 있는 Dataset입니다.\n",
        "\n",
        "<br/>\n",
        "\n",
        "오늘의 목표는, EMNIST Balanced Dataset을 받아서 전처리를 해주고,\n",
        "\n",
        "직접 Model을 Design하여 Train시키는 것입니다.\n",
        "\n",
        "이때, Hyperparameter들도 적절히 선택해 주어야겠죠!!\n",
        "\n",
        "이렇게 학습시킨 Model을 External File로 Export할 것입니다.\n",
        "\n",
        "그리고 그 Export한 File을 제출해 주시면, 저희가 만든 Test set으로 정확도를 측정하겠습니다.\n",
        "\n",
        "가장 정확도가 높은 Model을 만드신 분께는 소정의 상품을 드릴 예정입니다!! > 0 <\n",
        "\n",
        "상상만 해도 신나지 않나요?\n",
        "\n",
        "<br/>\n",
        "\n",
        "오늘 해야 하는 일들의 목록입니다. 쭉 읽어볼까요?\n",
        "\n",
        "1. Upload data onto Colab\n",
        "\n",
        "2. Check data shape\n",
        "\n",
        "3. Preprocess data : Data, Label 구분 / Training set, Validation set으로 구분 / Data Shape 적절히 바꾸기\n",
        "\n",
        "4. Visualize data\n",
        "\n",
        "5. Construct model : MLP or CNN?\n",
        "\n",
        "6. Train model\n",
        "\n",
        "7. Choose hyperparameters\n",
        "\n",
        "8. Export model architecture / parameters as an external file\n",
        "\n",
        "9. Check if exported model and current model are same\n",
        "\n",
        "10. Get prediction results from live canvas\n",
        "\n",
        "<br/>\n",
        "\n",
        "**Data can be downloaded from [here](https://www.kaggle.com/crawford/emnist)**\n",
        "\n",
        "<br/>"
      ]
    },
    {
      "cell_type": "markdown",
      "metadata": {
        "id": "1gYL5mG3ZRtm",
        "colab_type": "text"
      },
      "source": [
        "##Upload Data\n",
        "\n",
        "<br/>\n",
        "\n",
        "본인의 Google Drive의 메인 화면에 EMNIST라는 폴더를 만들어 주시고, 그 안에 emnist-balanced-train.csv 파일을 넣어주세요!\n",
        "\n",
        "아래의 코드 셀을 실행시켜서, 위에서 받은 EMNIST Balanced Dataset을 Colab에 Upload해주세요.\n",
        "\n",
        "Authorization Link가 나올텐데, 링크를 타고 가셔서 접근을 허용한 후, 나오는 Authorization Code를 출력 화면의 빈칸에 넣어 주세요.\n",
        "\n",
        "실행 결과, **emnist-balanced-train.csv**가 나오면 잘된 것입니다.\n",
        "\n",
        "\n",
        "<br/>"
      ]
    },
    {
      "cell_type": "code",
      "metadata": {
        "id": "nSYfiEavlGLf",
        "colab_type": "code",
        "outputId": "6b5b28fd-b1ac-466d-d4ea-5f1dd00343a5",
        "colab": {
          "base_uri": "https://localhost:8080/",
          "height": 127
        }
      },
      "source": [
        "from google.colab import drive\n",
        "drive.mount('/content/drive/')"
      ],
      "execution_count": 0,
      "outputs": [
        {
          "output_type": "stream",
          "text": [
            "Go to this URL in a browser: https://accounts.google.com/o/oauth2/auth?client_id=947318989803-6bn6qk8qdgf4n4g3pfee6491hc0brc4i.apps.googleusercontent.com&redirect_uri=urn%3Aietf%3Awg%3Aoauth%3A2.0%3Aoob&scope=email%20https%3A%2F%2Fwww.googleapis.com%2Fauth%2Fdocs.test%20https%3A%2F%2Fwww.googleapis.com%2Fauth%2Fdrive%20https%3A%2F%2Fwww.googleapis.com%2Fauth%2Fdrive.photos.readonly%20https%3A%2F%2Fwww.googleapis.com%2Fauth%2Fpeopleapi.readonly&response_type=code\n",
            "\n",
            "Enter your authorization code:\n",
            "··········\n",
            "Mounted at /content/drive/\n"
          ],
          "name": "stdout"
        }
      ]
    },
    {
      "cell_type": "code",
      "metadata": {
        "id": "jLPX6M1Pl4bx",
        "colab_type": "code",
        "outputId": "74979c82-f940-44f1-e5d9-35aa154905ba",
        "colab": {
          "base_uri": "https://localhost:8080/",
          "height": 35
        }
      },
      "source": [
        "cd drive/My Drive/EMNIST"
      ],
      "execution_count": 0,
      "outputs": [
        {
          "output_type": "stream",
          "text": [
            "/content/drive/My Drive/EMNIST\n"
          ],
          "name": "stdout"
        }
      ]
    },
    {
      "cell_type": "code",
      "metadata": {
        "id": "fDWnkO3EmEps",
        "colab_type": "code",
        "outputId": "4d49264b-5e0b-4176-dedc-e1fa3fd02f15",
        "colab": {
          "base_uri": "https://localhost:8080/",
          "height": 53
        }
      },
      "source": [
        "ls"
      ],
      "execution_count": 0,
      "outputs": [
        {
          "output_type": "stream",
          "text": [
            "emnist-balanced-test.csv   \u001b[0m\u001b[01;34memnist-custom\u001b[0m/  test.jpg\n",
            "emnist-balanced-train.csv  \u001b[01;34memnist-models\u001b[0m/\n"
          ],
          "name": "stdout"
        }
      ]
    },
    {
      "cell_type": "markdown",
      "metadata": {
        "id": "zQaYUStrZVNI",
        "colab_type": "text"
      },
      "source": [
        "##Read and Process Data\n",
        "\n",
        "<br/>\n",
        "\n",
        "csv file로부터 data와 labels를 만들어봅시다!\n",
        "\n",
        "1. 위에서 Upload한 csv file을 읽어옵니다. **emnist-balanced-train.csv** 를 불러와 주세요!!!\n",
        "\n",
        "2. 데이터를 무작위로 섞습니다. (이때, 매번 무작위로 바뀌는 것을 막기위해 seed를 추가합니다.)\n",
        "\n",
        "3. 읽은 csv file을 Label과 Data(Image의 pixel value)로 분리해 줍니다. csv file의 각 행은 785개의 열로 되어 있는데, 첫 번째 열이 Label이고, 나머지가 Data입니다!  Data는 **emnist_data**에, Label은 **emnist_labels**에 저장해 줍니다.\n",
        "\n",
        "4. Data의 값들을 255로 나눠줍니다.\n",
        "\n",
        "5. numpy.ndarray type으로 바꾸어줍니다.\n",
        "\n",
        "6. Train set / Validation set으로 구분해 줍니다. 아까 **emnist_data**를 **train_data**, **val_data**로 나누고, **emnist_labels**를 **train_labels**, **val_labels**로 나누면 되겠죠? (Test set은 나중에 따로 제공할 것입니다.)\n",
        "\n",
        "<br/>\n",
        "\n",
        "Preprocessing 이후 Shape는 다음과 같아야 할 것입니다.\n",
        "\n",
        "<br/>\n",
        "\n",
        "emnist_data = $(112800, 784)$\n",
        "\n",
        "emnist_labels = $(112800, )$\n",
        "\n",
        "train_data = $(78960, 784)$\n",
        "\n",
        "train_labels = $(78960, )$\n",
        "\n",
        "val_data = $(33840, 784)$\n",
        "\n",
        "val_labels = $(33840, )$\n",
        "\n",
        "<br/>\n",
        "\n",
        "** **useful hint** : [[Lec02_NoTrain](Lec02/Lec02_NoTrain_sklearn.ipynb)]에서 Iris Data가 담긴 csv file을 어떻게 읽어왔나 살펴볼까요?\n",
        "\n",
        "<br/>"
      ]
    },
    {
      "cell_type": "code",
      "metadata": {
        "id": "exk9c5fg36wM",
        "colab_type": "code",
        "colab": {}
      },
      "source": [
        "import pandas as pd\n",
        "import numpy as np"
      ],
      "execution_count": 0,
      "outputs": []
    },
    {
      "cell_type": "code",
      "metadata": {
        "id": "mOxuAhnzv7Au",
        "colab_type": "code",
        "colab": {}
      },
      "source": [
        "# Read csv file\n",
        "df = pd.read_csv('emnist-balanced-train.csv', header=None)\n",
        "\n",
        "# Shuffle Dataset\n",
        "np.random.seed(7)\n",
        "df = df.reindex(np.random.permutation(df.index))\n",
        "\n",
        "# Separate into Data / Label\n",
        "emnist_data = df.iloc[:, 1:].values / 255\n",
        "emnist_labels = df.iloc[:, 0].values\n",
        "\n",
        "# Separate into Train / Val\n",
        "n_train_data = round(len(emnist_labels) * 0.7)\n",
        "train_data = emnist_data[ : n_train_data]\n",
        "train_labels = emnist_labels[ : n_train_data]\n",
        "val_data = emnist_data[n_train_data : ]\n",
        "val_labels = emnist_labels[n_train_data : ]"
      ],
      "execution_count": 0,
      "outputs": []
    },
    {
      "cell_type": "code",
      "metadata": {
        "id": "UitVXDHV4Ck4",
        "colab_type": "code",
        "outputId": "82871b6a-7075-47e4-f68c-140f1a24319c",
        "colab": {
          "base_uri": "https://localhost:8080/",
          "height": 89
        }
      },
      "source": [
        "# Check Shape\n",
        "print('Train Data Shape : {}'.format(str(train_data.shape)))\n",
        "print('Train Label Shape : {}'.format(str(train_labels.shape)))\n",
        "print('Validation Data Shape : {}'.format(str(val_data.shape)))\n",
        "print('Validation Label Shape : {}'.format(str(val_labels.shape)))"
      ],
      "execution_count": 0,
      "outputs": [
        {
          "output_type": "stream",
          "text": [
            "Train Data Shape : (78960, 784)\n",
            "Train Label Shape : (78960,)\n",
            "Validation Data Shape : (33840, 784)\n",
            "Validation Label Shape : (33840,)\n"
          ],
          "name": "stdout"
        }
      ]
    },
    {
      "cell_type": "markdown",
      "metadata": {
        "id": "Uu2587WgZZQo",
        "colab_type": "text"
      },
      "source": [
        "##Data Visualization\n",
        "\n",
        "<br/>\n",
        "\n",
        "전처리한 Data가 실제로 어떻게 생겼는지를 볼까요?\n",
        "\n",
        "<br/>\n",
        "\n",
        "아래의 코드는 [[Lec04_Keras_Tutorial](Lec04/Lec04_Keras_Tutorial.ipynb)]에서 가져온 것입니다.\n",
        "\n",
        "<br/>\n",
        "\n",
        "그때 데이터는 MNIST 데이터셋이었습니다.\n",
        "\n",
        "즉, train_data는 $(78960, 28, 28)$ 의 shape를 가지고,\n",
        "\n",
        "train_labels는 $(78960,)$ 의 shape를 가졌습니다.\n",
        "\n",
        "하지만 우리가 지금 가지고 있는 train_data, val_data는  $(?, 784)$의 shape입니다.\n",
        "\n",
        "따라서 아래 코드를 실행하려면 train_data, val_data를 $(?, 28, 28)$로 바꿔줘야 할 것 같네요!\n",
        "\n",
        "<br/>\n",
        "\n",
        "이제 Shape는 다음과 같아야 할 것입니다.\n",
        "\n",
        "train_data = $(78960, 28, 28)$\n",
        "\n",
        "train_labels = $(78960, )$\n",
        "\n",
        "val_data = $(33840, 28, 28)$\n",
        "\n",
        "val_labels = $(33840, )$\n",
        "\n",
        "<br/>\n",
        "\n",
        "또, Data의 Shape만 바꿔서 Visualization을 해보면, 글씨가 대각선으로 뒤집혀 있는 것을 확인하실 수 있습니다!\n",
        "\n",
        "아직 확인하지 않으셨다면, 먼저 확인하고 오세요 ; )\n",
        "\n",
        "원래 모양대로 출력하려면, Data의 축을 바꿔줄 필요가 있겠죠?\n",
        "\n",
        "형태는 똑같이 $(78960, 28, 28)$, $(33840, 28, 28)$이지만, 두번째와 세번째 축을 서로 바꿔주는 Transpose 연산을 해야 할 것입니다!\n",
        "\n",
        "<br/>\n",
        "\n",
        "** **useful hint** : numpy의 reshape, transpose를 이용한다면..? [[Lec0_Colab&Numpy_Tutorial](https://github.com/wenko99/Standalone_DDL/blob/master/Lec01/Lec01_Colab_&_Numpy_Tutorial.ipynb)]에 있을지도 모르겠네요!\n",
        "\n",
        "<br/>"
      ]
    },
    {
      "cell_type": "code",
      "metadata": {
        "id": "-KBQyJb8FLuY",
        "colab_type": "code",
        "colab": {}
      },
      "source": [
        "# Reshape Vector into Matrix\n",
        "train_data = train_data.reshape(train_data.shape[0], 28, -1)\n",
        "val_data = val_data.reshape(val_data.shape[0], 28, -1)\n",
        "train_data = np.transpose(train_data, (0, 2, 1))\n",
        "val_data = np.transpose(val_data, (0, 2, 1))"
      ],
      "execution_count": 0,
      "outputs": []
    },
    {
      "cell_type": "code",
      "metadata": {
        "id": "5VdZgxgwFZ82",
        "colab_type": "code",
        "outputId": "005b9d73-aaf6-4236-a63d-271251d0b7cd",
        "colab": {
          "base_uri": "https://localhost:8080/",
          "height": 89
        }
      },
      "source": [
        "# Check Shape\n",
        "print('Train Data Shape : {}'.format(str(train_data.shape)))\n",
        "print('Train Label Shape : {}'.format(str(train_labels.shape)))\n",
        "print('Validation Data Shape : {}'.format(str(val_data.shape)))\n",
        "print('Validation Label Shape : {}'.format(str(val_labels.shape)))"
      ],
      "execution_count": 0,
      "outputs": [
        {
          "output_type": "stream",
          "text": [
            "Train Data Shape : (78960, 28, 28)\n",
            "Train Label Shape : (78960,)\n",
            "Validation Data Shape : (33840, 28, 28)\n",
            "Validation Label Shape : (33840,)\n"
          ],
          "name": "stdout"
        }
      ]
    },
    {
      "cell_type": "code",
      "metadata": {
        "id": "cfYP6IKD6s8d",
        "colab_type": "code",
        "colab": {}
      },
      "source": [
        "import matplotlib.pyplot as plt"
      ],
      "execution_count": 0,
      "outputs": []
    },
    {
      "cell_type": "code",
      "metadata": {
        "id": "Wm_7u-rWZqJQ",
        "colab_type": "code",
        "outputId": "6f1a42b2-253b-4918-e088-24e2095995e9",
        "colab": {
          "base_uri": "https://localhost:8080/",
          "height": 299
        }
      },
      "source": [
        "ascii_idx = [48, 49, 50, 51, 52, 53, 54, 55, 56, 57, 65, 66, 67, 68, 69, 70, 71, 72, 73, 74, 75, 76, 77, 78, 79, 80, 81, 82, 83, 84, 85, 86, 87, 88, 89, 90, 97, 98, 100, 101, 102, 103, 104, 110, 113, 114, 116]\n",
        "\n",
        "def visualize(data, labels, idx=0):\n",
        "    fig = plt.figure()\n",
        "    for i in range(6):\n",
        "        ax = fig.add_subplot(2, 3, i + 1)\n",
        "        image = data[idx]\n",
        "        ax.imshow(image)\n",
        "        ax.set_title(\"label = {}\".format(chr(ascii_idx[labels[idx]])))\n",
        "        idx += 1\n",
        "    plt.subplots_adjust(hspace = 0.5, wspace = 0.3)\n",
        "    plt.show()\n",
        "\n",
        "    print(\"The shape of the image is {}\".format(image.shape))\n",
        "\n",
        "visualize(train_data, train_labels)"
      ],
      "execution_count": 0,
      "outputs": [
        {
          "output_type": "display_data",
          "data": {
            "image/png": "[encoded data removed]",
            "text/plain": [
              "<Figure size 432x288 with 6 Axes>"
            ]
          },
          "metadata": {
            "tags": []
          }
        },
        {
          "output_type": "stream",
          "text": [
            "The shape of the image is (28, 28)\n"
          ],
          "name": "stdout"
        }
      ]
    },
    {
      "cell_type": "markdown",
      "metadata": {
        "id": "ynAh7-SqZcVC",
        "colab_type": "text"
      },
      "source": [
        "##Construct Model\n",
        "\n",
        "<br/>\n",
        "\n",
        "Keras를 통해 쉽게 할 수 있죠?\n",
        "\n",
        "<br/>\n",
        "\n",
        "이때,\n",
        "\n",
        "Loss Function은 무엇을 이용해야 할까요?\n",
        "\n",
        "sparse_categorical_crossentropy와 categorical_crossentropy가 어떻게 달랐을까요?\n",
        "\n",
        "Cross entropy loss를 이용하지 않는 다른 방법은 없을까요..?\n",
        "\n",
        "또, CNN을 적용하려면, Image가 Matrix가 아닌 Tensor가 되어야겠죠? Grayscale Image이므로, Channel은 1개입니다.\n",
        "\n",
        "<br/>\n",
        "\n",
        "따라서, 이제 train_data와 val_data의 shape는,\n",
        "\n",
        "train_data = $(78960, 28, 28, 1)$\n",
        "\n",
        "train_labels = $(78960, )$\n",
        "\n",
        "val_data = $(33840, 28, 28, 1)$\n",
        "\n",
        "val_labels = $(33840, )$\n",
        "\n",
        "이 되어야겠죠?\n",
        "\n",
        "<br/>\n",
        "\n",
        "채점 시 Input Shape는 $(number of data, 28, 28, 1)$을 기준으로 할 것입니다.\n",
        "\n",
        "따라서, CNN이 아닌 MLP를 만들고 싶으시면, Model의 맨 앞에 Flatten Layer를 추가해 주세요!\n",
        "\n",
        "tf.keras.layers.Flatten()을 Model의 맨 앞에 추가하면 되겠죠?\n",
        "\n",
        "<br/>"
      ]
    },
    {
      "cell_type": "code",
      "metadata": {
        "id": "8qhAnuqB9Jzn",
        "colab_type": "code",
        "colab": {}
      },
      "source": [
        "# Reshape Data so that Conv2D is applicable\n",
        "train_data = train_data.reshape((train_data.shape[0], train_data.shape[1], train_data.shape[2], -1))\n",
        "val_data = val_data.reshape((val_data.shape[0], val_data.shape[1], val_data.shape[2], -1))"
      ],
      "execution_count": 0,
      "outputs": []
    },
    {
      "cell_type": "code",
      "metadata": {
        "id": "onWMyHgA6owU",
        "colab_type": "code",
        "outputId": "32543180-2fba-4a03-b1a4-1edb619a51cf",
        "colab": {
          "base_uri": "https://localhost:8080/",
          "height": 89
        }
      },
      "source": [
        "# Check Shape\n",
        "print('Train Data Shape : {}'.format(str(train_data.shape)))\n",
        "print('Train Label Shape : {}'.format(str(train_labels.shape)))\n",
        "print('Validation Data Shape : {}'.format(str(val_data.shape)))\n",
        "print('Validation Label Shape : {}'.format(str(val_labels.shape)))"
      ],
      "execution_count": 0,
      "outputs": [
        {
          "output_type": "stream",
          "text": [
            "Train Data Shape : (78960, 28, 28, 1)\n",
            "Train Label Shape : (78960,)\n",
            "Validation Data Shape : (33840, 28, 28, 1)\n",
            "Validation Label Shape : (33840,)\n"
          ],
          "name": "stdout"
        }
      ]
    },
    {
      "cell_type": "markdown",
      "metadata": {
        "id": "ySQRwpIP54kt",
        "colab_type": "text"
      },
      "source": [
        "###Hyperparameters Under Consideration\n",
        "\n",
        "<br/>\n",
        "\n",
        "**Activation**\n",
        "\n",
        "RELU...? Sigmoid...? Tanh...? Maxout...?\n",
        "\n",
        "Can be added via, **tf.keras.layers.Dense( ... , activation=?)**\n",
        "\n",
        "? 안을 적절한 Activation Function으로 채우면 됩니다!\n",
        "\n",
        "Activation Function의 종류는, 아래 Documentation에 잘 정리되어 있습니다.\n",
        "\n",
        "[[Keras Activation Documentation](https://keras.io/activations/)]\n",
        "\n",
        "<br/>\n",
        "\n",
        "**Regularization**\n",
        "\n",
        "L1 or L2 Regularizer...? Regularization Strength...?\n",
        "\n",
        "Can be added via, **tf.keras.layers.Dense( ... , kernel_regularizer=tf.keras.regularizers.l2(0.01))**\n",
        "\n",
        "괄호 안의 숫자가 Regularization Strength입니다. L1을 쓰려면, **regularizers.l1**을 쓰면 되겠죠?\n",
        "\n",
        "[[Keras Regularizer Documentation](https://keras.io/regularizers/)]\n",
        "\n",
        "<br/>\n",
        "\n",
        "**Weight Initialization**\n",
        "\n",
        "How should we set the initial values of the weight...?\n",
        "\n",
        "Can be added via, **tf.keras.layers.Dense( ... , kernel_initializers=?)**\n",
        "\n",
        "? 를 적절한 Initializer로 채워주면 됩니다.\n",
        "\n",
        "Normal Distribution을 사용하려면, **tf.keras.initializers.RandomNormal(mean=0.0, stddev=0.05, seed=None)**\n",
        "\n",
        "Xavier Initialization을 사용하려면, **tf.keras.initializers.glorot_normal(seed=None)**\n",
        "\n",
        "을 사용하면 됩니다!\n",
        "\n",
        "더 다양한 Initializer들은 Documentation에 나와 있습니다!\n",
        "\n",
        "[[Keras Initizlizer Documentation](https://keras.io/initializers/)]\n",
        "\n",
        "<br/>\n",
        "\n",
        "**Batch Normalization**\n",
        "\n",
        "Layer의 출력에 대해 Batch Normalization을 하려면,\n",
        "\n",
        "**tf.keras.layers.BatchNormalization()**을 model에 추가해 주세요!\n",
        "\n",
        "[[Keras Normalization Documentation](https://keras.io/layers/normalization/)]\n",
        "\n",
        "<br/>\n",
        "\n",
        "**Optimizer**\n",
        "\n",
        "SGD...? RMSProp...? Nesterov Momentum...? Adam...? Learning Rate Decay...?\n",
        "\n",
        "Can be added in, **model.compile(optimizer=?, ... )**\n",
        "\n",
        "? 안을 적절한 Optimizer로 채우시면 됩니다. \n",
        "\n",
        "동시에, Learning Rate도 같이 정의해 주세요! Learning Rate의 Decay Rat 또한 설정 가능합니다!!\n",
        "\n",
        "이것은 Documentation을 보는 것이 더 도움이 될 것 같습니다.\n",
        "\n",
        "[[Keras Optimizer Documentation](https://keras.io/optimizers/)]\n",
        "\n",
        "<br/>\n",
        "\n",
        "**Loss Function**\n",
        "\n",
        "Multiclass SVM Loss...? Cross-Entropy Loss...?\n",
        "\n",
        "Can be added in, **model.compile( ..., loss=?, ... )**\n",
        "\n",
        "Multiclass SVM Loss의 경우, **categorical_hinge**\n",
        "\n",
        "Cross-Entropy Loss의 경우, **sparse_categorical_crossentropy** or **categorical_crossentropy**\n",
        "\n",
        "(후자의 경우, label들이 one-hot vector이어야 하죠??)\n",
        "\n",
        "[[Keras Loss Documentation](https://keras.io/losses/)]\n",
        "\n",
        "<br/>"
      ]
    },
    {
      "cell_type": "code",
      "metadata": {
        "id": "GlahPSHx-LDb",
        "colab_type": "code",
        "colab": {}
      },
      "source": [
        "import tensorflow as tf"
      ],
      "execution_count": 0,
      "outputs": []
    },
    {
      "cell_type": "code",
      "metadata": {
        "id": "8oaabsx2Zqtz",
        "colab_type": "code",
        "outputId": "86e7f9d2-7ec8-42b4-91aa-994fb4fa2402",
        "colab": {
          "base_uri": "https://localhost:8080/",
          "height": 469
        }
      },
      "source": [
        "model = tf.keras.Sequential([\n",
        "  tf.keras.layers.Flatten(),\n",
        "  tf.keras.layers.Dense(512, activation='relu'),\n",
        "  tf.keras.layers.Dense(47, activation='softmax')\n",
        "])\n",
        "\n",
        "model.compile(optimizer=tf.keras.optimizers.Adam(0.01, decay=0.01),\n",
        "             loss='sparse_categorical_crossentropy',\n",
        "             metrics=['accuracy'])\n",
        "\n",
        "model.summary()"
      ],
      "execution_count": 2,
      "outputs": [
        {
          "output_type": "stream",
          "text": [
            "WARNING: Logging before flag parsing goes to stderr.\n",
            "W0805 11:42:00.440066 139905806161792 deprecation.py:506] From /usr/local/lib/python3.6/dist-packages/tensorflow/python/ops/init_ops.py:1251: calling VarianceScaling.__init__ (from tensorflow.python.ops.init_ops) with dtype is deprecated and will be removed in a future version.\n",
            "Instructions for updating:\n",
            "Call initializer instance with the dtype argument instead of passing it to the constructor\n"
          ],
          "name": "stderr"
        },
        {
          "output_type": "stream",
          "text": [
            "Model: \"sequential\"\n",
            "_________________________________________________________________\n",
            "Layer (type)                 Output Shape              Param #   \n",
            "=================================================================\n",
            "flatten (Flatten)            (None, 784)               0         \n",
            "_________________________________________________________________\n",
            "dense (Dense)                (None, 512)               401920    \n",
            "_________________________________________________________________\n",
            "batch_normalization (BatchNo (None, 512)               2048      \n",
            "_________________________________________________________________\n",
            "dense_1 (Dense)              (None, 256)               131328    \n",
            "_________________________________________________________________\n",
            "batch_normalization_1 (Batch (None, 256)               1024      \n",
            "_________________________________________________________________\n",
            "dense_2 (Dense)              (None, 47)                12079     \n",
            "=================================================================\n",
            "Total params: 548,399\n",
            "Trainable params: 546,863\n",
            "Non-trainable params: 1,536\n",
            "_________________________________________________________________\n"
          ],
          "name": "stdout"
        }
      ]
    },
    {
      "cell_type": "markdown",
      "metadata": {
        "id": "oLpShpjEZtgZ",
        "colab_type": "text"
      },
      "source": [
        "## Train Model\n",
        "\n",
        "<br/>\n",
        "\n",
        "위에서 정의한 Model을 학습시킵시다!\n",
        "\n",
        "<br/>"
      ]
    },
    {
      "cell_type": "code",
      "metadata": {
        "id": "6kpIcYRoZwPH",
        "colab_type": "code",
        "outputId": "fb72d39a-d732-4b5f-803b-ac83bcc0ae0b",
        "colab": {
          "base_uri": "https://localhost:8080/",
          "height": 395
        }
      },
      "source": [
        "hist = model.fit(train_data, train_labels, epochs=10, batch_size=500, validation_data=(val_data, val_labels), validation_freq=1)"
      ],
      "execution_count": 0,
      "outputs": [
        {
          "output_type": "stream",
          "text": [
            "Train on 78960 samples, validate on 33840 samples\n",
            "Epoch 1/10\n",
            "78960/78960 [==============================] - 13s 165us/sample - loss: 0.6014 - acc: 0.8077 - val_loss: 14.9027 - val_acc: 0.0236\n",
            "Epoch 2/10\n",
            "78960/78960 [==============================] - 12s 156us/sample - loss: 0.3310 - acc: 0.8797 - val_loss: 11.1750 - val_acc: 0.0517\n",
            "Epoch 3/10\n",
            "78960/78960 [==============================] - 12s 152us/sample - loss: 0.2708 - acc: 0.8994 - val_loss: 1.0675 - val_acc: 0.6813\n",
            "Epoch 4/10\n",
            "78960/78960 [==============================] - 12s 153us/sample - loss: 0.2281 - acc: 0.9125 - val_loss: 0.3952 - val_acc: 0.8568\n",
            "Epoch 5/10\n",
            "78960/78960 [==============================] - 12s 152us/sample - loss: 0.1957 - acc: 0.9235 - val_loss: 0.3429 - val_acc: 0.8805\n",
            "Epoch 6/10\n",
            "78960/78960 [==============================] - 12s 153us/sample - loss: 0.1684 - acc: 0.9345 - val_loss: 0.3523 - val_acc: 0.8780\n",
            "Epoch 7/10\n",
            "78960/78960 [==============================] - 12s 152us/sample - loss: 0.1462 - acc: 0.9423 - val_loss: 0.3564 - val_acc: 0.8778\n",
            "Epoch 8/10\n",
            "78960/78960 [==============================] - 12s 152us/sample - loss: 0.1275 - acc: 0.9503 - val_loss: 0.3708 - val_acc: 0.8795\n",
            "Epoch 9/10\n",
            "78960/78960 [==============================] - 12s 154us/sample - loss: 0.1111 - acc: 0.9567 - val_loss: 0.3863 - val_acc: 0.8797\n",
            "Epoch 10/10\n",
            "78960/78960 [==============================] - 12s 152us/sample - loss: 0.0969 - acc: 0.9635 - val_loss: 0.4045 - val_acc: 0.8743\n"
          ],
          "name": "stdout"
        }
      ]
    },
    {
      "cell_type": "markdown",
      "metadata": {
        "id": "_YtO4ijoZz60",
        "colab_type": "text"
      },
      "source": [
        "## Model Visualization\n",
        "\n",
        "<br/>\n",
        "\n",
        "학습시킨 Model의 성능이 어느정도인지 확인합니다.\n",
        "\n",
        "Overfitting이나 Underfitting이 일어난 것 같다면, Hyperparameter를 바꿔줘야겠죠?\n",
        "\n",
        "Hyperparameter를 바꿔서 Model을 다시 Compile하고, Train해 보세요!!\n",
        "\n",
        "<br/>"
      ]
    },
    {
      "cell_type": "code",
      "metadata": {
        "id": "k2IpqWPNZ3Vd",
        "colab_type": "code",
        "outputId": "33cfcf26-25e1-4562-c08b-805d0e82f541",
        "colab": {
          "base_uri": "https://localhost:8080/",
          "height": 283
        }
      },
      "source": [
        "fig, loss_ax = plt.subplots()\n",
        "\n",
        "acc_ax = loss_ax.twinx()\n",
        "\n",
        "loss_ax.plot(hist.history['loss'], 'y', label='train loss')\n",
        "loss_ax.plot(hist.history['val_loss'], 'r', label='val loss')\n",
        "\n",
        "acc_ax.plot(hist.history['acc'], 'b', label='train acc')\n",
        "acc_ax.plot(hist.history['val_acc'], 'g', label='val acc')\n",
        "\n",
        "loss_ax.set_xlabel('epoch')\n",
        "loss_ax.set_ylabel('loss')\n",
        "acc_ax.set_ylabel('accuray')\n",
        "\n",
        "loss_ax.legend(loc='upper left')\n",
        "acc_ax.legend(loc='lower left')\n",
        "\n",
        "plt.show()"
      ],
      "execution_count": 0,
      "outputs": [
        {
          "output_type": "display_data",
          "data": {
            "image/png": "[encoded data removed]",
            "text/plain": [
              "<Figure size 432x288 with 2 Axes>"
            ]
          },
          "metadata": {
            "tags": []
          }
        }
      ]
    },
    {
      "cell_type": "markdown",
      "metadata": {
        "id": "18s1cWpyHaQu",
        "colab_type": "text"
      },
      "source": [
        "##Export Model\n",
        "\n",
        "<br/>\n",
        "\n",
        "Model의 Architecture와 Parameter를 External File로 Export합니다.\n",
        "\n",
        "이렇게 Export한 File로 학습시킨 Model을 Reconstruct할 수 있습니다!!\n",
        "\n",
        "아래 코드 셀의 **model_name** 변수에 자신의 Model 이름을 작은따옴표 안에 넣어 저장해 주세요!\n",
        "\n",
        "Ex) model_name = 'jaehyunlee'\n",
        "\n",
        "<br/>"
      ]
    },
    {
      "cell_type": "code",
      "metadata": {
        "id": "eIoLoSb713hD",
        "colab_type": "code",
        "colab": {}
      },
      "source": [
        "model_name = 'jaehyunlee'"
      ],
      "execution_count": 0,
      "outputs": []
    },
    {
      "cell_type": "code",
      "metadata": {
        "id": "Aw00TsPqICYB",
        "colab_type": "code",
        "colab": {}
      },
      "source": [
        "import json"
      ],
      "execution_count": 0,
      "outputs": []
    },
    {
      "cell_type": "code",
      "metadata": {
        "id": "r-LkGgEJHYrT",
        "colab_type": "code",
        "colab": {}
      },
      "source": [
        "# Save weights\n",
        "model_weights = model_name + '_weights.h5'\n",
        "model.save_weights(model_weights)\n",
        "# Save model architecture\n",
        "model_architecture = model_name + '_architecture.json'\n",
        "with open(model_architecture, 'w') as f:\n",
        "    f.write(model.to_json())"
      ],
      "execution_count": 0,
      "outputs": []
    },
    {
      "cell_type": "code",
      "metadata": {
        "id": "PI5eEFL2HswW",
        "colab_type": "code",
        "colab": {}
      },
      "source": [
        "# Download files on Colab into Local Directory\n",
        "from google.colab import files\n",
        "files.download(model_weights)\n",
        "files.download(model_architecture)"
      ],
      "execution_count": 0,
      "outputs": []
    },
    {
      "cell_type": "markdown",
      "metadata": {
        "id": "X2zRpnWCH6kL",
        "colab_type": "text"
      },
      "source": [
        "##Check if Model was correcly exported\n",
        "\n",
        "<br/>\n",
        "\n",
        "위에서 Export한 File이 잘 저장되었나 확인합니다.\n",
        "\n",
        "아래 코드 셀들을 실행하여 **\"Exported Model and Current Model are the Same\"**이 나오면 문제없이 Export된 것입니다.\n",
        "\n",
        "아니라면, 런타임을 초기화해서 다시 실행해 보세요...!\n",
        "\n",
        "<br/>"
      ]
    },
    {
      "cell_type": "code",
      "metadata": {
        "id": "bQ0a59snIQJz",
        "colab_type": "code",
        "colab": {}
      },
      "source": [
        "with open(model_architecture, 'r') as f:\n",
        "    model_dummy = tf.keras.models.model_from_json(f.read())\n",
        "model_dummy.load_weights(model_weights)"
      ],
      "execution_count": 0,
      "outputs": []
    },
    {
      "cell_type": "code",
      "metadata": {
        "id": "Fnvz2e73IizU",
        "colab_type": "code",
        "outputId": "ca0ef17f-4990-4a0b-d089-8730d57f32c1",
        "colab": {
          "base_uri": "https://localhost:8080/",
          "height": 35
        }
      },
      "source": [
        "predict = model.predict(val_data)\n",
        "predict_dummy = model_dummy.predict(val_data)\n",
        "\n",
        "for i in range(len(val_data)):\n",
        "    if np.argmax(predict[i]) != np.argmax(predict_dummy[i]):\n",
        "        print(\"Exported Model and Current Model are Different...\")\n",
        "        break\n",
        "    if i == len(val_data) - 1:\n",
        "        print(\"Exported Model and Current Model are the Same\")"
      ],
      "execution_count": 0,
      "outputs": [
        {
          "output_type": "stream",
          "text": [
            "Exported Model and Current Model are the Same\n"
          ],
          "name": "stdout"
        }
      ]
    },
    {
      "cell_type": "markdown",
      "metadata": {
        "id": "BvhWTOdaTIKE",
        "colab_type": "text"
      },
      "source": [
        "##Draw Test Data\n",
        "\n",
        "<br/>\n",
        "\n",
        "직접 Canvas에 그림을 그리면서 Model의 Prediction 결과를 확인해 봅시다!\n",
        "\n",
        "Parametric Approach가 Data-Driven Approach에 비해 우위에 있다는 것이 이해되시나요?\n",
        "\n",
        "code from, [[Colab Canvas](https://gist.github.com/korakot/8409b3feec20f159d8a50b0a811d3bca)]\n",
        "\n",
        "<br/>"
      ]
    },
    {
      "cell_type": "code",
      "metadata": {
        "id": "mx4Vzd9ySW_9",
        "colab_type": "code",
        "colab": {}
      },
      "source": [
        "from IPython.display import HTML, Image\n",
        "from google.colab.output import eval_js\n",
        "from base64 import b64decode\n",
        "\n",
        "canvas_html = \"\"\"\n",
        "<canvas style=\"border:1px solid #000000;\" width=%d height=%d></canvas>\n",
        "<button>Finish</button>\n",
        "<script>\n",
        "var canvas = document.querySelector('canvas')\n",
        "var ctx = canvas.getContext('2d')\n",
        "ctx.lineWidth = %d\n",
        "var button = document.querySelector('button')\n",
        "var mouse = {x: 0, y: 0}\n",
        "canvas.addEventListener('mousemove', function(e) {\n",
        "  mouse.x = e.pageX - this.offsetLeft\n",
        "  mouse.y = e.pageY - this.offsetTop\n",
        "})\n",
        "canvas.onmousedown = ()=>{\n",
        "  ctx.beginPath()\n",
        "  ctx.moveTo(mouse.x, mouse.y)\n",
        "  canvas.addEventListener('mousemove', onPaint)\n",
        "}\n",
        "canvas.onmouseup = ()=>{\n",
        "  canvas.removeEventListener('mousemove', onPaint)\n",
        "}\n",
        "var onPaint = ()=>{\n",
        "  ctx.lineTo(mouse.x, mouse.y)\n",
        "  ctx.stroke()\n",
        "}\n",
        "var data = new Promise(resolve=>{\n",
        "  button.onclick = ()=>{\n",
        "    resolve(canvas.toDataURL('image/png'))\n",
        "  }\n",
        "})\n",
        "</script>\n",
        "\"\"\"\n",
        "\n",
        "def draw(filename, w=300, h=300, line_width=30):\n",
        "  display(HTML(canvas_html % (w, h, line_width)))\n",
        "  data = eval_js(\"data\")\n",
        "  binary = b64decode(data.split(',')[1])\n",
        "  with open(filename, 'wb') as f:\n",
        "    f.write(binary)\n",
        "  return len(binary)"
      ],
      "execution_count": 0,
      "outputs": []
    },
    {
      "cell_type": "code",
      "metadata": {
        "id": "ktXn4NGsWUEY",
        "colab_type": "code",
        "colab": {}
      },
      "source": [
        "import skimage as im"
      ],
      "execution_count": 0,
      "outputs": []
    },
    {
      "cell_type": "code",
      "metadata": {
        "id": "hyBxPz2nWY3_",
        "colab_type": "code",
        "outputId": "06c49131-fd89-404a-fd9a-0b5221728bed",
        "colab": {
          "base_uri": "https://localhost:8080/",
          "height": 919
        }
      },
      "source": [
        "draw('test.jpg')\n",
        "\n",
        "test_img = im.io.imread('test.jpg')\n",
        "test_img = np.array(test_img)\n",
        "test_img = test_img.transpose(2, 0, 1)[3] / 255\n",
        "test_img = im.transform.resize(test_img, (28, 28))\n",
        "print('\\n')\n",
        "plt.imshow(test_img)\n",
        "\n",
        "test_img = test_img.reshape((1, 28, 28, 1))\n",
        "prediction = model.predict(test_img)\n",
        "print('\\nPrediction : {}\\n'.format(chr(ascii_idx[np.argmax(prediction[0])])))\n",
        "for i in range(len(prediction[0])):\n",
        "    print('{character} : {confidence:0.2f}%'.format(character=chr(ascii_idx[i]), confidence=prediction[0][i] * 100), end='\\t')\n",
        "    if (i + 1) % 7 == 0:\n",
        "        print(\"\\n\")\n",
        "print('\\n')"
      ],
      "execution_count": 0,
      "outputs": [
        {
          "output_type": "display_data",
          "data": {
            "text/html": [
              "\n",
              "<canvas style=\"border:1px solid #000000;\" width=300 height=300></canvas>\n",
              "<button>Finish</button>\n",
              "<script>\n",
              "var canvas = document.querySelector('canvas')\n",
              "var ctx = canvas.getContext('2d')\n",
              "ctx.lineWidth = 30\n",
              "var button = document.querySelector('button')\n",
              "var mouse = {x: 0, y: 0}\n",
              "canvas.addEventListener('mousemove', function(e) {\n",
              "  mouse.x = e.pageX - this.offsetLeft\n",
              "  mouse.y = e.pageY - this.offsetTop\n",
              "})\n",
              "canvas.onmousedown = ()=>{\n",
              "  ctx.beginPath()\n",
              "  ctx.moveTo(mouse.x, mouse.y)\n",
              "  canvas.addEventListener('mousemove', onPaint)\n",
              "}\n",
              "canvas.onmouseup = ()=>{\n",
              "  canvas.removeEventListener('mousemove', onPaint)\n",
              "}\n",
              "var onPaint = ()=>{\n",
              "  ctx.lineTo(mouse.x, mouse.y)\n",
              "  ctx.stroke()\n",
              "}\n",
              "var data = new Promise(resolve=>{\n",
              "  button.onclick = ()=>{\n",
              "    resolve(canvas.toDataURL('image/png'))\n",
              "  }\n",
              "})\n",
              "</script>\n"
            ],
            "text/plain": [
              "<IPython.core.display.HTML object>"
            ]
          },
          "metadata": {
            "tags": []
          }
        },
        {
          "output_type": "stream",
          "text": [
            "\n",
            "\n",
            "\n",
            "Prediction : K\n",
            "\n",
            "0 : 0.00%\t1 : 0.00%\t2 : 0.00%\t3 : 0.00%\t4 : 0.01%\t5 : 0.00%\t6 : 0.00%\t\n",
            "\n",
            "7 : 0.00%\t8 : 0.00%\t9 : 0.00%\tA : 0.00%\tB : 0.00%\tC : 0.00%\tD : 0.00%\t\n",
            "\n",
            "E : 0.57%\tF : 0.00%\tG : 0.02%\tH : 0.00%\tI : 0.00%\tJ : 0.00%\tK : 68.75%\t\n",
            "\n",
            "L : 0.00%\tM : 0.00%\tN : 0.00%\tO : 0.00%\tP : 0.00%\tQ : 0.00%\tR : 0.01%\t\n",
            "\n",
            "S : 0.00%\tT : 0.00%\tU : 0.00%\tV : 0.00%\tW : 0.00%\tX : 0.00%\tY : 0.00%\t\n",
            "\n",
            "Z : 0.00%\ta : 0.00%\tb : 0.00%\td : 0.00%\te : 30.61%\tf : 0.01%\tg : 0.00%\t\n",
            "\n",
            "h : 0.00%\tn : 0.00%\tq : 0.00%\tr : 0.00%\tt : 0.00%\t\n",
            "\n"
          ],
          "name": "stdout"
        },
        {
          "output_type": "display_data",
          "data": {
            "image/png": "[encoded data removed]",
            "text/plain": [
              "<Figure size 432x288 with 1 Axes>"
            ]
          },
          "metadata": {
            "tags": []
          }
        }
      ]
    },
    {
      "cell_type": "markdown",
      "metadata": {
        "id": "rqACSyKNdvml",
        "colab_type": "text"
      },
      "source": [
        "##Test Model"
      ]
    },
    {
      "cell_type": "code",
      "metadata": {
        "id": "kamOHs7_dzHB",
        "colab_type": "code",
        "colab": {}
      },
      "source": [
        "# Read csv file\n",
        "df2 = pd.read_csv('emnist-balanced-test.csv', header=None)\n",
        "\n",
        "# Shuffle Dataset\n",
        "np.random.seed(10)\n",
        "df2 = df2.reindex(np.random.permutation(df2.index))\n",
        "\n",
        "# Separate into Data / Label\n",
        "test_data = df2.iloc[:, 1:].values / 255\n",
        "test_labels = df2.iloc[:, 0].values\n",
        "\n",
        "# Reshape Data\n",
        "test_data = test_data.reshape((test_data.shape[0], 28, -1))\n",
        "test_data = np.transpose(test_data, (0, 2, 1))"
      ],
      "execution_count": 0,
      "outputs": []
    },
    {
      "cell_type": "code",
      "metadata": {
        "id": "BQiJVHyNeUEN",
        "colab_type": "code",
        "outputId": "952f8d32-0621-4e46-a1db-3787546b3d08",
        "colab": {
          "base_uri": "https://localhost:8080/",
          "height": 299
        }
      },
      "source": [
        "visualize(test_data, test_labels)"
      ],
      "execution_count": 0,
      "outputs": [
        {
          "output_type": "display_data",
          "data": {
            "image/png": "[encoded data removed]",
            "text/plain": [
              "<Figure size 432x288 with 6 Axes>"
            ]
          },
          "metadata": {
            "tags": []
          }
        },
        {
          "output_type": "stream",
          "text": [
            "The shape of the image is (28, 28)\n"
          ],
          "name": "stdout"
        }
      ]
    },
    {
      "cell_type": "code",
      "metadata": {
        "id": "0SZqL_GHgXQn",
        "colab_type": "code",
        "colab": {}
      },
      "source": [
        "test_data = test_data.reshape((test_data.shape[0], test_data.shape[1], test_data.shape[2], -1))"
      ],
      "execution_count": 0,
      "outputs": []
    },
    {
      "cell_type": "code",
      "metadata": {
        "id": "tXoaaTTAiDaj",
        "colab_type": "code",
        "outputId": "213e420e-dd68-44cd-b70f-dec2aba8db23",
        "colab": {
          "base_uri": "https://localhost:8080/",
          "height": 53
        }
      },
      "source": [
        "result = model.evaluate(test_data, test_labels, batch_size=32, verbose=1)\n",
        "print('Test Accuracy : {acc:0.2f}%'.format(acc=result[1] * 100))"
      ],
      "execution_count": 0,
      "outputs": [
        {
          "output_type": "stream",
          "text": [
            "18800/18800 [==============================] - 2s 129us/sample - loss: 0.4230 - acc: 0.8742\n",
            "Test Accuracy : 87.42%\n"
          ],
          "name": "stdout"
        }
      ]
    }
  ]
}