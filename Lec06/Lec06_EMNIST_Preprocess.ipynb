{
  "nbformat": 4,
  "nbformat_minor": 0,
  "metadata": {
    "colab": {
      "name": "Lec06_EMNIST_Preprocess.ipynb",
      "version": "0.3.2",
      "provenance": [],
      "collapsed_sections": [],
      "include_colab_link": true
    },
    "kernelspec": {
      "name": "python3",
      "display_name": "Python 3"
    },
    "accelerator": "GPU"
  },
  "cells": [
    {
      "cell_type": "markdown",
      "metadata": {
        "id": "view-in-github",
        "colab_type": "text"
      },
      "source": [
        "<a href=\"https://colab.research.google.com/github/wenko99/Standalone_DDL/blob/master/Lec06/Lec06_EMNIST_Preprocess.ipynb\" target=\"_parent\"><img src=\"https://colab.research.google.com/assets/colab-badge.svg\" alt=\"Open In Colab\"/></a>"
      ]
    },
    {
      "cell_type": "markdown",
      "metadata": {
        "id": "m-uQwqXGXo4x",
        "colab_type": "text"
      },
      "source": [
        "#EMNIST Data - Balanced\n",
        "\n",
        "![picture](https://imgur.com/MJo1Kd0.jpg)\n",
        "\n",
        "<br/>\n",
        "\n",
        "오늘의 코딩실습은 **EMNIST Classification**입니다.\n",
        "\n",
        "<br/>\n",
        "\n",
        "EMNIST는 숫자뿐만 아니라 알파벳 손글씨들도 포함하고 있는 Dataset입니다. Data는 MNIST처럼 28x28 크기의 Grayscale Image입니다. 특히, 오늘 다룰 Dataset은 EMNIST Balanced Dataset인데요, 모든 Label들에 대한 Data가 골고루 들어가 있는 Dataset입니다.\n",
        "\n",
        "<br/>\n",
        "\n",
        "오늘의 목표는, EMNIST Balanced Dataset을 받아서 전처리를 해주고,\n",
        "\n",
        "직접 Model을 Design하여 Train시키는 것입니다.\n",
        "\n",
        "이때, Hyperparameter들도 적절히 선택해 주어야겠죠!!\n",
        "\n",
        "이렇게 학습시킨 Model을 External File로 Export할 것입니다.\n",
        "\n",
        "그리고 그 Export한 File을 제출해 주시면, 저희가 만든 Test set으로 정확도를 측정하겠습니다.\n",
        "\n",
        "가장 정확도가 높은 Model을 만드신 분께는 소정의 상품을 드릴 예정입니다!! > 0 <\n",
        "\n",
        "상상만 해도 신나지 않나요?\n",
        "\n",
        "<br/>\n",
        "\n",
        "오늘 해야 하는 일들의 목록입니다. 쭉 읽어볼까요?\n",
        "\n",
        "1. Upload data onto Colab\n",
        "\n",
        "2. Check data shape\n",
        "\n",
        "3. Preprocess data : Data, Label 구분 / Training set, Validation set으로 구분 / Data Shape 적절히 바꾸기\n",
        "\n",
        "4. Visualize data\n",
        "\n",
        "5. Construct model : MLP or CNN?\n",
        "\n",
        "6. Train model\n",
        "\n",
        "7. Choose hyperparameters\n",
        "\n",
        "8. Export model architecture / parameters as an external file\n",
        "\n",
        "9. Check if exported model and current model are same\n",
        "\n",
        "10. Get prediction results from live canvas\n",
        "\n",
        "<br/>\n",
        "\n",
        "**Data can be downloaded from [here](http://sendanywhe.re/1PAOPWFL)**\n",
        "\n",
        "<br/>"
      ]
    },
    {
      "cell_type": "markdown",
      "metadata": {
        "id": "1gYL5mG3ZRtm",
        "colab_type": "text"
      },
      "source": [
        "##Upload Data\n",
        "\n",
        "<br/>\n",
        "\n",
        "본인의 Google Drive의 메인 화면에 EMNIST라는 폴더를 만들어 주시고, 그 안에 emnist-balanced-train.csv 파일을 넣어주세요!\n",
        "\n",
        "아래의 코드 셀을 실행시켜서, 위에서 받은 EMNIST Balanced Dataset을 Colab에 Upload해주세요.\n",
        "\n",
        "Authorization Link가 나올텐데, 링크를 타고 가셔서 접근을 허용한 후, 나오는 Authorization Code를 출력 화면의 빈칸에 넣어 주세요.\n",
        "\n",
        "실행 결과, emnist-balanced-train.csv가 나오면 잘된 것입니다.\n",
        "\n",
        "\n",
        "<br/>"
      ]
    },
    {
      "cell_type": "code",
      "metadata": {
        "id": "uNXkzUr0TSEi",
        "colab_type": "code",
        "outputId": "ff5c928b-a6c2-424b-bca3-07b00fce9a13",
        "colab": {
          "base_uri": "https://localhost:8080/",
          "height": 128
        }
      },
      "source": [
        "from google.colab import drive\n",
        "drive.mount('/content/drive/')"
      ],
      "execution_count": 0,
      "outputs": [
        {
          "output_type": "stream",
          "text": [
            "Go to this URL in a browser: https://accounts.google.com/o/oauth2/auth?client_id=947318989803-6bn6qk8qdgf4n4g3pfee6491hc0brc4i.apps.googleusercontent.com&redirect_uri=urn%3Aietf%3Awg%3Aoauth%3A2.0%3Aoob&scope=email%20https%3A%2F%2Fwww.googleapis.com%2Fauth%2Fdocs.test%20https%3A%2F%2Fwww.googleapis.com%2Fauth%2Fdrive%20https%3A%2F%2Fwww.googleapis.com%2Fauth%2Fdrive.photos.readonly%20https%3A%2F%2Fwww.googleapis.com%2Fauth%2Fpeopleapi.readonly&response_type=code\n",
            "\n",
            "Enter your authorization code:\n",
            "··········\n",
            "Mounted at /content/drive/\n"
          ],
          "name": "stdout"
        }
      ]
    },
    {
      "cell_type": "code",
      "metadata": {
        "id": "pHsskDg2-WRh",
        "colab_type": "code",
        "outputId": "5ca07e1d-5b05-469b-9d15-4f76e9cee31d",
        "colab": {
          "base_uri": "https://localhost:8080/",
          "height": 35
        }
      },
      "source": [
        "cd drive/My Drive/EMNIST"
      ],
      "execution_count": 0,
      "outputs": [
        {
          "output_type": "stream",
          "text": [
            "/content/drive/My Drive/EMNIST\n"
          ],
          "name": "stdout"
        }
      ]
    },
    {
      "cell_type": "code",
      "metadata": {
        "id": "x9ZeDnSS-e4C",
        "colab_type": "code",
        "outputId": "7ee3dfce-a5e0-4f17-c521-4808827e921c",
        "colab": {
          "base_uri": "https://localhost:8080/",
          "height": 53
        }
      },
      "source": [
        "ls"
      ],
      "execution_count": 0,
      "outputs": [
        {
          "output_type": "stream",
          "text": [
            "emnist-balanced-train.csv     jaehyunlee_weights.h5\n",
            "jaehyunlee_architecture.json  test.jpg\n"
          ],
          "name": "stdout"
        }
      ]
    },
    {
      "cell_type": "markdown",
      "metadata": {
        "id": "zQaYUStrZVNI",
        "colab_type": "text"
      },
      "source": [
        "##Read and Process Data\n",
        "\n",
        "<br/>\n",
        "\n",
        "csv file로부터 data와 labels를 만들어봅시다!\n",
        "\n",
        "1. 위에서 Upload한 csv file을 읽어옵니다. **emnist-balanced-train.csv** 를 불러와 주세요!!!\n",
        "\n",
        "2. 데이터를 무작위로 섞습니다. (이때, 매번 무작위로 바뀌는 것을 막기위해 seed를 추가합니다.)\n",
        "\n",
        "3. 읽은 csv file을 Label과 Data(Image의 pixel value)로 분리해 줍니다. csv file의 각 행은 785개의 열로 되어 있는데, 첫 번째 열이 Label이고, 나머지가 Data입니다!  Data는 **emnist_data**에, Label은 **emnist_labels**에 저장해 줍니다.\n",
        "\n",
        "4. Data의 값들을 255로 나눠줍니다.\n",
        "\n",
        "5. numpy.ndarray type으로 바꾸어줍니다.\n",
        "\n",
        "6. Train set / Validation set으로 구분해 줍니다. 아까 **emnist_data**를 **train_data**, **val_data**로 나누고, **emnist_labels**를 **train_labels**, **val_labels**로 나누면 되겠죠? (Test set은 나중에 따로 제공할 것입니다.)\n",
        "\n",
        "<br/>\n",
        "\n",
        "Preprocessing 이후 Shape는 다음과 같아야 할 것입니다.\n",
        "\n",
        "<br/>\n",
        "\n",
        "emnist_data = $(112800, 784)$\n",
        "\n",
        "emnist_labels = $(112800, )$\n",
        "\n",
        "train_data = $(78960, 784)$\n",
        "\n",
        "train_labels = $(78960, )$\n",
        "\n",
        "val_data = $(33840, 784)$\n",
        "\n",
        "val_labels = $(33840, )$\n",
        "\n",
        "<br/>\n",
        "\n",
        "** **useful hint** : [[Lec02_NoTrain](Lec02/Lec02_NoTrain_sklearn.ipynb)]에서 Iris Data가 담긴 csv file을 어떻게 읽어왔나 살펴볼까요?\n",
        "\n",
        "<br/>"
      ]
    },
    {
      "cell_type": "code",
      "metadata": {
        "id": "exk9c5fg36wM",
        "colab_type": "code",
        "colab": {}
      },
      "source": [
        "import pandas as pd\n",
        "import numpy as np"
      ],
      "execution_count": 0,
      "outputs": []
    },
    {
      "cell_type": "code",
      "metadata": {
        "id": "mOxuAhnzv7Au",
        "colab_type": "code",
        "colab": {}
      },
      "source": [
        "# Read csv file\n",
        "df = pd.read_csv('emnist-balanced-train.csv', header=None)\n",
        "\n",
        "# Shuffle Dataset\n",
        "np.random.seed(81)\n",
        "df = df.reindex(np.random.permutation(df.index))\n",
        "\n",
        "\n",
        "# Separate into Data / Label\n",
        "emnist_data = df.iloc[:, 1:].values / 255\n",
        "emnist_labels = df.iloc[:, 0].values\n",
        "\n",
        "# Separate into Train / Val\n",
        "train_data = emnist_data[:78960]\n",
        "train_labels = emnist_labels[:78960]\n",
        "val_data = emnist_data[78960:]\n",
        "val_labels = emnist_labels[78960:]"
      ],
      "execution_count": 0,
      "outputs": []
    },
    {
      "cell_type": "code",
      "metadata": {
        "id": "UitVXDHV4Ck4",
        "colab_type": "code",
        "outputId": "1d996ab5-3d43-4cc1-9f49-70b6f5a84447",
        "colab": {
          "base_uri": "https://localhost:8080/",
          "height": 89
        }
      },
      "source": [
        "# Check Shape\n",
        "print('Train Data Shape : ' + str(train_data.shape))\n",
        "print('Train Label Shape : ' + str(train_labels.shape))\n",
        "print('Validation Data Shape : ' + str(val_data.shape))\n",
        "print('Validation Label Shape : ' + str(val_labels.shape))"
      ],
      "execution_count": 0,
      "outputs": [
        {
          "output_type": "stream",
          "text": [
            "Train Data Shape : (78960, 784)\n",
            "Train Label Shape : (78960,)\n",
            "Validation Data Shape : (33840, 784)\n",
            "Validation Label Shape : (33840,)\n"
          ],
          "name": "stdout"
        }
      ]
    },
    {
      "cell_type": "markdown",
      "metadata": {
        "id": "Uu2587WgZZQo",
        "colab_type": "text"
      },
      "source": [
        "##Data Visualization\n",
        "\n",
        "<br/>\n",
        "\n",
        "전처리한 Data가 실제로 어떻게 생겼는지를 볼까요?\n",
        "\n",
        "<br/>\n",
        "\n",
        "아래의 코드는 [[Lec04_Keras_Tutorial](Lec04/Lec04_Keras_Tutorial.ipynb)]에서 가져온 것입니다.\n",
        "\n",
        "<br/>\n",
        "\n",
        "그때 데이터는 MNIST 데이터셋이었습니다.\n",
        "\n",
        "즉, train_data는 $(78960, 28, 28)$ 의 shape를 가지고,\n",
        "\n",
        "train_labels는 $(78960,)$ 의 shape를 가졌습니다.\n",
        "\n",
        "하지만 우리가 지금 가지고 있는 train_data, val_data는  $(?, 784)$의 shape입니다.\n",
        "\n",
        "따라서 아래 코드를 실행하려면 train_data, val_data를 $(?, 28, 28)$로 바꿔줘야 할 것 같네요!\n",
        "\n",
        "<br/>\n",
        "\n",
        "이제 Shape는 다음과 같아야 할 것입니다.\n",
        "\n",
        "train_data = $(78960, 28, 28)$\n",
        "\n",
        "train_labels = $(78960, )$\n",
        "\n",
        "val_data = $(33840, 28, 28)$\n",
        "\n",
        "val_labels = $(33840, )$\n",
        "\n",
        "<br/>\n",
        "\n",
        "또, Data의 Shape만 바꿔서 Visualization을 해보면, 글씨가 대각선으로 뒤집혀 있는 것을 확인하실 수 있습니다!\n",
        "\n",
        "아직 확인하지 않으셨다면, 먼저 확인하고 오세요 ; )\n",
        "\n",
        "원래 모양대로 출력하려면, Data의 축을 바꿔줄 필요가 있겠죠?\n",
        "\n",
        "형태는 똑같이 $(78960, 28, 28)$, $(33840, 28, 28)$이지만, 두번째와 세번째 축을 서로 바꿔주는 Transpose 연산을 해야 할 것입니다!\n",
        "\n",
        "<br/>\n",
        "\n",
        "** **useful hint** : numpy의 reshape, transpose를 이용한다면..? [[Lec0_Colab&Numpy_Tutorial](https://github.com/wenko99/Standalone_DDL/blob/master/Lec01/Lec01_Colab_&_Numpy_Tutorial.ipynb)]에 있을지도 모르겠네요!\n",
        "\n",
        "<br/>"
      ]
    },
    {
      "cell_type": "code",
      "metadata": {
        "id": "-KBQyJb8FLuY",
        "colab_type": "code",
        "colab": {}
      },
      "source": [
        "# Reshape Vector into Matrix\n",
        "train_data = train_data.reshape(78960, 28, 28)\n",
        "val_data = val_data.reshape(33840, 28, 28)\n",
        "train_data = np.transpose(train_data, (0, 2, 1))\n",
        "val_data = np.transpose(val_data, (0, 2, 1))"
      ],
      "execution_count": 0,
      "outputs": []
    },
    {
      "cell_type": "code",
      "metadata": {
        "id": "5VdZgxgwFZ82",
        "colab_type": "code",
        "outputId": "5403c5cd-652a-41ba-f41d-bdd699f6ad70",
        "colab": {
          "base_uri": "https://localhost:8080/",
          "height": 89
        }
      },
      "source": [
        "# Check Shape\n",
        "print('Train Data Shape : ' + str(train_data.shape))\n",
        "print('Train Label Shape : ' + str(train_labels.shape))\n",
        "print('Validation Data Shape : ' + str(val_data.shape))\n",
        "print('Validation Label Shape : ' + str(val_labels.shape))"
      ],
      "execution_count": 0,
      "outputs": [
        {
          "output_type": "stream",
          "text": [
            "Train Data Shape : (78960, 28, 28)\n",
            "Train Label Shape : (78960,)\n",
            "Validation Data Shape : (33840, 28, 28)\n",
            "Validation Label Shape : (33840,)\n"
          ],
          "name": "stdout"
        }
      ]
    },
    {
      "cell_type": "code",
      "metadata": {
        "id": "cfYP6IKD6s8d",
        "colab_type": "code",
        "colab": {}
      },
      "source": [
        "import matplotlib.pyplot as plt"
      ],
      "execution_count": 0,
      "outputs": []
    },
    {
      "cell_type": "code",
      "metadata": {
        "id": "Wm_7u-rWZqJQ",
        "colab_type": "code",
        "outputId": "51a6b155-6bd7-427b-f842-aab830dbb4f2",
        "colab": {
          "base_uri": "https://localhost:8080/",
          "height": 299
        }
      },
      "source": [
        "ascii_idx = [48, 49, 50, 51, 52, 53, 54, 55, 56, 57, 65, 66, 67, 68, 69, 70, 71, 72, 73, 74, 75, 76, 77, 78, 79, 80, 81, 82, 83, 84, 85, 86, 87, 88, 89, 90, 97, 98, 100, 101, 102, 103, 104, 110, 113, 114, 116]\n",
        "\n",
        "idx = 0\n",
        "\n",
        "fig = plt.figure()\n",
        "for i in range(6):\n",
        "    ax = fig.add_subplot(2, 3, i + 1)\n",
        "    image = train_data[idx]\n",
        "    ax.imshow(image)\n",
        "    ax.set_title(\"label = {}\".format(chr(ascii_idx[train_labels[idx]])))\n",
        "    idx += 1\n",
        "plt.subplots_adjust(hspace = 0.5, wspace = 0.3)\n",
        "plt.show()\n",
        "\n",
        "print(\"The shape of the image is {}\".format(image.shape))"
      ],
      "execution_count": 0,
      "outputs": [
        {
          "output_type": "display_data",
          "data": {
            "image/png": "[encoded data removed]",
            "text/plain": [
              "<Figure size 432x288 with 6 Axes>"
            ]
          },
          "metadata": {
            "tags": []
          }
        },
        {
          "output_type": "stream",
          "text": [
            "The shape of the image is (28, 28)\n"
          ],
          "name": "stdout"
        }
      ]
    },
    {
      "cell_type": "markdown",
      "metadata": {
        "id": "ynAh7-SqZcVC",
        "colab_type": "text"
      },
      "source": [
        "##Construct Model\n",
        "\n",
        "<br/>\n",
        "\n",
        "Keras를 통해 쉽게 할 수 있죠>\n",
        "\n",
        "<br/>\n",
        "\n",
        "이때,\n",
        "\n",
        "Loss Function은 무엇을 이용해야 할까요?\n",
        "\n",
        "sparse_categorical_crossentropy와 categorical_crossentropy가 어떻게 달랐을까요?\n",
        "\n",
        "Cross entropy loss를 이용하지 않는 다른 방법은 없을까요..?\n",
        "\n",
        "또, CNN을 적용하려면, Image가 Matrix가 아닌 Tensor가 되어야겠죠? Grayscale Image이므로, Channel은 1개입니다.\n",
        "\n",
        "<br/>\n",
        "\n",
        "따라서, 이제 train_data와 val_data의 shape는,\n",
        "\n",
        "train_data = $(78960, 28, 28, 1)$\n",
        "\n",
        "train_labels = $(78960, )$\n",
        "\n",
        "val_data = $(33840, 28, 28, 1)$\n",
        "\n",
        "val_labels = $(33840, )$\n",
        "\n",
        "이 되어야겠죠?\n",
        "\n",
        "<br/>\n",
        "\n",
        "채점 시 Input Shape는 $(number of data, 28, 28, 1)$을 기준으로 할 것입니다.\n",
        "\n",
        "따라서, CNN이 아닌 MLP를 만들고 싶으시면, Model의 맨 앞에 Flatten Layer를 추가해 주세요!\n",
        "\n",
        "tf.keras.layers.Flatten()을 Model의 맨 앞에 추가하면 되겠죠?\n",
        "\n",
        "<br/>"
      ]
    },
    {
      "cell_type": "code",
      "metadata": {
        "id": "8qhAnuqB9Jzn",
        "colab_type": "code",
        "colab": {}
      },
      "source": [
        "# Reshape Data so that Conv2D is applicable\n"
      ],
      "execution_count": 0,
      "outputs": []
    },
    {
      "cell_type": "code",
      "metadata": {
        "id": "onWMyHgA6owU",
        "colab_type": "code",
        "outputId": "0e4bc78b-b109-43e4-c97b-789e82feaed3",
        "colab": {
          "base_uri": "https://localhost:8080/",
          "height": 89
        }
      },
      "source": [
        "# Check Shape\n",
        "print('Train Data Shape : ' + str(train_data.shape))\n",
        "print('Train Label Shape : ' + str(train_labels.shape))\n",
        "print('Validation Data Shape : ' + str(val_data.shape))\n",
        "print('Validation Label Shape : ' + str(val_labels.shape))"
      ],
      "execution_count": 0,
      "outputs": [
        {
          "output_type": "stream",
          "text": [
            "Train Data Shape : (15000, 28, 28, 1)\n",
            "Train Label Shape : (15000,)\n",
            "Validation Data Shape : (3800, 28, 28, 1)\n",
            "Validation Label Shape : (3800,)\n"
          ],
          "name": "stdout"
        }
      ]
    },
    {
      "cell_type": "markdown",
      "metadata": {
        "id": "ySQRwpIP54kt",
        "colab_type": "text"
      },
      "source": [
        "###Hyperparameters Under Consideration\n",
        "\n",
        "<br/>\n",
        "\n",
        "**Activation**\n",
        "\n",
        "RELU...? Sigmoid...? Tanh...? Maxout...?\n",
        "\n",
        "Can be added via, **tf.keras.layers.Dense( ... , activation=?)**\n",
        "\n",
        "? 안을 적절한 Activation Function으로 채우면 됩니다!\n",
        "\n",
        "Activation Function의 종류는, 아래 Documentation에 잘 정리되어 있습니다.\n",
        "\n",
        "[[Keras Activation Documentation](https://keras.io/activations/)]\n",
        "\n",
        "<br/>\n",
        "\n",
        "**Regularization**\n",
        "\n",
        "L1 or L2 Regularizer...? Regularization Strength...?\n",
        "\n",
        "Can be added via, **tf.keras.layers.Dense( ... , kernel_regularizer=tf.keras.regularizers.l2(0.01))**\n",
        "\n",
        "괄호 안의 숫자가 Regularization Strength입니다. L1을 쓰려면, **regularizers.l1**을 쓰면 되겠죠?\n",
        "\n",
        "[[Keras Regularizer Documentation](https://keras.io/regularizers/)]\n",
        "\n",
        "<br/>\n",
        "\n",
        "**Weight Initialization**\n",
        "\n",
        "How should we set the initial values of the weight...?\n",
        "\n",
        "Can be added via, **tf.keras.layers.Dense( ... , kernel_initializers=?)**\n",
        "\n",
        "? 를 적절한 Initializer로 채워주면 됩니다.\n",
        "\n",
        "Normal Distribution을 사용하려면, **tf.keras.initializers.RandomNormal(mean=0.0, stddev=0.05, seed=None)**\n",
        "\n",
        "Xavier Initialization을 사용하려면, **tf.keras.initializers.glorot_normal(seed=None)**\n",
        "\n",
        "을 사용하면 됩니다!\n",
        "\n",
        "더 다양한 Initializer들은 Documentation에 나와 있습니다!\n",
        "\n",
        "[[Keras Initizlizer Documentation](https://keras.io/initializers/)]\n",
        "\n",
        "<br/>\n",
        "\n",
        "**Optimizer**\n",
        "\n",
        "SGD...? RMSProp...? Nesterov Momentum...? Adam...? Learning Rate Decay...?\n",
        "\n",
        "Can be added in, **model.compile(optimizer=?, ... )**\n",
        "\n",
        "? 안을 적절한 Optimizer로 채우시면 됩니다. \n",
        "\n",
        "동시에, Learning Rate도 같이 정의해 주세요! Learning Rate의 Decay Rat 또한 설정 가능합니다!!\n",
        "\n",
        "이것은 Documentation을 보는 것이 더 도움이 될 것 같습니다.\n",
        "\n",
        "[[Keras Optimizer Documentation](https://keras.io/optimizers/)]\n",
        "\n",
        "<br/>\n",
        "\n",
        "**Loss Function**\n",
        "\n",
        "Multiclass SVM Loss...? Cross-Entropy Loss...?\n",
        "\n",
        "Can be added in, **model.compile( ..., loss=?, ... )**\n",
        "\n",
        "Multiclass SVM Loss의 경우, **categorical_hinge**\n",
        "\n",
        "Cross-Entropy Loss의 경우, **sparse_categorical_crossentropy** or **categorical_crossentropy**\n",
        "\n",
        "(후자의 경우, label들이 one-hot vector이어야 하죠??)\n",
        "\n",
        "[[Keras Loss Documentation](https://keras.io/losses/)]\n",
        "\n",
        "<br/>\n",
        "\n",
        "\n",
        "\n",
        "\n"
      ]
    },
    {
      "cell_type": "code",
      "metadata": {
        "id": "GlahPSHx-LDb",
        "colab_type": "code",
        "colab": {}
      },
      "source": [
        "import tensorflow as tf"
      ],
      "execution_count": 0,
      "outputs": []
    },
    {
      "cell_type": "code",
      "metadata": {
        "id": "8oaabsx2Zqtz",
        "colab_type": "code",
        "outputId": "3f591cf9-4d99-47b5-ad7e-6de7cf79c623",
        "colab": {
          "base_uri": "https://localhost:8080/",
          "height": 413
        }
      },
      "source": [
        "model = tf.keras.Sequential([\n",
        "    \n",
        "])\n",
        "\n",
        "model.compile(optimizer=tf.keras.optimizers.Adam(0.01),\n",
        "             loss=,\n",
        "             metrics=['accuracy'])\n",
        "\n",
        "model.summary()"
      ],
      "execution_count": 0,
      "outputs": [
        {
          "output_type": "stream",
          "text": [
            "Model: \"sequential_5\"\n",
            "_________________________________________________________________\n",
            "Layer (type)                 Output Shape              Param #   \n",
            "=================================================================\n",
            "conv2d_12 (Conv2D)           (None, 26, 26, 32)        320       \n",
            "_________________________________________________________________\n",
            "max_pooling2d_12 (MaxPooling (None, 13, 13, 32)        0         \n",
            "_________________________________________________________________\n",
            "conv2d_13 (Conv2D)           (None, 11, 11, 64)        18496     \n",
            "_________________________________________________________________\n",
            "max_pooling2d_13 (MaxPooling (None, 5, 5, 64)          0         \n",
            "_________________________________________________________________\n",
            "flatten_6 (Flatten)          (None, 1600)              0         \n",
            "_________________________________________________________________\n",
            "dense_10 (Dense)             (None, 512)               819712    \n",
            "_________________________________________________________________\n",
            "dense_11 (Dense)             (None, 47)                24111     \n",
            "=================================================================\n",
            "Total params: 862,639\n",
            "Trainable params: 862,639\n",
            "Non-trainable params: 0\n",
            "_________________________________________________________________\n"
          ],
          "name": "stdout"
        }
      ]
    },
    {
      "cell_type": "markdown",
      "metadata": {
        "id": "oLpShpjEZtgZ",
        "colab_type": "text"
      },
      "source": [
        "## Train Model\n",
        "\n",
        "<br/>\n",
        "\n",
        "위에서 정의한 Model을 학습시킵시다!\n",
        "\n",
        "학습이 너무 느리다면, **epoch** 수를 줄이거나, **batch_size**를 줄이거나, validation set의 크기를 줄여보세요!\n",
        "\n",
        "<br/>"
      ]
    },
    {
      "cell_type": "code",
      "metadata": {
        "id": "6kpIcYRoZwPH",
        "colab_type": "code",
        "outputId": "8b1df9a8-3d9a-4b73-df08-2b262d3d67ca",
        "colab": {
          "base_uri": "https://localhost:8080/",
          "height": 1000
        }
      },
      "source": [
        "hist = model.fit(train_data, train_labels, epochs=100, batch_size=100, validation_data=(val_data, val_labels))"
      ],
      "execution_count": 0,
      "outputs": [
        {
          "output_type": "stream",
          "text": [
            "Train on 15000 samples, validate on 3800 samples\n",
            "Epoch 1/100\n",
            "15000/15000 [==============================] - 2s 159us/sample - loss: 1.6617 - acc: 0.6776 - val_loss: 1.7109 - val_acc: 0.6650\n",
            "Epoch 2/100\n",
            "15000/15000 [==============================] - 3s 179us/sample - loss: 1.6583 - acc: 0.6778 - val_loss: 1.7077 - val_acc: 0.6653\n",
            "Epoch 3/100\n",
            "15000/15000 [==============================] - 3s 183us/sample - loss: 1.6548 - acc: 0.6794 - val_loss: 1.7046 - val_acc: 0.6676\n",
            "Epoch 4/100\n",
            "15000/15000 [==============================] - 3s 174us/sample - loss: 1.6518 - acc: 0.6795 - val_loss: 1.7016 - val_acc: 0.6676\n",
            "Epoch 5/100\n",
            "15000/15000 [==============================] - 3s 172us/sample - loss: 1.6486 - acc: 0.6792 - val_loss: 1.6989 - val_acc: 0.6676\n",
            "Epoch 6/100\n",
            "15000/15000 [==============================] - 3s 174us/sample - loss: 1.6458 - acc: 0.6811 - val_loss: 1.6964 - val_acc: 0.6679\n",
            "Epoch 7/100\n",
            "15000/15000 [==============================] - 3s 173us/sample - loss: 1.6429 - acc: 0.6817 - val_loss: 1.6935 - val_acc: 0.6687\n",
            "Epoch 8/100\n",
            "15000/15000 [==============================] - 3s 177us/sample - loss: 1.6401 - acc: 0.6829 - val_loss: 1.6911 - val_acc: 0.6692\n",
            "Epoch 9/100\n",
            "15000/15000 [==============================] - 3s 178us/sample - loss: 1.6375 - acc: 0.6823 - val_loss: 1.6887 - val_acc: 0.6687\n",
            "Epoch 10/100\n",
            "15000/15000 [==============================] - 3s 172us/sample - loss: 1.6348 - acc: 0.6840 - val_loss: 1.6865 - val_acc: 0.6689\n",
            "Epoch 11/100\n",
            "15000/15000 [==============================] - 3s 177us/sample - loss: 1.6325 - acc: 0.6845 - val_loss: 1.6842 - val_acc: 0.6692\n",
            "Epoch 12/100\n",
            "15000/15000 [==============================] - 3s 176us/sample - loss: 1.6299 - acc: 0.6847 - val_loss: 1.6822 - val_acc: 0.6687\n",
            "Epoch 13/100\n",
            "15000/15000 [==============================] - 3s 174us/sample - loss: 1.6275 - acc: 0.6845 - val_loss: 1.6799 - val_acc: 0.6708\n",
            "Epoch 14/100\n",
            "15000/15000 [==============================] - 3s 172us/sample - loss: 1.6252 - acc: 0.6859 - val_loss: 1.6776 - val_acc: 0.6700\n",
            "Epoch 15/100\n",
            "15000/15000 [==============================] - 2s 164us/sample - loss: 1.6231 - acc: 0.6869 - val_loss: 1.6757 - val_acc: 0.6705\n",
            "Epoch 16/100\n",
            "15000/15000 [==============================] - 2s 158us/sample - loss: 1.6209 - acc: 0.6865 - val_loss: 1.6736 - val_acc: 0.6718\n",
            "Epoch 17/100\n",
            "15000/15000 [==============================] - 2s 165us/sample - loss: 1.6188 - acc: 0.6879 - val_loss: 1.6719 - val_acc: 0.6708\n",
            "Epoch 18/100\n",
            "15000/15000 [==============================] - 3s 172us/sample - loss: 1.6168 - acc: 0.6887 - val_loss: 1.6699 - val_acc: 0.6708\n",
            "Epoch 19/100\n",
            "15000/15000 [==============================] - 2s 160us/sample - loss: 1.6147 - acc: 0.6874 - val_loss: 1.6680 - val_acc: 0.6724\n",
            "Epoch 20/100\n",
            "15000/15000 [==============================] - 2s 166us/sample - loss: 1.6128 - acc: 0.6883 - val_loss: 1.6661 - val_acc: 0.6726\n",
            "Epoch 21/100\n",
            "15000/15000 [==============================] - 2s 163us/sample - loss: 1.6108 - acc: 0.6889 - val_loss: 1.6645 - val_acc: 0.6732\n",
            "Epoch 22/100\n",
            "15000/15000 [==============================] - 2s 162us/sample - loss: 1.6090 - acc: 0.6893 - val_loss: 1.6627 - val_acc: 0.6729\n",
            "Epoch 23/100\n",
            "15000/15000 [==============================] - 3s 168us/sample - loss: 1.6071 - acc: 0.6907 - val_loss: 1.6611 - val_acc: 0.6737\n",
            "Epoch 24/100\n",
            "15000/15000 [==============================] - 3s 172us/sample - loss: 1.6054 - acc: 0.6897 - val_loss: 1.6595 - val_acc: 0.6729\n",
            "Epoch 25/100\n",
            "15000/15000 [==============================] - 3s 169us/sample - loss: 1.6036 - acc: 0.6904 - val_loss: 1.6579 - val_acc: 0.6745\n",
            "Epoch 26/100\n",
            "15000/15000 [==============================] - 3s 173us/sample - loss: 1.6018 - acc: 0.6912 - val_loss: 1.6562 - val_acc: 0.6747\n",
            "Epoch 27/100\n",
            "15000/15000 [==============================] - 3s 172us/sample - loss: 1.6003 - acc: 0.6911 - val_loss: 1.6548 - val_acc: 0.6742\n",
            "Epoch 28/100\n",
            "15000/15000 [==============================] - 3s 169us/sample - loss: 1.5985 - acc: 0.6919 - val_loss: 1.6532 - val_acc: 0.6747\n",
            "Epoch 29/100\n",
            "15000/15000 [==============================] - 3s 170us/sample - loss: 1.5970 - acc: 0.6924 - val_loss: 1.6517 - val_acc: 0.6755\n",
            "Epoch 30/100\n",
            "15000/15000 [==============================] - 3s 174us/sample - loss: 1.5953 - acc: 0.6927 - val_loss: 1.6501 - val_acc: 0.6753\n",
            "Epoch 31/100\n",
            "15000/15000 [==============================] - 3s 168us/sample - loss: 1.5939 - acc: 0.6929 - val_loss: 1.6489 - val_acc: 0.6761\n",
            "Epoch 32/100\n",
            "15000/15000 [==============================] - 3s 169us/sample - loss: 1.5924 - acc: 0.6921 - val_loss: 1.6474 - val_acc: 0.6766\n",
            "Epoch 33/100\n",
            "15000/15000 [==============================] - 2s 162us/sample - loss: 1.5910 - acc: 0.6933 - val_loss: 1.6460 - val_acc: 0.6771\n",
            "Epoch 34/100\n",
            "15000/15000 [==============================] - 2s 160us/sample - loss: 1.5895 - acc: 0.6938 - val_loss: 1.6449 - val_acc: 0.6763\n",
            "Epoch 35/100\n",
            "15000/15000 [==============================] - 3s 171us/sample - loss: 1.5880 - acc: 0.6943 - val_loss: 1.6437 - val_acc: 0.6768\n",
            "Epoch 36/100\n",
            "15000/15000 [==============================] - 3s 175us/sample - loss: 1.5866 - acc: 0.6948 - val_loss: 1.6425 - val_acc: 0.6776\n",
            "Epoch 37/100\n",
            "15000/15000 [==============================] - 3s 172us/sample - loss: 1.5853 - acc: 0.6943 - val_loss: 1.6410 - val_acc: 0.6779\n",
            "Epoch 38/100\n",
            "15000/15000 [==============================] - 3s 173us/sample - loss: 1.5839 - acc: 0.6952 - val_loss: 1.6399 - val_acc: 0.6771\n",
            "Epoch 39/100\n",
            "15000/15000 [==============================] - 3s 173us/sample - loss: 1.5826 - acc: 0.6953 - val_loss: 1.6385 - val_acc: 0.6782\n",
            "Epoch 40/100\n",
            "15000/15000 [==============================] - 3s 179us/sample - loss: 1.5812 - acc: 0.6953 - val_loss: 1.6374 - val_acc: 0.6782\n",
            "Epoch 41/100\n",
            "15000/15000 [==============================] - 3s 177us/sample - loss: 1.5800 - acc: 0.6947 - val_loss: 1.6362 - val_acc: 0.6776\n",
            "Epoch 42/100\n",
            "15000/15000 [==============================] - 3s 174us/sample - loss: 1.5787 - acc: 0.6957 - val_loss: 1.6352 - val_acc: 0.6782\n",
            "Epoch 43/100\n",
            "15000/15000 [==============================] - 3s 174us/sample - loss: 1.5775 - acc: 0.6954 - val_loss: 1.6340 - val_acc: 0.6787\n",
            "Epoch 44/100\n",
            "15000/15000 [==============================] - 3s 173us/sample - loss: 1.5763 - acc: 0.6963 - val_loss: 1.6327 - val_acc: 0.6784\n",
            "Epoch 45/100\n",
            "15000/15000 [==============================] - 3s 178us/sample - loss: 1.5751 - acc: 0.6967 - val_loss: 1.6316 - val_acc: 0.6792\n",
            "Epoch 46/100\n",
            "15000/15000 [==============================] - 3s 179us/sample - loss: 1.5739 - acc: 0.6965 - val_loss: 1.6307 - val_acc: 0.6789\n",
            "Epoch 47/100\n",
            "15000/15000 [==============================] - 3s 180us/sample - loss: 1.5727 - acc: 0.6973 - val_loss: 1.6294 - val_acc: 0.6784\n",
            "Epoch 48/100\n",
            "15000/15000 [==============================] - 3s 180us/sample - loss: 1.5715 - acc: 0.6968 - val_loss: 1.6284 - val_acc: 0.6782\n",
            "Epoch 49/100\n",
            "15000/15000 [==============================] - 3s 178us/sample - loss: 1.5705 - acc: 0.6975 - val_loss: 1.6274 - val_acc: 0.6782\n",
            "Epoch 50/100\n",
            "15000/15000 [==============================] - 3s 178us/sample - loss: 1.5693 - acc: 0.6974 - val_loss: 1.6263 - val_acc: 0.6795\n",
            "Epoch 51/100\n",
            "15000/15000 [==============================] - 3s 175us/sample - loss: 1.5681 - acc: 0.6978 - val_loss: 1.6253 - val_acc: 0.6800\n",
            "Epoch 52/100\n",
            "15000/15000 [==============================] - 3s 172us/sample - loss: 1.5671 - acc: 0.6978 - val_loss: 1.6243 - val_acc: 0.6792\n",
            "Epoch 53/100\n",
            "15000/15000 [==============================] - 3s 172us/sample - loss: 1.5660 - acc: 0.6979 - val_loss: 1.6234 - val_acc: 0.6797\n",
            "Epoch 54/100\n",
            "15000/15000 [==============================] - 3s 172us/sample - loss: 1.5649 - acc: 0.6987 - val_loss: 1.6225 - val_acc: 0.6792\n",
            "Epoch 55/100\n",
            "15000/15000 [==============================] - 3s 176us/sample - loss: 1.5639 - acc: 0.6985 - val_loss: 1.6215 - val_acc: 0.6803\n",
            "Epoch 56/100\n",
            "15000/15000 [==============================] - 2s 165us/sample - loss: 1.5629 - acc: 0.6990 - val_loss: 1.6204 - val_acc: 0.6800\n",
            "Epoch 57/100\n",
            "15000/15000 [==============================] - 2s 166us/sample - loss: 1.5619 - acc: 0.6994 - val_loss: 1.6195 - val_acc: 0.6800\n",
            "Epoch 58/100\n",
            "15000/15000 [==============================] - 3s 167us/sample - loss: 1.5609 - acc: 0.6994 - val_loss: 1.6186 - val_acc: 0.6811\n",
            "Epoch 59/100\n",
            "15000/15000 [==============================] - 2s 164us/sample - loss: 1.5598 - acc: 0.6999 - val_loss: 1.6178 - val_acc: 0.6803\n",
            "Epoch 60/100\n",
            "15000/15000 [==============================] - 2s 166us/sample - loss: 1.5589 - acc: 0.6999 - val_loss: 1.6170 - val_acc: 0.6803\n",
            "Epoch 61/100\n",
            "15000/15000 [==============================] - 2s 157us/sample - loss: 1.5580 - acc: 0.7004 - val_loss: 1.6161 - val_acc: 0.6800\n",
            "Epoch 62/100\n",
            "15000/15000 [==============================] - 2s 159us/sample - loss: 1.5570 - acc: 0.6996 - val_loss: 1.6151 - val_acc: 0.6800\n",
            "Epoch 63/100\n",
            "15000/15000 [==============================] - 2s 164us/sample - loss: 1.5561 - acc: 0.7006 - val_loss: 1.6142 - val_acc: 0.6803\n",
            "Epoch 64/100\n",
            "15000/15000 [==============================] - 3s 167us/sample - loss: 1.5552 - acc: 0.7000 - val_loss: 1.6135 - val_acc: 0.6795\n",
            "Epoch 65/100\n",
            "15000/15000 [==============================] - 2s 164us/sample - loss: 1.5542 - acc: 0.7010 - val_loss: 1.6127 - val_acc: 0.6805\n",
            "Epoch 66/100\n",
            "15000/15000 [==============================] - 3s 169us/sample - loss: 1.5533 - acc: 0.7010 - val_loss: 1.6117 - val_acc: 0.6805\n",
            "Epoch 67/100\n",
            "15000/15000 [==============================] - 3s 173us/sample - loss: 1.5524 - acc: 0.7012 - val_loss: 1.6110 - val_acc: 0.6805\n",
            "Epoch 68/100\n",
            "15000/15000 [==============================] - 3s 172us/sample - loss: 1.5515 - acc: 0.7006 - val_loss: 1.6100 - val_acc: 0.6811\n",
            "Epoch 69/100\n",
            "15000/15000 [==============================] - 3s 171us/sample - loss: 1.5507 - acc: 0.7005 - val_loss: 1.6093 - val_acc: 0.6808\n",
            "Epoch 70/100\n",
            "15000/15000 [==============================] - 3s 173us/sample - loss: 1.5499 - acc: 0.7015 - val_loss: 1.6085 - val_acc: 0.6808\n",
            "Epoch 71/100\n",
            "15000/15000 [==============================] - 3s 174us/sample - loss: 1.5490 - acc: 0.7019 - val_loss: 1.6077 - val_acc: 0.6808\n",
            "Epoch 72/100\n",
            "15000/15000 [==============================] - 3s 170us/sample - loss: 1.5482 - acc: 0.7017 - val_loss: 1.6069 - val_acc: 0.6818\n",
            "Epoch 73/100\n",
            "15000/15000 [==============================] - 2s 163us/sample - loss: 1.5473 - acc: 0.7025 - val_loss: 1.6062 - val_acc: 0.6816\n",
            "Epoch 74/100\n",
            "15000/15000 [==============================] - 3s 168us/sample - loss: 1.5465 - acc: 0.7018 - val_loss: 1.6054 - val_acc: 0.6818\n",
            "Epoch 75/100\n",
            "15000/15000 [==============================] - 3s 168us/sample - loss: 1.5457 - acc: 0.7029 - val_loss: 1.6046 - val_acc: 0.6826\n",
            "Epoch 76/100\n",
            "15000/15000 [==============================] - 3s 173us/sample - loss: 1.5449 - acc: 0.7026 - val_loss: 1.6039 - val_acc: 0.6821\n",
            "Epoch 77/100\n",
            "15000/15000 [==============================] - 3s 168us/sample - loss: 1.5441 - acc: 0.7024 - val_loss: 1.6034 - val_acc: 0.6826\n",
            "Epoch 78/100\n",
            "15000/15000 [==============================] - 2s 166us/sample - loss: 1.5433 - acc: 0.7030 - val_loss: 1.6025 - val_acc: 0.6832\n",
            "Epoch 79/100\n",
            "15000/15000 [==============================] - 3s 170us/sample - loss: 1.5426 - acc: 0.7027 - val_loss: 1.6018 - val_acc: 0.6834\n",
            "Epoch 80/100\n",
            "15000/15000 [==============================] - 2s 166us/sample - loss: 1.5418 - acc: 0.7029 - val_loss: 1.6011 - val_acc: 0.6837\n",
            "Epoch 81/100\n",
            "15000/15000 [==============================] - 3s 170us/sample - loss: 1.5410 - acc: 0.7027 - val_loss: 1.6004 - val_acc: 0.6834\n",
            "Epoch 82/100\n",
            "15000/15000 [==============================] - 3s 178us/sample - loss: 1.5403 - acc: 0.7034 - val_loss: 1.5998 - val_acc: 0.6832\n",
            "Epoch 83/100\n",
            "15000/15000 [==============================] - 3s 177us/sample - loss: 1.5395 - acc: 0.7035 - val_loss: 1.5990 - val_acc: 0.6842\n",
            "Epoch 84/100\n",
            "15000/15000 [==============================] - 3s 178us/sample - loss: 1.5388 - acc: 0.7039 - val_loss: 1.5983 - val_acc: 0.6842\n",
            "Epoch 85/100\n",
            "15000/15000 [==============================] - 3s 178us/sample - loss: 1.5380 - acc: 0.7032 - val_loss: 1.5977 - val_acc: 0.6837\n",
            "Epoch 86/100\n",
            "15000/15000 [==============================] - 3s 177us/sample - loss: 1.5373 - acc: 0.7034 - val_loss: 1.5970 - val_acc: 0.6845\n",
            "Epoch 87/100\n",
            "15000/15000 [==============================] - 3s 178us/sample - loss: 1.5366 - acc: 0.7037 - val_loss: 1.5964 - val_acc: 0.6845\n",
            "Epoch 88/100\n",
            "15000/15000 [==============================] - 3s 176us/sample - loss: 1.5359 - acc: 0.7038 - val_loss: 1.5957 - val_acc: 0.6842\n",
            "Epoch 89/100\n",
            "15000/15000 [==============================] - 3s 180us/sample - loss: 1.5352 - acc: 0.7039 - val_loss: 1.5950 - val_acc: 0.6845\n",
            "Epoch 90/100\n",
            "15000/15000 [==============================] - 3s 179us/sample - loss: 1.5345 - acc: 0.7041 - val_loss: 1.5944 - val_acc: 0.6853\n",
            "Epoch 91/100\n",
            "15000/15000 [==============================] - 3s 179us/sample - loss: 1.5338 - acc: 0.7041 - val_loss: 1.5937 - val_acc: 0.6850\n",
            "Epoch 92/100\n",
            "15000/15000 [==============================] - 3s 181us/sample - loss: 1.5331 - acc: 0.7045 - val_loss: 1.5931 - val_acc: 0.6855\n",
            "Epoch 93/100\n",
            "15000/15000 [==============================] - 3s 182us/sample - loss: 1.5324 - acc: 0.7052 - val_loss: 1.5926 - val_acc: 0.6850\n",
            "Epoch 94/100\n",
            "15000/15000 [==============================] - 3s 184us/sample - loss: 1.5318 - acc: 0.7045 - val_loss: 1.5919 - val_acc: 0.6863\n",
            "Epoch 95/100\n",
            "15000/15000 [==============================] - 3s 180us/sample - loss: 1.5311 - acc: 0.7047 - val_loss: 1.5913 - val_acc: 0.6866\n",
            "Epoch 96/100\n",
            "15000/15000 [==============================] - 3s 181us/sample - loss: 1.5305 - acc: 0.7051 - val_loss: 1.5906 - val_acc: 0.6866\n",
            "Epoch 97/100\n",
            "15000/15000 [==============================] - 3s 181us/sample - loss: 1.5298 - acc: 0.7053 - val_loss: 1.5901 - val_acc: 0.6866\n",
            "Epoch 98/100\n",
            "15000/15000 [==============================] - 3s 177us/sample - loss: 1.5292 - acc: 0.7057 - val_loss: 1.5895 - val_acc: 0.6866\n",
            "Epoch 99/100\n",
            "15000/15000 [==============================] - 3s 179us/sample - loss: 1.5285 - acc: 0.7058 - val_loss: 1.5890 - val_acc: 0.6868\n",
            "Epoch 100/100\n",
            "15000/15000 [==============================] - 3s 180us/sample - loss: 1.5279 - acc: 0.7055 - val_loss: 1.5883 - val_acc: 0.6871\n"
          ],
          "name": "stdout"
        }
      ]
    },
    {
      "cell_type": "markdown",
      "metadata": {
        "id": "_YtO4ijoZz60",
        "colab_type": "text"
      },
      "source": [
        "## Model Visualization\n",
        "\n",
        "<br/>\n",
        "\n",
        "학습시킨 Model의 성능이 어느정도인지 확인합니다.\n",
        "\n",
        "Overfitting이나 Underfitting이 일어난 것 같다면, Hyperparameter를 바꿔줘야겠죠?\n",
        "\n",
        "Hyperparameter를 바꿔서 Model을 다시 Compile해 보세요!!\n",
        "\n",
        "<br/>"
      ]
    },
    {
      "cell_type": "code",
      "metadata": {
        "id": "k2IpqWPNZ3Vd",
        "colab_type": "code",
        "outputId": "86500fe8-7441-41a5-94c2-88b7bd892eca",
        "colab": {
          "base_uri": "https://localhost:8080/",
          "height": 283
        }
      },
      "source": [
        "fig, loss_ax = plt.subplots()\n",
        "\n",
        "acc_ax = loss_ax.twinx()\n",
        "\n",
        "loss_ax.plot(hist.history['loss'], 'y', label='train loss')\n",
        "loss_ax.plot(hist.history['val_loss'], 'r', label='val loss')\n",
        "\n",
        "acc_ax.plot(hist.history['acc'], 'b', label='train acc')\n",
        "acc_ax.plot(hist.history['val_acc'], 'g', label='val acc')\n",
        "\n",
        "loss_ax.set_xlabel('epoch')\n",
        "loss_ax.set_ylabel('loss')\n",
        "acc_ax.set_ylabel('accuray')\n",
        "\n",
        "loss_ax.legend(loc='upper left')\n",
        "acc_ax.legend(loc='lower left')\n",
        "\n",
        "plt.show()"
      ],
      "execution_count": 0,
      "outputs": [
        {
          "output_type": "display_data",
          "data": {
            "image/png": "[encoded data removed]",
            "text/plain": [
              "<Figure size 432x288 with 2 Axes>"
            ]
          },
          "metadata": {
            "tags": []
          }
        }
      ]
    },
    {
      "cell_type": "markdown",
      "metadata": {
        "id": "18s1cWpyHaQu",
        "colab_type": "text"
      },
      "source": [
        "##Export Model\n",
        "\n",
        "<br/>\n",
        "\n",
        "Model의 Architecture와 Parameter를 External File로 Export합니다.\n",
        "\n",
        "아래 코드 셀의 **model_name** 변수에 자신의 Model 이름을 작은따옴표 안에 넣어 저장해 주세요!\n",
        "\n",
        "Ex) model_name = 'jaehyunlee'\n",
        "\n",
        "<br/>"
      ]
    },
    {
      "cell_type": "code",
      "metadata": {
        "id": "eIoLoSb713hD",
        "colab_type": "code",
        "colab": {}
      },
      "source": [
        "model_name = "
      ],
      "execution_count": 0,
      "outputs": []
    },
    {
      "cell_type": "code",
      "metadata": {
        "id": "Aw00TsPqICYB",
        "colab_type": "code",
        "colab": {}
      },
      "source": [
        "import json"
      ],
      "execution_count": 0,
      "outputs": []
    },
    {
      "cell_type": "code",
      "metadata": {
        "id": "r-LkGgEJHYrT",
        "colab_type": "code",
        "colab": {}
      },
      "source": [
        "# Save weights\n",
        "model_weights = model_name + '_weights.h5'\n",
        "model.save_weights(model_weights)\n",
        "# Save model architecture\n",
        "model_architecture = model_name + '_architecture.json'\n",
        "with open(model_architecture, 'w') as f:\n",
        "    f.write(model.to_json())"
      ],
      "execution_count": 0,
      "outputs": []
    },
    {
      "cell_type": "code",
      "metadata": {
        "id": "PI5eEFL2HswW",
        "colab_type": "code",
        "colab": {}
      },
      "source": [
        "# Download files on Colab into Local Directory\n",
        "from google.colab import files\n",
        "files.download(model_weights)\n",
        "files.download(model_architecture)"
      ],
      "execution_count": 0,
      "outputs": []
    },
    {
      "cell_type": "markdown",
      "metadata": {
        "id": "X2zRpnWCH6kL",
        "colab_type": "text"
      },
      "source": [
        "##Check if Model was correcly exported\n",
        "\n",
        "<br/>\n",
        "\n",
        "위에서 Export한 File이 잘 저장되었나 확인합니다.\n",
        "\n",
        "아래 코드 셀들을 실행하여 **\"Exported Model and Current Model are the Same\"**이 나오면 문제없이 Export된 것입니다.\n",
        "\n",
        "아니라면, 런타임을 초기화해서 다시 실행해 보세요...!\n",
        "\n",
        "<br/>"
      ]
    },
    {
      "cell_type": "code",
      "metadata": {
        "id": "sIx2tZWNGHJh",
        "colab_type": "code",
        "colab": {}
      },
      "source": [
        "model_weights = 'jaehyunlee_weights.h5'\n",
        "model_architecture = 'jaehyunlee_architecture.json'"
      ],
      "execution_count": 0,
      "outputs": []
    },
    {
      "cell_type": "code",
      "metadata": {
        "id": "bQ0a59snIQJz",
        "colab_type": "code",
        "outputId": "0c78b217-d11f-432e-e702-ccdcade95843",
        "colab": {
          "base_uri": "https://localhost:8080/",
          "height": 273
        }
      },
      "source": [
        "with open(model_architecture, 'r') as f:\n",
        "    model_dummy = tf.keras.models.model_from_json(f.read())\n",
        "model_dummy.load_weights(model_weights)"
      ],
      "execution_count": 0,
      "outputs": [
        {
          "output_type": "stream",
          "text": [
            "WARNING: Logging before flag parsing goes to stderr.\n",
            "W0801 07:33:55.379884 140704307144576 deprecation.py:506] From /usr/local/lib/python3.6/dist-packages/tensorflow/python/ops/init_ops.py:97: calling GlorotNormal.__init__ (from tensorflow.python.ops.init_ops) with dtype is deprecated and will be removed in a future version.\n",
            "Instructions for updating:\n",
            "Call initializer instance with the dtype argument instead of passing it to the constructor\n",
            "W0801 07:33:55.381824 140704307144576 deprecation.py:506] From /usr/local/lib/python3.6/dist-packages/tensorflow/python/ops/init_ops.py:1288: calling VarianceScaling.__init__ (from tensorflow.python.ops.init_ops) with dtype is deprecated and will be removed in a future version.\n",
            "Instructions for updating:\n",
            "Call initializer instance with the dtype argument instead of passing it to the constructor\n",
            "W0801 07:33:55.388376 140704307144576 deprecation.py:506] From /usr/local/lib/python3.6/dist-packages/tensorflow/python/ops/init_ops.py:97: calling Zeros.__init__ (from tensorflow.python.ops.init_ops) with dtype is deprecated and will be removed in a future version.\n",
            "Instructions for updating:\n",
            "Call initializer instance with the dtype argument instead of passing it to the constructor\n",
            "W0801 07:33:55.490943 140704307144576 deprecation.py:506] From /usr/local/lib/python3.6/dist-packages/tensorflow/python/ops/init_ops.py:97: calling GlorotUniform.__init__ (from tensorflow.python.ops.init_ops) with dtype is deprecated and will be removed in a future version.\n",
            "Instructions for updating:\n",
            "Call initializer instance with the dtype argument instead of passing it to the constructor\n"
          ],
          "name": "stderr"
        }
      ]
    },
    {
      "cell_type": "code",
      "metadata": {
        "id": "Fnvz2e73IizU",
        "colab_type": "code",
        "outputId": "91623383-1602-4b03-9c70-85ffc37aa498",
        "colab": {
          "base_uri": "https://localhost:8080/",
          "height": 35
        }
      },
      "source": [
        "predict = model.predict(val_data)\n",
        "predict_dummy = model_dummy.predict(val_data)\n",
        "\n",
        "for i in range(len(val_data)):\n",
        "    if np.argmax(predict[i]) != np.argmax(predict_dummy[i]):\n",
        "        print(\"Exported Model and Current Model are Different...\")\n",
        "        break\n",
        "    if i == len(val_data) - 1:\n",
        "        print(\"Exported Model and Current Model are the Same\")"
      ],
      "execution_count": 0,
      "outputs": [
        {
          "output_type": "stream",
          "text": [
            "Exported Model and Current Model are the Same\n"
          ],
          "name": "stdout"
        }
      ]
    },
    {
      "cell_type": "markdown",
      "metadata": {
        "id": "BvhWTOdaTIKE",
        "colab_type": "text"
      },
      "source": [
        "##Draw Test Data\n",
        "\n",
        "<br/>\n",
        "\n",
        "직접 Canvas에 그림을 그리면서 Model의 Prediction 결과를 확인해 봅시다!\n",
        "\n",
        "code from, [[Colab Canvas](https://gist.github.com/korakot/8409b3feec20f159d8a50b0a811d3bca)]\n",
        "\n",
        "<br/>"
      ]
    },
    {
      "cell_type": "code",
      "metadata": {
        "id": "mx4Vzd9ySW_9",
        "colab_type": "code",
        "colab": {}
      },
      "source": [
        "from IPython.display import HTML, Image\n",
        "from google.colab.output import eval_js\n",
        "from base64 import b64decode\n",
        "\n",
        "canvas_html = \"\"\"\n",
        "<canvas width=%d height=%d></canvas>\n",
        "<button>Finish</button>\n",
        "<script>\n",
        "var canvas = document.querySelector('canvas')\n",
        "var ctx = canvas.getContext('2d')\n",
        "ctx.lineWidth = %d\n",
        "var button = document.querySelector('button')\n",
        "var mouse = {x: 0, y: 0}\n",
        "canvas.addEventListener('mousemove', function(e) {\n",
        "  mouse.x = e.pageX - this.offsetLeft\n",
        "  mouse.y = e.pageY - this.offsetTop\n",
        "})\n",
        "canvas.onmousedown = ()=>{\n",
        "  ctx.beginPath()\n",
        "  ctx.moveTo(mouse.x, mouse.y)\n",
        "  canvas.addEventListener('mousemove', onPaint)\n",
        "}\n",
        "canvas.onmouseup = ()=>{\n",
        "  canvas.removeEventListener('mousemove', onPaint)\n",
        "}\n",
        "var onPaint = ()=>{\n",
        "  ctx.lineTo(mouse.x, mouse.y)\n",
        "  ctx.stroke()\n",
        "}\n",
        "var data = new Promise(resolve=>{\n",
        "  button.onclick = ()=>{\n",
        "    resolve(canvas.toDataURL('image/png'))\n",
        "  }\n",
        "})\n",
        "</script>\n",
        "\"\"\"\n",
        "\n",
        "def draw(filename, w=100, h=100, line_width=8):\n",
        "  display(HTML(canvas_html % (w, h, line_width)))\n",
        "  data = eval_js(\"data\")\n",
        "  binary = b64decode(data.split(',')[1])\n",
        "  with open(filename, 'wb') as f:\n",
        "    f.write(binary)\n",
        "  return len(binary)"
      ],
      "execution_count": 0,
      "outputs": []
    },
    {
      "cell_type": "code",
      "metadata": {
        "id": "ktXn4NGsWUEY",
        "colab_type": "code",
        "colab": {}
      },
      "source": [
        "import skimage as im"
      ],
      "execution_count": 0,
      "outputs": []
    },
    {
      "cell_type": "code",
      "metadata": {
        "id": "hyBxPz2nWY3_",
        "colab_type": "code",
        "outputId": "105ea2f9-def7-4f60-e7ca-0c9a5d1a7ba5",
        "colab": {
          "base_uri": "https://localhost:8080/",
          "height": 141
        }
      },
      "source": [
        "draw('test.jpg')\n",
        "\n",
        "test_img = im.io.imread('test.jpg')\n",
        "test_img = np.array(test_img)\n",
        "test_img = test_img.transpose(2, 0, 1)[3] / 255\n",
        "test_img = im.transform.resize(test_img, (28, 28), anti_aliasing=True)\n",
        "test_img = test_img.reshape((1, 28, 28, 1))\n",
        "\n",
        "prediction = model_dummy.predict(test_img)\n",
        "\n",
        "print('Prediction : ' + chr(ascii_idx[np.argmax(prediction)]))"
      ],
      "execution_count": 0,
      "outputs": [
        {
          "output_type": "display_data",
          "data": {
            "text/html": [
              "\n",
              "<canvas width=100 height=100></canvas>\n",
              "<button>Finish</button>\n",
              "<script>\n",
              "var canvas = document.querySelector('canvas')\n",
              "var ctx = canvas.getContext('2d')\n",
              "ctx.lineWidth = 8\n",
              "var button = document.querySelector('button')\n",
              "var mouse = {x: 0, y: 0}\n",
              "canvas.addEventListener('mousemove', function(e) {\n",
              "  mouse.x = e.pageX - this.offsetLeft\n",
              "  mouse.y = e.pageY - this.offsetTop\n",
              "})\n",
              "canvas.onmousedown = ()=>{\n",
              "  ctx.beginPath()\n",
              "  ctx.moveTo(mouse.x, mouse.y)\n",
              "  canvas.addEventListener('mousemove', onPaint)\n",
              "}\n",
              "canvas.onmouseup = ()=>{\n",
              "  canvas.removeEventListener('mousemove', onPaint)\n",
              "}\n",
              "var onPaint = ()=>{\n",
              "  ctx.lineTo(mouse.x, mouse.y)\n",
              "  ctx.stroke()\n",
              "}\n",
              "var data = new Promise(resolve=>{\n",
              "  button.onclick = ()=>{\n",
              "    resolve(canvas.toDataURL('image/png'))\n",
              "  }\n",
              "})\n",
              "</script>\n"
            ],
            "text/plain": [
              "<IPython.core.display.HTML object>"
            ]
          },
          "metadata": {
            "tags": []
          }
        },
        {
          "output_type": "stream",
          "text": [
            "Prediction : K\n"
          ],
          "name": "stdout"
        }
      ]
    }
  ]
}