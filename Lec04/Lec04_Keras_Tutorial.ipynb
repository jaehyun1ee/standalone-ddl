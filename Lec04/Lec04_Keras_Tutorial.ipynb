{
  "nbformat": 4,
  "nbformat_minor": 0,
  "metadata": {
    "colab": {
      "name": "Lec04_Keras_Tutorial.ipynb",
      "version": "0.3.2",
      "provenance": [],
      "include_colab_link": true
    },
    "kernelspec": {
      "name": "python3",
      "display_name": "Python 3"
    }
  },
  "cells": [
    {
      "cell_type": "markdown",
      "metadata": {
        "id": "view-in-github",
        "colab_type": "text"
      },
      "source": [
        "<a href=\"https://colab.research.google.com/github/wenko99/Standalone_DDL/blob/master/Lec04/Lec04_Keras_Tutorial.ipynb\" target=\"_parent\"><img src=\"https://colab.research.google.com/assets/colab-badge.svg\" alt=\"Open In Colab\"/></a>"
      ]
    },
    {
      "cell_type": "code",
      "metadata": {
        "id": "pNzhAz57GMD1",
        "colab_type": "code",
        "outputId": "bb85f6dd-6896-4e71-f1df-44fab22b4b48",
        "colab": {
          "base_uri": "https://localhost:8080/",
          "height": 52
        }
      },
      "source": [
        "#from __future__ import absolute_import, division, print_function, unicode_literals, unicode_literals\n",
        "\n",
        "import tensorflow as tf\n",
        "\n",
        "import numpy as np\n",
        "import matplotlib.pyplot as plt\n",
        "\n",
        "print(tf.__version__)\n",
        "print(tf.keras.__version__)"
      ],
      "execution_count": 1,
      "outputs": [
        {
          "output_type": "stream",
          "text": [
            "2.0.0-beta1\n",
            "2.2.4-tf\n"
          ],
          "name": "stdout"
        }
      ]
    },
    {
      "cell_type": "code",
      "metadata": {
        "id": "mFMYj5cDgqth",
        "colab_type": "code",
        "colab": {}
      },
      "source": [
        "mnist = tf.keras.datasets.mnist\n",
        "(data, labels),(test_data, test_labels) = mnist.load_data()\n",
        "\n",
        "data, test_data = data / 255.0, test_data / 255.0\n",
        "\n",
        "train_data = data[:50000]\n",
        "train_labels = labels[:50000]\n",
        "val_data = data[50000:]\n",
        "val_labels = labels[50000:]"
      ],
      "execution_count": 0,
      "outputs": []
    },
    {
      "cell_type": "code",
      "metadata": {
        "id": "TboKyMsGg1l3",
        "colab_type": "code",
        "colab": {
          "base_uri": "https://localhost:8080/",
          "height": 298
        },
        "outputId": "50ef05c4-67af-4c3d-9576-13c97a205edf"
      },
      "source": [
        "idx = 0\n",
        "\n",
        "fig = plt.figure()\n",
        "for i in range(6):\n",
        "    ax = fig.add_subplot(2, 3, i + 1)\n",
        "    image = train_data[idx]\n",
        "    ax.imshow(image)\n",
        "    ax.set_title(\"label = {}\".format(train_labels[idx]))\n",
        "    idx += 1\n",
        "plt.subplots_adjust(hspace = 0.5, wspace = 0.3)\n",
        "plt.show()\n",
        "\n",
        "print(\"The shape of image is {}\".format(image.shape))"
      ],
      "execution_count": 3,
      "outputs": [
        {
          "output_type": "display_data",
          "data": {
            "image/png": "[encoded data removed]",
            "text/plain": [
              "<Figure size 432x288 with 6 Axes>"
            ]
          },
          "metadata": {
            "tags": []
          }
        },
        {
          "output_type": "stream",
          "text": [
            "The shape of image is (28, 28)\n"
          ],
          "name": "stdout"
        }
      ]
    },
    {
      "cell_type": "markdown",
      "metadata": {
        "id": "aSydvZHOVlq6",
        "colab_type": "text"
      },
      "source": [
        "##Keras : Sequential\n",
        "\n",
        "케라스에서는 모델의 심층신경망을 효율적으로 관리하기 위해 Sequential이라는 API를 사용할 수 있습니다."
      ]
    },
    {
      "cell_type": "code",
      "metadata": {
        "id": "t8PJdhRQGpDt",
        "colab_type": "code",
        "colab": {}
      },
      "source": [
        "model = tf.keras.Sequential()\n",
        "\n",
        "#model.add 함수는 이름 그대로 sequence에 layer를 추가해줍니다.\n",
        "\n",
        "model.add(tf.keras.layers.Dense(64, activation='relu')) # 64개의 유닛을 가진 fully-connected layer를 모델에 추가합니다.\n",
        "\n",
        "model.add(tf.keras.layers.Dense(64, activation='relu')) # 하나를 더 추가합니다.\n",
        "\n",
        "model.add(tf.keras.layers.Dense(10, activation='softmax')) # 10개의 출력 유닛을 가진 소프트맥스 층을 추가합니다."
      ],
      "execution_count": 0,
      "outputs": []
    },
    {
      "cell_type": "code",
      "metadata": {
        "id": "ldMTfpPZGzub",
        "colab_type": "code",
        "colab": {
          "base_uri": "https://localhost:8080/",
          "height": 34
        },
        "outputId": "0e6ccf66-add0-4725-a47f-2e616fe78531"
      },
      "source": [
        "tf.keras.layers.Dense(64, activation='sigmoid') # activation function을 sigmoid로 설정해줍니다.\n",
        "\n",
        "tf.keras.layers.Dense(64, activation=tf.keras.activations.sigmoid) # 이렇게도 할 수 있습니다.\n",
        "\n",
        "tf.keras.layers.Dense(64, kernel_regularizer=tf.keras.regularizers.l1(0.01)) # L1 regularization을 시행합니다.\n",
        "\n",
        "tf.keras.layers.Dense(64, bias_regularizer=tf.keras.regularizers.l2(0.01)) # L2 regularization을 시행합니다."
      ],
      "execution_count": 3,
      "outputs": [
        {
          "output_type": "execute_result",
          "data": {
            "text/plain": [
              "<tensorflow.python.keras.layers.core.Dense at 0x7fc64fec3dd8>"
            ]
          },
          "metadata": {
            "tags": []
          },
          "execution_count": 3
        }
      ]
    },
    {
      "cell_type": "code",
      "metadata": {
        "id": "EmEXnIrMHC62",
        "colab_type": "code",
        "colab": {}
      },
      "source": [
        "# model.add로 여러 번 추가해 줄 필요 없이 한번에 만들 수도 있습니다.\n",
        "\n",
        "model = tf.keras.models.Sequential([\n",
        "  tf.keras.layers.Flatten(input_shape=(28, 28)),\n",
        "  tf.keras.layers.Dense(64, activation='relu'),\n",
        "  tf.keras.layers.Dense(10, activation='softmax')\n",
        "])\n",
        "\n",
        "# compile을 사용하면 model이 어떤 optimizer(추후에 다룰 예정입니다), loss function, 기준(여기서는 accuracy)을 가지고 평가할지를 정합니다.\n",
        "\n",
        "model.compile(optimizer=tf.keras.optimizers.SGD(0.01), # 이 optimizer function 옆의 0.01은 learning rate를 뜻합니다.\n",
        "              loss='sparse_categorical_crossentropy', # 이 loss function은 crossentropy function입니다.\n",
        "              metrics=['accuracy'])"
      ],
      "execution_count": 0,
      "outputs": []
    },
    {
      "cell_type": "markdown",
      "metadata": {
        "id": "7B9c21ONWoti",
        "colab_type": "text"
      },
      "source": [
        "## Train\n",
        "\n",
        "model.fit을 사용하면 학습을 진행합니다. epochs는 학습횟수, batch_size는 한 batch에 올라갈 데이터의 크기를 나타냅니다."
      ]
    },
    {
      "cell_type": "code",
      "metadata": {
        "id": "BaiWfa03HW-X",
        "colab_type": "code",
        "outputId": "8d6f477f-0b0b-4cfe-ce53-8b9a70d25ff1",
        "colab": {
          "base_uri": "https://localhost:8080/",
          "height": 1000
        }
      },
      "source": [
        "hist = model.fit(train_data, train_labels, epochs=50, batch_size=1000, validation_data=(val_data, val_labels))"
      ],
      "execution_count": 6,
      "outputs": [
        {
          "output_type": "stream",
          "text": [
            "Train on 50000 samples, validate on 10000 samples\n",
            "Epoch 1/50\n",
            "50000/50000 [==============================] - 1s 13us/sample - loss: 0.2942 - accuracy: 0.9182 - val_loss: 0.2728 - val_accuracy: 0.9249\n",
            "Epoch 2/50\n",
            "50000/50000 [==============================] - 1s 11us/sample - loss: 0.2932 - accuracy: 0.9181 - val_loss: 0.2720 - val_accuracy: 0.9252\n",
            "Epoch 3/50\n",
            "50000/50000 [==============================] - 1s 11us/sample - loss: 0.2922 - accuracy: 0.9185 - val_loss: 0.2712 - val_accuracy: 0.9256\n",
            "Epoch 4/50\n",
            "50000/50000 [==============================] - 1s 11us/sample - loss: 0.2912 - accuracy: 0.9190 - val_loss: 0.2704 - val_accuracy: 0.9259\n",
            "Epoch 5/50\n",
            "50000/50000 [==============================] - 1s 11us/sample - loss: 0.2903 - accuracy: 0.9191 - val_loss: 0.2696 - val_accuracy: 0.9260\n",
            "Epoch 6/50\n",
            "50000/50000 [==============================] - 1s 11us/sample - loss: 0.2893 - accuracy: 0.9198 - val_loss: 0.2688 - val_accuracy: 0.9261\n",
            "Epoch 7/50\n",
            "50000/50000 [==============================] - 1s 11us/sample - loss: 0.2884 - accuracy: 0.9196 - val_loss: 0.2680 - val_accuracy: 0.9266\n",
            "Epoch 8/50\n",
            "50000/50000 [==============================] - 1s 11us/sample - loss: 0.2875 - accuracy: 0.9198 - val_loss: 0.2673 - val_accuracy: 0.9265\n",
            "Epoch 9/50\n",
            "50000/50000 [==============================] - 1s 11us/sample - loss: 0.2866 - accuracy: 0.9202 - val_loss: 0.2665 - val_accuracy: 0.9272\n",
            "Epoch 10/50\n",
            "50000/50000 [==============================] - 1s 11us/sample - loss: 0.2857 - accuracy: 0.9206 - val_loss: 0.2657 - val_accuracy: 0.9272\n",
            "Epoch 11/50\n",
            "50000/50000 [==============================] - 1s 11us/sample - loss: 0.2849 - accuracy: 0.9206 - val_loss: 0.2650 - val_accuracy: 0.9274\n",
            "Epoch 12/50\n",
            "50000/50000 [==============================] - 1s 11us/sample - loss: 0.2840 - accuracy: 0.9209 - val_loss: 0.2642 - val_accuracy: 0.9273\n",
            "Epoch 13/50\n",
            "50000/50000 [==============================] - 1s 11us/sample - loss: 0.2831 - accuracy: 0.9210 - val_loss: 0.2635 - val_accuracy: 0.9273\n",
            "Epoch 14/50\n",
            "50000/50000 [==============================] - 1s 11us/sample - loss: 0.2823 - accuracy: 0.9215 - val_loss: 0.2628 - val_accuracy: 0.9278\n",
            "Epoch 15/50\n",
            "50000/50000 [==============================] - 1s 11us/sample - loss: 0.2814 - accuracy: 0.9215 - val_loss: 0.2621 - val_accuracy: 0.9277\n",
            "Epoch 16/50\n",
            "50000/50000 [==============================] - 1s 11us/sample - loss: 0.2806 - accuracy: 0.9218 - val_loss: 0.2614 - val_accuracy: 0.9277\n",
            "Epoch 17/50\n",
            "50000/50000 [==============================] - 1s 11us/sample - loss: 0.2798 - accuracy: 0.9219 - val_loss: 0.2606 - val_accuracy: 0.9281\n",
            "Epoch 18/50\n",
            "50000/50000 [==============================] - 1s 12us/sample - loss: 0.2790 - accuracy: 0.9220 - val_loss: 0.2600 - val_accuracy: 0.9283\n",
            "Epoch 19/50\n",
            "50000/50000 [==============================] - 1s 12us/sample - loss: 0.2782 - accuracy: 0.9223 - val_loss: 0.2593 - val_accuracy: 0.9291\n",
            "Epoch 20/50\n",
            "50000/50000 [==============================] - 1s 12us/sample - loss: 0.2773 - accuracy: 0.9227 - val_loss: 0.2586 - val_accuracy: 0.9294\n",
            "Epoch 21/50\n",
            "50000/50000 [==============================] - 1s 11us/sample - loss: 0.2766 - accuracy: 0.9227 - val_loss: 0.2579 - val_accuracy: 0.9292\n",
            "Epoch 22/50\n",
            "50000/50000 [==============================] - 1s 11us/sample - loss: 0.2758 - accuracy: 0.9230 - val_loss: 0.2573 - val_accuracy: 0.9291\n",
            "Epoch 23/50\n",
            "50000/50000 [==============================] - 1s 11us/sample - loss: 0.2750 - accuracy: 0.9233 - val_loss: 0.2566 - val_accuracy: 0.9295\n",
            "Epoch 24/50\n",
            "50000/50000 [==============================] - 1s 11us/sample - loss: 0.2742 - accuracy: 0.9235 - val_loss: 0.2559 - val_accuracy: 0.9294\n",
            "Epoch 25/50\n",
            "50000/50000 [==============================] - 1s 11us/sample - loss: 0.2735 - accuracy: 0.9236 - val_loss: 0.2553 - val_accuracy: 0.9300\n",
            "Epoch 26/50\n",
            "50000/50000 [==============================] - 1s 11us/sample - loss: 0.2727 - accuracy: 0.9240 - val_loss: 0.2547 - val_accuracy: 0.9302\n",
            "Epoch 27/50\n",
            "50000/50000 [==============================] - 1s 11us/sample - loss: 0.2720 - accuracy: 0.9242 - val_loss: 0.2541 - val_accuracy: 0.9311\n",
            "Epoch 28/50\n",
            "50000/50000 [==============================] - 1s 11us/sample - loss: 0.2712 - accuracy: 0.9241 - val_loss: 0.2535 - val_accuracy: 0.9312\n",
            "Epoch 29/50\n",
            "50000/50000 [==============================] - 1s 11us/sample - loss: 0.2705 - accuracy: 0.9245 - val_loss: 0.2528 - val_accuracy: 0.9314\n",
            "Epoch 30/50\n",
            "50000/50000 [==============================] - 1s 11us/sample - loss: 0.2698 - accuracy: 0.9247 - val_loss: 0.2522 - val_accuracy: 0.9313\n",
            "Epoch 31/50\n",
            "50000/50000 [==============================] - 1s 11us/sample - loss: 0.2690 - accuracy: 0.9250 - val_loss: 0.2516 - val_accuracy: 0.9315\n",
            "Epoch 32/50\n",
            "50000/50000 [==============================] - 1s 11us/sample - loss: 0.2683 - accuracy: 0.9253 - val_loss: 0.2510 - val_accuracy: 0.9314\n",
            "Epoch 33/50\n",
            "50000/50000 [==============================] - 1s 11us/sample - loss: 0.2676 - accuracy: 0.9253 - val_loss: 0.2504 - val_accuracy: 0.9319\n",
            "Epoch 34/50\n",
            "50000/50000 [==============================] - 1s 11us/sample - loss: 0.2669 - accuracy: 0.9257 - val_loss: 0.2497 - val_accuracy: 0.9318\n",
            "Epoch 35/50\n",
            "50000/50000 [==============================] - 1s 11us/sample - loss: 0.2662 - accuracy: 0.9259 - val_loss: 0.2491 - val_accuracy: 0.9320\n",
            "Epoch 36/50\n",
            "50000/50000 [==============================] - 1s 11us/sample - loss: 0.2655 - accuracy: 0.9260 - val_loss: 0.2486 - val_accuracy: 0.9324\n",
            "Epoch 37/50\n",
            "50000/50000 [==============================] - 1s 11us/sample - loss: 0.2648 - accuracy: 0.9263 - val_loss: 0.2480 - val_accuracy: 0.9328\n",
            "Epoch 38/50\n",
            "50000/50000 [==============================] - 1s 11us/sample - loss: 0.2641 - accuracy: 0.9263 - val_loss: 0.2474 - val_accuracy: 0.9328\n",
            "Epoch 39/50\n",
            "50000/50000 [==============================] - 1s 11us/sample - loss: 0.2634 - accuracy: 0.9264 - val_loss: 0.2468 - val_accuracy: 0.9330\n",
            "Epoch 40/50\n",
            "50000/50000 [==============================] - 1s 11us/sample - loss: 0.2627 - accuracy: 0.9267 - val_loss: 0.2462 - val_accuracy: 0.9329\n",
            "Epoch 41/50\n",
            "50000/50000 [==============================] - 1s 11us/sample - loss: 0.2621 - accuracy: 0.9271 - val_loss: 0.2457 - val_accuracy: 0.9332\n",
            "Epoch 42/50\n",
            "50000/50000 [==============================] - 1s 11us/sample - loss: 0.2614 - accuracy: 0.9273 - val_loss: 0.2451 - val_accuracy: 0.9333\n",
            "Epoch 43/50\n",
            "50000/50000 [==============================] - 1s 11us/sample - loss: 0.2607 - accuracy: 0.9274 - val_loss: 0.2445 - val_accuracy: 0.9335\n",
            "Epoch 44/50\n",
            "50000/50000 [==============================] - 1s 11us/sample - loss: 0.2601 - accuracy: 0.9276 - val_loss: 0.2440 - val_accuracy: 0.9338\n",
            "Epoch 45/50\n",
            "50000/50000 [==============================] - 1s 11us/sample - loss: 0.2594 - accuracy: 0.9277 - val_loss: 0.2435 - val_accuracy: 0.9337\n",
            "Epoch 46/50\n",
            "50000/50000 [==============================] - 1s 11us/sample - loss: 0.2588 - accuracy: 0.9281 - val_loss: 0.2429 - val_accuracy: 0.9340\n",
            "Epoch 47/50\n",
            "50000/50000 [==============================] - 1s 11us/sample - loss: 0.2581 - accuracy: 0.9280 - val_loss: 0.2423 - val_accuracy: 0.9340\n",
            "Epoch 48/50\n",
            "50000/50000 [==============================] - 1s 11us/sample - loss: 0.2575 - accuracy: 0.9281 - val_loss: 0.2418 - val_accuracy: 0.9345\n",
            "Epoch 49/50\n",
            "50000/50000 [==============================] - 1s 11us/sample - loss: 0.2569 - accuracy: 0.9285 - val_loss: 0.2413 - val_accuracy: 0.9347\n",
            "Epoch 50/50\n",
            "50000/50000 [==============================] - 1s 11us/sample - loss: 0.2562 - accuracy: 0.9287 - val_loss: 0.2408 - val_accuracy: 0.9348\n"
          ],
          "name": "stdout"
        }
      ]
    },
    {
      "cell_type": "markdown",
      "metadata": {
        "id": "xVeGgi9BWAqI",
        "colab_type": "text"
      },
      "source": [
        "##Visualization\n",
        "\n",
        "model.fit은 history를 남기기때문에, 이를 hist = model.fit( ... ) 식으로 받고 아래와 같이 그래프를 그릴 수 있습니다."
      ]
    },
    {
      "cell_type": "code",
      "metadata": {
        "id": "_vG1x2FFRZup",
        "colab_type": "code",
        "colab": {
          "base_uri": "https://localhost:8080/",
          "height": 283
        },
        "outputId": "952065d9-30e1-4bba-bc6c-0112fe7a69b3"
      },
      "source": [
        "import matplotlib.pyplot as plt\n",
        "\n",
        "fig, loss_ax = plt.subplots()\n",
        "\n",
        "acc_ax = loss_ax.twinx()\n",
        "\n",
        "loss_ax.plot(hist.history['loss'], 'y', label='train loss')\n",
        "loss_ax.plot(hist.history['val_loss'], 'r', label='val loss')\n",
        "\n",
        "acc_ax.plot(hist.history['accuracy'], 'b', label='train acc')\n",
        "acc_ax.plot(hist.history['val_accuracy'], 'g', label='val acc')\n",
        "\n",
        "loss_ax.set_xlabel('epoch')\n",
        "loss_ax.set_ylabel('loss')\n",
        "acc_ax.set_ylabel('accuray')\n",
        "\n",
        "loss_ax.legend(loc='upper left')\n",
        "acc_ax.legend(loc='lower left')\n",
        "\n",
        "plt.show()"
      ],
      "execution_count": 7,
      "outputs": [
        {
          "output_type": "display_data",
          "data": {
            "image/png": "[encoded data removed]",
            "text/plain": [
              "<Figure size 432x288 with 2 Axes>"
            ]
          },
          "metadata": {
            "tags": []
          }
        }
      ]
    },
    {
      "cell_type": "markdown",
      "metadata": {
        "id": "1hvD36liWO2j",
        "colab_type": "text"
      },
      "source": [
        "##Test\n",
        "\n",
        "model.evaluate를 통해 모델의 성능 평가를 할 수 있습니다."
      ]
    },
    {
      "cell_type": "code",
      "metadata": {
        "id": "VxSfzwDaIKei",
        "colab_type": "code",
        "outputId": "18a59cbe-e753-4f06-f479-1288e47675f7",
        "colab": {
          "base_uri": "https://localhost:8080/",
          "height": 52
        }
      },
      "source": [
        "test_loss, test_acc = model.evaluate(test_data, test_labels)\n",
        "\n",
        "print('테스트 정확도:', test_acc)"
      ],
      "execution_count": 8,
      "outputs": [
        {
          "output_type": "stream",
          "text": [
            "10000/10000 [==============================] - 0s 40us/sample - loss: 0.2470 - accuracy: 0.9311\n",
            "테스트 정확도: 0.9311\n"
          ],
          "name": "stdout"
        }
      ]
    },
    {
      "cell_type": "markdown",
      "metadata": {
        "id": "WKGWfNi4WZ4Q",
        "colab_type": "text"
      },
      "source": [
        "###Prediction\n",
        "\n",
        "model.predict를 통해 모델이 data에 대해 예측한 label을 확인할 수 있습니다."
      ]
    },
    {
      "cell_type": "code",
      "metadata": {
        "id": "0hEWwpLOIP1t",
        "colab_type": "code",
        "colab": {}
      },
      "source": [
        "predictions = model.predict(test_data)"
      ],
      "execution_count": 0,
      "outputs": []
    }
  ]
}