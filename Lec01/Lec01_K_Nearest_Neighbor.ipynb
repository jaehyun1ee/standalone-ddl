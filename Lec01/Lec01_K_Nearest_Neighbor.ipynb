{
  "nbformat": 4,
  "nbformat_minor": 0,
  "metadata": {
    "colab": {
      "name": "Lec01_K_Nearest_Neighbor.ipynb",
      "version": "0.3.2",
      "provenance": [],
      "collapsed_sections": [],
      "include_colab_link": true
    },
    "kernelspec": {
      "name": "python3",
      "display_name": "Python 3"
    }
  },
  "cells": [
    {
      "cell_type": "markdown",
      "metadata": {
        "id": "view-in-github",
        "colab_type": "text"
      },
      "source": [
        "<a href=\"https://colab.research.google.com/github/wenko99/Standalone_DDL/blob/master/Lec01/Lec01_K_Nearest_Neighbor.ipynb\" target=\"_parent\"><img src=\"https://colab.research.google.com/assets/colab-badge.svg\" alt=\"Open In Colab\"/></a>"
      ]
    },
    {
      "cell_type": "markdown",
      "metadata": {
        "id": "7wpsybdQUzeB",
        "colab_type": "text"
      },
      "source": [
        "# Import Packages and Set Dataset"
      ]
    },
    {
      "cell_type": "code",
      "metadata": {
        "id": "RugW7rDWeP7B",
        "colab_type": "code",
        "colab": {}
      },
      "source": [
        "import numpy as np\n",
        "from sklearn import datasets\n",
        "iris = datasets.load_iris()\n",
        "iris_data = iris.data\n",
        "iris_labels = iris.target\n",
        "\n",
        "import pandas as pd\n",
        "\n",
        "df = pd.DataFrame(iris_data)\n",
        "df2 = pd.DataFrame(iris_labels)\n",
        "df = pd.concat([df, df2], axis=1, sort=False)\n",
        "df.columns = ['SepalLength', 'SepalWidth', 'PetalLength', 'PetalWidth', 'Classes']\n",
        "\n",
        "np.random.seed(7)\n",
        "df = df.reindex(np.random.permutation(df.index))\n",
        "\n",
        "iris_data = df.iloc[:, :4].values\n",
        "iris_labels = df.iloc[:, 4].values\n"
      ],
      "execution_count": 0,
      "outputs": []
    },
    {
      "cell_type": "markdown",
      "metadata": {
        "id": "Sf5iRnT9U9v0",
        "colab_type": "text"
      },
      "source": [
        "train data/labels : machine의 dataset입니다.\n",
        "\n",
        "test data/labels : machine의 성능을 테스트할 dataset입니다."
      ]
    },
    {
      "cell_type": "code",
      "metadata": {
        "id": "J2oy1dgsfC2m",
        "colab_type": "code",
        "colab": {}
      },
      "source": [
        "n_train_data = 130\n",
        "\n",
        "train_data = iris_data[ : n_train_data]\n",
        "train_labels = iris_labels[ : n_train_data]\n",
        "test_data = iris_data[n_train_data : ]\n",
        "test_labels = iris_labels[n_train_data : ]"
      ],
      "execution_count": 0,
      "outputs": []
    },
    {
      "cell_type": "markdown",
      "metadata": {
        "id": "EooUxClPfN6q",
        "colab_type": "text"
      },
      "source": [
        "## Define L2 distance function"
      ]
    },
    {
      "cell_type": "code",
      "metadata": {
        "id": "sM5mfCTQVySg",
        "colab_type": "code",
        "colab": {}
      },
      "source": [
        "def dist_l2(array1d, array2d):\n",
        "    dist = []\n",
        "    for i in range(len(array2d)):\n",
        "        dist.append(np.sqrt(np.square(array1d - array2d[i]).sum()))\n",
        "    return np.array(dist)"
      ],
      "execution_count": 0,
      "outputs": []
    },
    {
      "cell_type": "markdown",
      "metadata": {
        "id": "nMKYkBxDrPI6",
        "colab_type": "text"
      },
      "source": [
        "## Define Vote function"
      ]
    },
    {
      "cell_type": "code",
      "metadata": {
        "id": "8aF8FfQCrOwO",
        "colab_type": "code",
        "colab": {}
      },
      "source": [
        "def vote(idx_arr, labels):\n",
        "    classes = np.array([0, 0, 0])\n",
        "    for index in idx_arr:\n",
        "        classes[labels[index]] += 1\n",
        "    return classes.argmax()"
      ],
      "execution_count": 0,
      "outputs": []
    },
    {
      "cell_type": "markdown",
      "metadata": {
        "id": "F-C6WlABbw0V",
        "colab_type": "text"
      },
      "source": [
        "#Test Model"
      ]
    },
    {
      "cell_type": "code",
      "metadata": {
        "id": "HVLIXL7UhKFA",
        "colab_type": "code",
        "outputId": "a7e85241-31f8-4c99-f302-431f2abf60f3",
        "colab": {
          "base_uri": "https://localhost:8080/",
          "height": 34
        }
      },
      "source": [
        "acc = 0\n",
        "\n",
        "k = 5\n",
        "\n",
        "for i in range(len(test_data)):\n",
        "    dist = dist_l2(test_data[i], train_data)\n",
        "    index = np.argpartition(dist, k)\n",
        "    if test_labels[i] == vote(index[ : k], train_labels):\n",
        "        acc += 1\n",
        "\n",
        "acc /= len(test_data)\n",
        "\n",
        "print(\"Accuracy of K Nearest Neighbor : {:.2%}\".format(acc))"
      ],
      "execution_count": 5,
      "outputs": [
        {
          "output_type": "stream",
          "text": [
            "Accuracy of K Nearest Neighbor : 95.00%\n"
          ],
          "name": "stdout"
        }
      ]
    }
  ]
}